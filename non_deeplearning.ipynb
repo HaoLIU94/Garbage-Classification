{
  "nbformat": 4,
  "nbformat_minor": 0,
  "metadata": {
    "colab": {
      "name": "\bno_deep.ipynb",
      "version": "0.3.2",
      "provenance": [],
      "collapsed_sections": []
    },
    "kernelspec": {
      "name": "python3",
      "display_name": "Python 3"
    },
    "accelerator": "GPU"
  },
  "cells": [
    {
      "metadata": {
        "id": "vhAuu9Ud7Di3",
        "colab_type": "code",
        "outputId": "d87f791c-f15e-47d3-ec82-6ad2aa5b6e06",
        "colab": {
          "base_uri": "https://localhost:8080/",
          "height": 122
        }
      },
      "cell_type": "code",
      "source": [
        "from google.colab import drive\n",
        "drive.mount('/content/drive/')"
      ],
      "execution_count": 0,
      "outputs": [
        {
          "output_type": "stream",
          "text": [
            "Go to this URL in a browser: https://accounts.google.com/o/oauth2/auth?client_id=947318989803-6bn6qk8qdgf4n4g3pfee6491hc0brc4i.apps.googleusercontent.com&redirect_uri=urn%3Aietf%3Awg%3Aoauth%3A2.0%3Aoob&scope=email%20https%3A%2F%2Fwww.googleapis.com%2Fauth%2Fdocs.test%20https%3A%2F%2Fwww.googleapis.com%2Fauth%2Fdrive%20https%3A%2F%2Fwww.googleapis.com%2Fauth%2Fdrive.photos.readonly%20https%3A%2F%2Fwww.googleapis.com%2Fauth%2Fpeopleapi.readonly&response_type=code\n",
            "\n",
            "Enter your authorization code:\n",
            "··········\n",
            "Mounted at /content/drive/\n"
          ],
          "name": "stdout"
        }
      ]
    },
    {
      "metadata": {
        "id": "YgRZbU587QJ-",
        "colab_type": "code",
        "colab": {}
      },
      "cell_type": "code",
      "source": [
        "import os\n",
        "os.chdir(\"/content/drive/My Drive/Projects/Garbage-Classification\")"
      ],
      "execution_count": 0,
      "outputs": []
    },
    {
      "metadata": {
        "id": "ZZYBRS0J7HUA",
        "colab_type": "code",
        "colab": {}
      },
      "cell_type": "code",
      "source": [
        "from skimage import exposure\n",
        "from skimage import feature\n",
        "from imutils import paths\n",
        "import imutils\n",
        "import cv2"
      ],
      "execution_count": 0,
      "outputs": []
    },
    {
      "metadata": {
        "id": "O-0G-osY7ZRh",
        "colab_type": "code",
        "outputId": "deae81e6-3431-4528-bcca-bce0a57c3c12",
        "colab": {
          "base_uri": "https://localhost:8080/",
          "height": 34
        }
      },
      "cell_type": "code",
      "source": [
        "#image_path = \"GARBAGES/train/paper/paper1.jpg\"\n",
        "print(\"[INFO] extracting features...\")"
      ],
      "execution_count": 0,
      "outputs": [
        {
          "output_type": "stream",
          "text": [
            "[INFO] extracting features...\n"
          ],
          "name": "stdout"
        }
      ]
    },
    {
      "metadata": {
        "id": "TZMGn2tE7c2K",
        "colab_type": "code",
        "outputId": "392a573c-3a20-4f25-baad-101e1882e401",
        "colab": {
          "base_uri": "https://localhost:8080/",
          "height": 34
        }
      },
      "cell_type": "code",
      "source": [
        "os.listdir(\"GARBAGES/train\")"
      ],
      "execution_count": 0,
      "outputs": [
        {
          "output_type": "execute_result",
          "data": {
            "text/plain": [
              "['plastic', 'cardboard', 'trash', 'glass', 'metal', 'paper', '.DS_Store']"
            ]
          },
          "metadata": {
            "tags": []
          },
          "execution_count": 5
        }
      ]
    },
    {
      "metadata": {
        "id": "LV0v4yfy7edi",
        "colab_type": "code",
        "colab": {}
      },
      "cell_type": "code",
      "source": [
        "def load_features_points(datapath):\n",
        "    data = []\n",
        "    labels = []\n",
        "    for folder_class in os.listdir(datapath)[:-1]:\n",
        "        class_path = datapath + \"/\" + folder_class\n",
        "        # loop over the image paths in the training set\n",
        "        for imagePath in paths.list_images(class_path):\n",
        "            #print(imagePath)\n",
        "            # extract the class name of images\n",
        "            class_name = imagePath.split(\"/\")[-2]\n",
        "\n",
        "            # load the image, convert it to grayscale, and detect edges\n",
        "            image = cv2.imread(imagePath)\n",
        "            gray = cv2.cvtColor(image, cv2.COLOR_BGR2GRAY)\n",
        "            edge = imutils.auto_canny(gray)\n",
        "\n",
        "            # find contours in the edge map, keeping only the largest one\n",
        "            im2, contours, hierarchy = cv2.findContours(edge.copy(), cv2.RETR_EXTERNAL, cv2.CHAIN_APPROX_SIMPLE)\n",
        "\n",
        "            try: \n",
        "                hierarchy = hierarchy[0]\n",
        "            except: \n",
        "                hierarchy = []\n",
        "\n",
        "            height, width = edge.shape\n",
        "            min_x, min_y = width, height\n",
        "            max_x = max_y = 0\n",
        "            \n",
        "            # computes the bounding box for the contour\n",
        "            for contour, hier in zip(contours, hierarchy):\n",
        "                (x,y,w,h) = cv2.boundingRect(contour)\n",
        "                #if w > 50 and h > 50:\n",
        "                min_x, max_x = min(x, min_x), max(x+w, max_x)\n",
        "                min_y, max_y = min(y, min_y), max(y+h, max_y)\n",
        "                #if w > 50 and h > 50:\n",
        "                    #cv2.rectangle(gray, (x,y), (x+w,y+h), (255, 0, 0), 2)\n",
        "\n",
        "            #if max_x - min_x > 0 and max_y - min_y > 0:\n",
        "                #cv2.rectangle(gray, (min_x, min_y), (max_x, max_y), (255, 0, 0), 2)\n",
        "            \n",
        "            \n",
        "            \n",
        "            \n",
        "            #contourss = cv2.findContours(edged.copy(), cv2.RETR_EXTERNAL, cv2.CHAIN_APPROX_SIMPLE)\n",
        "            #conts = contourss[0] if imutils.is_cv2() else contourss[1]\n",
        "            #c = max(conts, key=cv2.contourArea)\n",
        "\n",
        "            # extract the area of trash im image\n",
        "            if max_x - min_x > 0 and max_y - min_y > 0:\n",
        "                trash = gray[min_y:max_y, min_x:max_x]\n",
        "            else:\n",
        "                trash = gray[max_y:min_y, max_x:min_x]\n",
        "            \n",
        "            trash = cv2.resize(trash, (128, 96))\n",
        "                #except:\n",
        "                    #print(min_y, max_y, min_x, max_x)\n",
        "                    #print(imagePath)\n",
        "                    #print(trash.shape)\n",
        "                    #print(trash)\n",
        "\n",
        "            # extract HoG from the trash\n",
        "            H = feature.hog(trash, orientations=9, pixels_per_cell=(16, 16), cells_per_block=(2, 2), transform_sqrt=True, block_norm=\"L1\")\n",
        "\n",
        "            # update the data and labels\n",
        "            data.append(H)\n",
        "            labels.append(class_name)\n",
        "        \n",
        "    return data, labels"
      ],
      "execution_count": 0,
      "outputs": []
    },
    {
      "metadata": {
        "id": "9_sOfyR67gti",
        "colab_type": "code",
        "outputId": "90a43fcc-37c5-473e-d798-ba9efffe63e1",
        "colab": {
          "base_uri": "https://localhost:8080/",
          "height": 71
        }
      },
      "cell_type": "code",
      "source": [
        "train_path = \"GARBAGES/train\"\n",
        "\n",
        "X_train, y_train = load_features_points(train_path)"
      ],
      "execution_count": 0,
      "outputs": [
        {
          "output_type": "stream",
          "text": [
            "/usr/local/lib/python3.6/dist-packages/skimage/feature/_hog.py:119: skimage_deprecation: Default value of `block_norm`==`L1` is deprecated and will be changed to `L2-Hys` in v0.15\n",
            "  'be changed to `L2-Hys` in v0.15', skimage_deprecation)\n"
          ],
          "name": "stderr"
        }
      ]
    },
    {
      "metadata": {
        "id": "8y2sUpn2Cdpf",
        "colab_type": "code",
        "outputId": "81b6f6ea-806f-4390-84b8-e8cd23f7c4c0",
        "colab": {
          "base_uri": "https://localhost:8080/",
          "height": 71
        }
      },
      "cell_type": "code",
      "source": [
        "test_path = \"GARBAGES/test\"\n",
        "\n",
        "X_test, y_test = load_features_points(test_path)"
      ],
      "execution_count": 0,
      "outputs": [
        {
          "output_type": "stream",
          "text": [
            "/usr/local/lib/python3.6/dist-packages/skimage/feature/_hog.py:119: skimage_deprecation: Default value of `block_norm`==`L1` is deprecated and will be changed to `L2-Hys` in v0.15\n",
            "  'be changed to `L2-Hys` in v0.15', skimage_deprecation)\n"
          ],
          "name": "stderr"
        }
      ]
    },
    {
      "metadata": {
        "id": "NrygHcvgD-eM",
        "colab_type": "code",
        "outputId": "e743f124-f0f4-4fe8-f815-00ad1c9bcd56",
        "colab": {
          "base_uri": "https://localhost:8080/",
          "height": 51
        }
      },
      "cell_type": "code",
      "source": [
        "print(\"length of X_train:\", len(y_train))\n",
        "print(\"length of X_test:\", len(y_test))"
      ],
      "execution_count": 0,
      "outputs": [
        {
          "output_type": "stream",
          "text": [
            "length of X_train: 1771\n",
            "length of X_test: 261\n"
          ],
          "name": "stdout"
        }
      ]
    },
    {
      "metadata": {
        "id": "qhcG-DGHCdsZ",
        "colab_type": "code",
        "colab": {}
      },
      "cell_type": "code",
      "source": [
        "from sklearn.svm import SVC"
      ],
      "execution_count": 0,
      "outputs": []
    },
    {
      "metadata": {
        "id": "kM2dODxQCdvv",
        "colab_type": "code",
        "outputId": "9c8f7642-33d4-4d18-b295-8e378696c39c",
        "colab": {
          "base_uri": "https://localhost:8080/",
          "height": 34
        }
      },
      "cell_type": "code",
      "source": [
        "clf = SVC(gamma=0.001, C=1000, kernel='rbf')\n",
        "\n",
        "clf.fit(X_train,y_train)\n",
        "print('score = ',clf.score(X_test,y_test))"
      ],
      "execution_count": 0,
      "outputs": [
        {
          "output_type": "stream",
          "text": [
            "score =  0.47126436781609193\n"
          ],
          "name": "stdout"
        }
      ]
    },
    {
      "metadata": {
        "id": "Htdyud_dCdyY",
        "colab_type": "code",
        "colab": {}
      },
      "cell_type": "code",
      "source": [
        ""
      ],
      "execution_count": 0,
      "outputs": []
    },
    {
      "metadata": {
        "id": "lkVQeqeGCd1B",
        "colab_type": "code",
        "colab": {}
      },
      "cell_type": "code",
      "source": [
        ""
      ],
      "execution_count": 0,
      "outputs": []
    },
    {
      "metadata": {
        "id": "Cizvl1ku7ipL",
        "colab_type": "code",
        "colab": {}
      },
      "cell_type": "code",
      "source": [
        "img = \"GARBAGES/train/plastic/plastic150.jpg\""
      ],
      "execution_count": 0,
      "outputs": []
    },
    {
      "metadata": {
        "id": "6_aSLclX8FPN",
        "colab_type": "code",
        "colab": {}
      },
      "cell_type": "code",
      "source": [
        "\"\"\"\n",
        "image = cv2.imread(img)\n",
        "gray = cv2.cvtColor(image, cv2.COLOR_BGR2GRAY)\n",
        "edge = imutils.auto_canny(gray)\n",
        "\n",
        "im2, contours, hierarchy = cv2.findContours(edge.copy(), cv2.RETR_EXTERNAL, cv2.CHAIN_APPROX_SIMPLE)\n",
        "\n",
        "try: \n",
        "    hierarchy = hierarchy[0]\n",
        "except: \n",
        "    hierarchy = []\n",
        "\n",
        "height, width = edge.shape\n",
        "min_x, min_y = width, height\n",
        "max_x = max_y = 0\n",
        "\n",
        "for contour, hier in zip(contours, hierarchy):\n",
        "    (x,y,w,h) = cv2.boundingRect(contour)\n",
        "    #if w > 50 and h > 50:\n",
        "    min_x, max_x = min(x, min_x), max(x+w, max_x)\n",
        "    min_y, max_y = min(y, min_y), max(y+h, max_y)\n",
        "    if w > 0 and h > 0:\n",
        "        cv2.rectangle(gray, (x,y), (x+w,y+h), (255, 0, 0), 2)\n",
        "\n",
        "if max_x - min_x > 0 and max_y - min_y > 0:\n",
        "    cv2.rectangle(gray, (min_x, min_y), (max_x, max_y), (255, 0, 0), 2)\n",
        "\"\"\""
      ],
      "execution_count": 0,
      "outputs": []
    },
    {
      "metadata": {
        "id": "wh516Ff38XxB",
        "colab_type": "code",
        "colab": {}
      },
      "cell_type": "code",
      "source": [
        "import matplotlib.pyplot as plt\n",
        "import matplotlib\n",
        "\n",
        "matplotlib.rcParams['axes.grid']=False"
      ],
      "execution_count": 0,
      "outputs": []
    },
    {
      "metadata": {
        "id": "cHUQ78o_8v3F",
        "colab_type": "code",
        "outputId": "dae3f141-c1f5-44fb-931d-e3657f190acb",
        "colab": {
          "base_uri": "https://localhost:8080/",
          "height": 367
        }
      },
      "cell_type": "code",
      "source": [
        "plt.imshow(gray)"
      ],
      "execution_count": 0,
      "outputs": [
        {
          "output_type": "execute_result",
          "data": {
            "text/plain": [
              "<matplotlib.image.AxesImage at 0x7f70a8e56160>"
            ]
          },
          "metadata": {
            "tags": []
          },
          "execution_count": 17
        },
        {
          "output_type": "display_data",
          "data": {
            "image/png": "[encoded data removed]",
            "text/plain": [
              "<Figure size 576x396 with 1 Axes>"
            ]
          },
          "metadata": {
            "tags": []
          }
        }
      ]
    },
    {
      "metadata": {
        "id": "mUT701qe8yQF",
        "colab_type": "code",
        "colab": {}
      },
      "cell_type": "code",
      "source": [
        ""
      ],
      "execution_count": 0,
      "outputs": []
    }
  ]
}