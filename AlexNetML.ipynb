{
 "cells": [
  {
   "cell_type": "code",
   "execution_count": 1,
   "metadata": {
    "colab": {
     "base_uri": "https://localhost:8080/",
     "height": 258
    },
    "colab_type": "code",
    "id": "Vh5W0cOAOoVW",
    "outputId": "55f6a7e1-a317-4a9a-b875-6a8bb234e004"
   },
   "outputs": [
    {
     "name": "stdout",
     "output_type": "stream",
     "text": [
      "Requirement already satisfied: torch in /home/hao/anaconda3/envs/py36/lib/python3.6/site-packages (1.0.0)\n",
      "\u001b[31mdistributed 1.21.8 requires msgpack, which is not installed.\u001b[0m\n",
      "\u001b[31mtensorflow 1.10.0 has requirement numpy<=1.14.5,>=1.13.3, but you'll have numpy 1.15.2 which is incompatible.\u001b[0m\n",
      "\u001b[33mYou are using pip version 10.0.1, however version 18.1 is available.\n",
      "You should consider upgrading via the 'pip install --upgrade pip' command.\u001b[0m\n",
      "Requirement already satisfied: torchvision in /home/hao/anaconda3/envs/py36/lib/python3.6/site-packages (0.2.1)\n",
      "Requirement already satisfied: torch in /home/hao/anaconda3/envs/py36/lib/python3.6/site-packages (from torchvision) (1.0.0)\n",
      "Requirement already satisfied: pillow>=4.1.1 in /home/hao/anaconda3/envs/py36/lib/python3.6/site-packages (from torchvision) (5.2.0)\n",
      "Requirement already satisfied: six in /home/hao/anaconda3/envs/py36/lib/python3.6/site-packages (from torchvision) (1.11.0)\n",
      "Requirement already satisfied: numpy in /home/hao/anaconda3/envs/py36/lib/python3.6/site-packages (from torchvision) (1.15.2)\n",
      "\u001b[31mdistributed 1.21.8 requires msgpack, which is not installed.\u001b[0m\n",
      "\u001b[31mtensorflow 1.10.0 has requirement numpy<=1.14.5,>=1.13.3, but you'll have numpy 1.15.2 which is incompatible.\u001b[0m\n",
      "\u001b[33mYou are using pip version 10.0.1, however version 18.1 is available.\n",
      "You should consider upgrading via the 'pip install --upgrade pip' command.\u001b[0m\n",
      "Requirement already satisfied: tqdm in /home/hao/anaconda3/envs/py36/lib/python3.6/site-packages (4.28.1)\n",
      "\u001b[31mdistributed 1.21.8 requires msgpack, which is not installed.\u001b[0m\n",
      "\u001b[31mtensorflow 1.10.0 has requirement numpy<=1.14.5,>=1.13.3, but you'll have numpy 1.15.2 which is incompatible.\u001b[0m\n",
      "\u001b[33mYou are using pip version 10.0.1, however version 18.1 is available.\n",
      "You should consider upgrading via the 'pip install --upgrade pip' command.\u001b[0m\n"
     ]
    }
   ],
   "source": [
    "!pip install torch\n",
    "!pip install torchvision\n",
    "!pip install tqdm"
   ]
  },
  {
   "cell_type": "code",
   "execution_count": 2,
   "metadata": {
    "colab": {
     "base_uri": "https://localhost:8080/",
     "height": 326
    },
    "colab_type": "code",
    "id": "GkcbxGXdOsTv",
    "outputId": "19648081-8c2c-426c-ab88-b47e866cdeb2"
   },
   "outputs": [],
   "source": [
    "# !pip install Pillow==4.0.0\n",
    "# !pip install PIL\n",
    "# !pip install image\n",
    "# from PIL import Image"
   ]
  },
  {
   "cell_type": "code",
   "execution_count": 3,
   "metadata": {
    "colab": {},
    "colab_type": "code",
    "id": "FxK3XObiOeBF"
   },
   "outputs": [],
   "source": [
    "import torch\n",
    "import torch.nn as nn\n",
    "import torch.optim as optim\n",
    "from torch.optim import lr_scheduler\n",
    "import numpy as np\n",
    "import time\n",
    "import os\n",
    "import argparse\n",
    "import torchvision\n",
    "from torch.autograd import Variable \n",
    "from torchvision import transforms\n",
    "from tqdm import tqdm"
   ]
  },
  {
   "cell_type": "code",
   "execution_count": 4,
   "metadata": {
    "colab": {
     "base_uri": "https://localhost:8080/",
     "height": 459
    },
    "colab_type": "code",
    "id": "dqD4EJhUOeB_",
    "outputId": "2972947e-f2f9-477e-fea0-9c4b64083499"
   },
   "outputs": [
    {
     "data": {
      "text/plain": [
       "AlexNet(\n",
       "  (features): Sequential(\n",
       "    (0): Conv2d(3, 64, kernel_size=(11, 11), stride=(4, 4), padding=(2, 2))\n",
       "    (1): ReLU(inplace)\n",
       "    (2): MaxPool2d(kernel_size=3, stride=2, padding=0, dilation=1, ceil_mode=False)\n",
       "    (3): Conv2d(64, 192, kernel_size=(5, 5), stride=(1, 1), padding=(2, 2))\n",
       "    (4): ReLU(inplace)\n",
       "    (5): MaxPool2d(kernel_size=3, stride=2, padding=0, dilation=1, ceil_mode=False)\n",
       "    (6): Conv2d(192, 384, kernel_size=(3, 3), stride=(1, 1), padding=(1, 1))\n",
       "    (7): ReLU(inplace)\n",
       "    (8): Conv2d(384, 256, kernel_size=(3, 3), stride=(1, 1), padding=(1, 1))\n",
       "    (9): ReLU(inplace)\n",
       "    (10): Conv2d(256, 256, kernel_size=(3, 3), stride=(1, 1), padding=(1, 1))\n",
       "    (11): ReLU(inplace)\n",
       "    (12): MaxPool2d(kernel_size=3, stride=2, padding=0, dilation=1, ceil_mode=False)\n",
       "  )\n",
       "  (classifier): Sequential(\n",
       "    (0): Dropout(p=0.5)\n",
       "    (1): Linear(in_features=9216, out_features=4096, bias=True)\n",
       "    (2): ReLU(inplace)\n",
       "    (3): Dropout(p=0.5)\n",
       "    (4): Linear(in_features=4096, out_features=4096, bias=True)\n",
       "    (5): ReLU(inplace)\n",
       "    (6): Linear(in_features=4096, out_features=1000, bias=True)\n",
       "  )\n",
       ")"
      ]
     },
     "execution_count": 4,
     "metadata": {},
     "output_type": "execute_result"
    }
   ],
   "source": [
    "## Load the model \n",
    "model_conv = torchvision.models.alexnet(pretrained=True)\n",
    "#Architecture of Alexnet\n",
    "model_conv"
   ]
  },
  {
   "cell_type": "code",
   "execution_count": 5,
   "metadata": {
    "colab": {},
    "colab_type": "code",
    "id": "ccmMiAVcSMjm"
   },
   "outputs": [],
   "source": [
    "n_class = 6# Number of filters in the bottleneck layer\n",
    "num_ftrs = model_conv.classifier[6].in_features\n",
    "# convert all the layers to list and remove the last one\n",
    "features = list(model_conv.classifier.children())[:-1]\n",
    "## Add the last layer based on the num of classes in our dataset\n",
    "features.extend([nn.Linear(num_ftrs, n_class)])\n",
    "## convert it into container and add it to our model class.\n",
    "model_conv.classifier = nn.Sequential(*features)"
   ]
  },
  {
   "cell_type": "code",
   "execution_count": 6,
   "metadata": {
    "colab": {},
    "colab_type": "code",
    "id": "ynl_WzLSOeCO"
   },
   "outputs": [],
   "source": [
    "def train_model(model, dataloaders, dataset_sizes, criterion, optimizer, scheduler, use_gpu, num_epochs=25, mixup = False, alpha = 0.1):\n",
    "    if use_gpu:\n",
    "        model.cuda()\n",
    "        criterion.cuda()\n",
    "    \n",
    "    print(\"MIXUP\".format(mixup))\n",
    "    since = time.time()\n",
    "    \n",
    "    # graphs\n",
    "    loss_values_train = []\n",
    "    loss_values_valid = []\n",
    "    acc_values_train = []\n",
    "    acc_values_valid = []\n",
    "\n",
    "    best_model_wts = model.state_dict()\n",
    "    best_acc = 0.0\n",
    "\n",
    "    for epoch in range(num_epochs):\n",
    "        print('Epoch {}/{}'.format(epoch, num_epochs - 1))\n",
    "        print('-' * 10)\n",
    "\n",
    "        # Each epoch has a training and validation phase\n",
    "        for phase in ['train', 'val']:\n",
    "            if phase == 'train':\n",
    "                scheduler.step()\n",
    "                model.train(True)  # Set model to training mode\n",
    "            else:\n",
    "                model.train(False)  # Set model to evaluate mode\n",
    "\n",
    "            running_loss = 0.0\n",
    "            running_corrects = 0\n",
    "\n",
    "            # Iterate over data.\n",
    "            print(phase)\n",
    "            for data in tqdm(dataloaders[phase]):\n",
    "                # get the inputs\n",
    "                inputs, labels = data\n",
    "                \n",
    "                #augementation using mixup\n",
    "                if phase == 'train' and mixup:\n",
    "                    inputs = mixup_batch(inputs, alpha)\n",
    "                    \n",
    "                if use_gpu:\n",
    "                    inputs, labels = inputs.cuda(), labels.cuda()\n",
    "                \n",
    "                # zero the parameter gradients\n",
    "                optimizer.zero_grad()\n",
    "\n",
    "                # forward\n",
    "                outputs = model(inputs)\n",
    "                if type(outputs) == tuple:\n",
    "                    outputs, _ = outputs\n",
    "                _, preds = torch.max(outputs, 1)\n",
    "                loss = criterion(outputs, labels)\n",
    "\n",
    "                # backward + optimize only if in training phase\n",
    "                if phase == 'train':\n",
    "                    loss.backward()\n",
    "                    optimizer.step()\n",
    "\n",
    "                # statistics\n",
    "                running_loss += loss.item()\n",
    "                running_corrects += int(torch.sum(preds == labels))\n",
    "\n",
    "            epoch_loss = running_loss / dataset_sizes[phase]\n",
    "            epoch_acc = running_corrects / dataset_sizes[phase]\n",
    "            \n",
    "            if phase == 'train':\n",
    "                loss_values_train.append(epoch_loss)\n",
    "                acc_values_train.append(epoch_acc)\n",
    "            else:\n",
    "                loss_values_valid.append(epoch_loss)\n",
    "                acc_values_valid.append(epoch_acc)\n",
    "\n",
    "            print('{} Loss: {:.4f} Acc: {:.4f}'.format(phase, epoch_loss, epoch_acc))\n",
    "\n",
    "            # deep copy the model\n",
    "            if phase == 'val' and epoch_acc > best_acc:\n",
    "                best_acc = epoch_acc\n",
    "                best_model_wts = model.state_dict()\n",
    "\n",
    "        print()\n",
    "\n",
    "    time_elapsed = time.time() - since\n",
    "    print('Training complete in {:.0f}m {:.0f}s'.format(\n",
    "        time_elapsed // 60, time_elapsed % 60))\n",
    "    print('Best val Acc: {:4f}'.format(best_acc))\n",
    "\n",
    "    # load best model weights\n",
    "    model.load_state_dict(best_model_wts)\n",
    "    return model, ((loss_values_train, acc_values_train), (loss_values_valid, acc_values_valid))"
   ]
  },
  {
   "cell_type": "code",
   "execution_count": 11,
   "metadata": {
    "colab": {
     "base_uri": "https://localhost:8080/",
     "height": 122
    },
    "colab_type": "code",
    "id": "_5SarxA-OeCQ",
    "outputId": "dab34e09-3483-4e28-8c7e-0118cb680968"
   },
   "outputs": [
    {
     "name": "stdout",
     "output_type": "stream",
     "text": [
      "['cardboard', 'glass', 'metal', 'paper', 'plastic', 'trash']\n",
      "{'train': 1771, 'val': 253}\n",
      "[Using CrossEntropyLoss...]\n",
      "[Using small learning rate with momentum...]\n",
      "[Creating Learning rate scheduler...]\n"
     ]
    }
   ],
   "source": [
    "## Loading the dataloaders -- Make sure that the data is saved in following way\n",
    "\"\"\"\n",
    "data/\n",
    "  - train/\n",
    "      - class_1 folder/\n",
    "          - img1.png\n",
    "          - img2.png\n",
    "      - class_2 folder/\n",
    "      .....\n",
    "      - class_n folder/\n",
    "  - val/\n",
    "      - class_1 folder/\n",
    "      - class_2 folder/\n",
    "      ......\n",
    "      - class_n folder/\n",
    "\"\"\"\n",
    "\n",
    "data_dir = \"GARBAGES\"\n",
    "input_shape = 224\n",
    "batch_size = 256\n",
    "mean = [0.5, 0.5, 0.5]\n",
    "std = [0.5, 0.5, 0.5]\n",
    "scale = 360\n",
    "input_shape = 224\n",
    "use_parallel = False\n",
    "use_gpu = False\n",
    "epochs = 15\n",
    "\n",
    "data_transforms = transforms.Compose([\n",
    "        transforms.Resize(scale),\n",
    "        transforms.RandomResizedCrop(input_shape),\n",
    "        transforms.RandomHorizontalFlip(),\n",
    "        transforms.RandomVerticalFlip(),\n",
    "        transforms.RandomRotation(degrees=90),\n",
    "        transforms.ToTensor(),\n",
    "        transforms.Normalize(mean, std)])\n",
    "\n",
    "\n",
    "image_datasets = {x: torchvision.datasets.ImageFolder(os.path.join(data_dir, x),\n",
    "                                      data_transforms) for x in ['train', 'val']}\n",
    "dataloaders = {x: torch.utils.data.DataLoader(image_datasets[x], batch_size=batch_size,\n",
    "                                         shuffle=True, num_workers=4) for x in ['train', 'val']}\n",
    "dataset_sizes = {x: len(image_datasets[x]) for x in ['train', 'val']}\n",
    "class_names = image_datasets['train'].classes\n",
    "\n",
    "print (class_names)\n",
    "print (dataset_sizes)\n",
    "\n",
    "if use_parallel:\n",
    "    print(\"[Using all the available GPUs]\")\n",
    "    model_conv = nn.DataParallel(model_conv, device_ids=[0, 1])\n",
    "\n",
    "print(\"[Using CrossEntropyLoss...]\")\n",
    "criterion = nn.CrossEntropyLoss()\n",
    "\n",
    "print(\"[Using small learning rate with momentum...]\")\n",
    "optimizer_conv = optim.SGD(list(filter(lambda p: p.requires_grad, model_conv.parameters())), lr=0.001, momentum=0.9)\n",
    "\n",
    "print(\"[Creating Learning rate scheduler...]\")\n",
    "exp_lr_scheduler = lr_scheduler.StepLR(optimizer_conv, step_size=7, gamma=0.1)"
   ]
  },
  {
   "cell_type": "code",
   "execution_count": 12,
   "metadata": {
    "colab": {
     "base_uri": "https://localhost:8080/",
     "height": 10285
    },
    "colab_type": "code",
    "id": "S46UJZSifJwd",
    "outputId": "8506d10f-efb9-410d-ee05-9e41e4269bfb"
   },
   "outputs": [
    {
     "name": "stderr",
     "output_type": "stream",
     "text": [
      "\n",
      "  0%|          | 0/7 [00:00<?, ?it/s]\u001b[A"
     ]
    },
    {
     "name": "stdout",
     "output_type": "stream",
     "text": [
      "[Training the model begun ....]\n",
      "MIXUP\n",
      "Epoch 0/14\n",
      "----------\n",
      "train\n"
     ]
    },
    {
     "name": "stderr",
     "output_type": "stream",
     "text": [
      "\n",
      " 14%|█▍        | 1/7 [00:21<02:08, 21.35s/it]\u001b[A\n",
      " 29%|██▊       | 2/7 [00:31<01:30, 18.11s/it]\u001b[A\n",
      " 43%|████▎     | 3/7 [00:42<01:03, 15.84s/it]\u001b[A\n",
      " 57%|█████▋    | 4/7 [00:53<00:42, 14.28s/it]\u001b[A\n",
      " 71%|███████▏  | 5/7 [01:03<00:26, 13.16s/it]\u001b[A\n",
      " 86%|████████▌ | 6/7 [01:14<00:12, 12.37s/it]\u001b[A\n",
      "100%|██████████| 7/7 [01:23<00:00, 11.58s/it]\u001b[A\n",
      "\u001b[A\n",
      "  0%|          | 0/1 [00:00<?, ?it/s]\u001b[A"
     ]
    },
    {
     "name": "stdout",
     "output_type": "stream",
     "text": [
      "train Loss: 0.0069 Acc: 0.2405\n",
      "val\n"
     ]
    },
    {
     "name": "stderr",
     "output_type": "stream",
     "text": [
      "\n",
      "100%|██████████| 1/1 [00:07<00:00,  7.71s/it]\u001b[A\n",
      "\u001b[A\n",
      "  0%|          | 0/7 [00:00<?, ?it/s]\u001b[A"
     ]
    },
    {
     "name": "stdout",
     "output_type": "stream",
     "text": [
      "val Loss: 0.0060 Acc: 0.4032\n",
      "\n",
      "Epoch 1/14\n",
      "----------\n",
      "train\n"
     ]
    },
    {
     "name": "stderr",
     "output_type": "stream",
     "text": [
      "\n",
      " 14%|█▍        | 1/7 [00:20<02:01, 20.19s/it]\u001b[A\n",
      " 29%|██▊       | 2/7 [00:31<01:26, 17.40s/it]\u001b[A\n",
      " 43%|████▎     | 3/7 [00:41<01:01, 15.34s/it]\u001b[A\n",
      " 57%|█████▋    | 4/7 [00:52<00:42, 14.15s/it]\u001b[A\n",
      " 71%|███████▏  | 5/7 [01:03<00:26, 13.08s/it]\u001b[A\n",
      " 86%|████████▌ | 6/7 [01:14<00:12, 12.32s/it]\u001b[A\n",
      "100%|██████████| 7/7 [01:24<00:00, 11.60s/it]\u001b[A\n",
      "\u001b[A\n",
      "  0%|          | 0/1 [00:00<?, ?it/s]\u001b[A"
     ]
    },
    {
     "name": "stdout",
     "output_type": "stream",
     "text": [
      "train Loss: 0.0056 Acc: 0.4517\n",
      "val\n"
     ]
    },
    {
     "name": "stderr",
     "output_type": "stream",
     "text": [
      "\n",
      "100%|██████████| 1/1 [00:09<00:00,  9.85s/it]\u001b[A\n",
      "\u001b[A\n",
      "  0%|          | 0/7 [00:00<?, ?it/s]\u001b[A"
     ]
    },
    {
     "name": "stdout",
     "output_type": "stream",
     "text": [
      "val Loss: 0.0051 Acc: 0.4743\n",
      "\n",
      "Epoch 2/14\n",
      "----------\n",
      "train\n"
     ]
    },
    {
     "name": "stderr",
     "output_type": "stream",
     "text": [
      "\n",
      " 14%|█▍        | 1/7 [00:22<02:16, 22.69s/it]\u001b[A\n",
      " 29%|██▊       | 2/7 [00:33<01:35, 19.04s/it]\u001b[A\n",
      " 43%|████▎     | 3/7 [00:43<01:05, 16.49s/it]\u001b[A\n",
      " 57%|█████▋    | 4/7 [00:54<00:44, 14.69s/it]\u001b[A\n",
      " 71%|███████▏  | 5/7 [01:04<00:26, 13.44s/it]\u001b[A\n",
      " 86%|████████▌ | 6/7 [01:15<00:12, 12.55s/it]\u001b[A\n",
      "100%|██████████| 7/7 [01:24<00:00, 11.69s/it]\u001b[A\n",
      "\u001b[A\n",
      "  0%|          | 0/1 [00:00<?, ?it/s]\u001b[A"
     ]
    },
    {
     "name": "stdout",
     "output_type": "stream",
     "text": [
      "train Loss: 0.0048 Acc: 0.5234\n",
      "val\n"
     ]
    },
    {
     "name": "stderr",
     "output_type": "stream",
     "text": [
      "\n",
      "100%|██████████| 1/1 [00:08<00:00,  8.58s/it]\u001b[A\n",
      "\u001b[A\n",
      "  0%|          | 0/7 [00:00<?, ?it/s]\u001b[A"
     ]
    },
    {
     "name": "stdout",
     "output_type": "stream",
     "text": [
      "val Loss: 0.0046 Acc: 0.5375\n",
      "\n",
      "Epoch 3/14\n",
      "----------\n",
      "train\n"
     ]
    },
    {
     "name": "stderr",
     "output_type": "stream",
     "text": [
      "\n",
      " 14%|█▍        | 1/7 [00:21<02:06, 21.04s/it]\u001b[A\n",
      " 29%|██▊       | 2/7 [00:31<01:29, 17.89s/it]\u001b[A\n",
      " 43%|████▎     | 3/7 [00:42<01:02, 15.67s/it]\u001b[A\n",
      " 57%|█████▋    | 4/7 [00:52<00:42, 14.13s/it]\u001b[A\n",
      " 71%|███████▏  | 5/7 [01:03<00:26, 13.05s/it]\u001b[A\n",
      " 86%|████████▌ | 6/7 [01:13<00:12, 12.34s/it]\u001b[A\n",
      "100%|██████████| 7/7 [01:23<00:00, 11.54s/it]\u001b[A\n",
      "\u001b[A\n",
      "  0%|          | 0/1 [00:00<?, ?it/s]\u001b[A"
     ]
    },
    {
     "name": "stdout",
     "output_type": "stream",
     "text": [
      "train Loss: 0.0043 Acc: 0.5737\n",
      "val\n"
     ]
    },
    {
     "name": "stderr",
     "output_type": "stream",
     "text": [
      "\n",
      "100%|██████████| 1/1 [00:07<00:00,  7.71s/it]\u001b[A\n",
      "\u001b[A\n",
      "  0%|          | 0/7 [00:00<?, ?it/s]\u001b[A"
     ]
    },
    {
     "name": "stdout",
     "output_type": "stream",
     "text": [
      "val Loss: 0.0040 Acc: 0.6126\n",
      "\n",
      "Epoch 4/14\n",
      "----------\n",
      "train\n"
     ]
    },
    {
     "name": "stderr",
     "output_type": "stream",
     "text": [
      "\n",
      " 14%|█▍        | 1/7 [00:19<01:59, 19.90s/it]\u001b[A\n",
      " 29%|██▊       | 2/7 [00:30<01:25, 17.09s/it]\u001b[A\n",
      " 43%|████▎     | 3/7 [00:40<01:00, 15.12s/it]\u001b[A\n",
      " 57%|█████▋    | 4/7 [00:51<00:41, 13.74s/it]\u001b[A\n",
      " 71%|███████▏  | 5/7 [01:02<00:25, 12.78s/it]\u001b[A\n",
      " 86%|████████▌ | 6/7 [01:12<00:12, 12.10s/it]\u001b[A\n",
      "100%|██████████| 7/7 [01:22<00:00, 11.39s/it]\u001b[A\n",
      "\u001b[A\n",
      "  0%|          | 0/1 [00:00<?, ?it/s]\u001b[A"
     ]
    },
    {
     "name": "stdout",
     "output_type": "stream",
     "text": [
      "train Loss: 0.0040 Acc: 0.6143\n",
      "val\n"
     ]
    },
    {
     "name": "stderr",
     "output_type": "stream",
     "text": [
      "\n",
      "100%|██████████| 1/1 [00:07<00:00,  7.74s/it]\u001b[A\n",
      "\u001b[A\n",
      "  0%|          | 0/7 [00:00<?, ?it/s]\u001b[A"
     ]
    },
    {
     "name": "stdout",
     "output_type": "stream",
     "text": [
      "val Loss: 0.0037 Acc: 0.6126\n",
      "\n",
      "Epoch 5/14\n",
      "----------\n",
      "train\n"
     ]
    },
    {
     "name": "stderr",
     "output_type": "stream",
     "text": [
      "\n",
      " 14%|█▍        | 1/7 [00:20<02:00, 20.01s/it]\u001b[A\n",
      " 29%|██▊       | 2/7 [00:30<01:25, 17.18s/it]\u001b[A\n",
      " 43%|████▎     | 3/7 [00:41<01:00, 15.19s/it]\u001b[A\n",
      " 57%|█████▋    | 4/7 [00:51<00:41, 13.81s/it]\u001b[A\n",
      " 71%|███████▏  | 5/7 [01:02<00:25, 12.84s/it]\u001b[A\n",
      " 86%|████████▌ | 6/7 [01:12<00:12, 12.15s/it]\u001b[A\n",
      "100%|██████████| 7/7 [01:22<00:00, 11.42s/it]\u001b[A\n",
      "\u001b[A\n",
      "  0%|          | 0/1 [00:00<?, ?it/s]\u001b[A"
     ]
    },
    {
     "name": "stdout",
     "output_type": "stream",
     "text": [
      "train Loss: 0.0038 Acc: 0.6262\n",
      "val\n"
     ]
    },
    {
     "name": "stderr",
     "output_type": "stream",
     "text": [
      "\n",
      "100%|██████████| 1/1 [00:07<00:00,  7.76s/it]\u001b[A\n",
      "\u001b[A\n",
      "  0%|          | 0/7 [00:00<?, ?it/s]\u001b[A"
     ]
    },
    {
     "name": "stdout",
     "output_type": "stream",
     "text": [
      "val Loss: 0.0039 Acc: 0.5929\n",
      "\n",
      "Epoch 6/14\n",
      "----------\n",
      "train\n"
     ]
    },
    {
     "name": "stderr",
     "output_type": "stream",
     "text": [
      "\n",
      " 14%|█▍        | 1/7 [00:19<01:59, 19.97s/it]\u001b[A\n",
      " 29%|██▊       | 2/7 [00:30<01:25, 17.14s/it]\u001b[A\n",
      " 43%|████▎     | 3/7 [00:41<01:00, 15.19s/it]\u001b[A\n",
      " 57%|█████▋    | 4/7 [00:51<00:41, 13.80s/it]\u001b[A\n",
      " 71%|███████▏  | 5/7 [01:02<00:25, 12.83s/it]\u001b[A\n",
      " 86%|████████▌ | 6/7 [01:12<00:12, 12.14s/it]\u001b[A\n",
      "100%|██████████| 7/7 [01:22<00:00, 11.42s/it]\u001b[A\n",
      "\u001b[A\n",
      "  0%|          | 0/1 [00:00<?, ?it/s]\u001b[A"
     ]
    },
    {
     "name": "stdout",
     "output_type": "stream",
     "text": [
      "train Loss: 0.0038 Acc: 0.6318\n",
      "val\n"
     ]
    },
    {
     "name": "stderr",
     "output_type": "stream",
     "text": [
      "\n",
      "100%|██████████| 1/1 [00:07<00:00,  7.72s/it]\u001b[A\n",
      "\u001b[A\n",
      "  0%|          | 0/7 [00:00<?, ?it/s]\u001b[A"
     ]
    },
    {
     "name": "stdout",
     "output_type": "stream",
     "text": [
      "val Loss: 0.0034 Acc: 0.6680\n",
      "\n",
      "Epoch 7/14\n",
      "----------\n",
      "train\n"
     ]
    },
    {
     "name": "stderr",
     "output_type": "stream",
     "text": [
      "\n",
      " 14%|█▍        | 1/7 [00:19<01:59, 19.88s/it]\u001b[A\n",
      " 29%|██▊       | 2/7 [00:30<01:25, 17.07s/it]\u001b[A\n",
      " 43%|████▎     | 3/7 [00:40<01:00, 15.10s/it]\u001b[A\n",
      " 57%|█████▋    | 4/7 [00:51<00:41, 13.79s/it]\u001b[A\n",
      " 71%|███████▏  | 5/7 [01:02<00:25, 12.98s/it]\u001b[A\n",
      " 86%|████████▌ | 6/7 [01:14<00:12, 12.60s/it]\u001b[A\n",
      "100%|██████████| 7/7 [01:24<00:00, 11.80s/it]\u001b[A\n",
      "\u001b[A\n",
      "  0%|          | 0/1 [00:00<?, ?it/s]\u001b[A"
     ]
    },
    {
     "name": "stdout",
     "output_type": "stream",
     "text": [
      "train Loss: 0.0036 Acc: 0.6567\n",
      "val\n"
     ]
    },
    {
     "name": "stderr",
     "output_type": "stream",
     "text": [
      "\n",
      "100%|██████████| 1/1 [00:07<00:00,  7.75s/it]\u001b[A\n",
      "\u001b[A\n",
      "  0%|          | 0/7 [00:00<?, ?it/s]\u001b[A"
     ]
    },
    {
     "name": "stdout",
     "output_type": "stream",
     "text": [
      "val Loss: 0.0037 Acc: 0.6561\n",
      "\n",
      "Epoch 8/14\n",
      "----------\n",
      "train\n"
     ]
    },
    {
     "name": "stderr",
     "output_type": "stream",
     "text": [
      "\n",
      " 14%|█▍        | 1/7 [00:19<01:59, 19.87s/it]\u001b[A\n",
      " 29%|██▊       | 2/7 [00:30<01:25, 17.08s/it]\u001b[A\n",
      " 43%|████▎     | 3/7 [00:40<01:00, 15.12s/it]\u001b[A\n",
      " 57%|█████▋    | 4/7 [00:51<00:41, 13.76s/it]\u001b[A\n",
      " 71%|███████▏  | 5/7 [01:02<00:25, 12.80s/it]\u001b[A\n",
      " 86%|████████▌ | 6/7 [01:12<00:12, 12.15s/it]\u001b[A\n",
      "100%|██████████| 7/7 [01:22<00:00, 11.43s/it]\u001b[A\n",
      "\u001b[A\n",
      "  0%|          | 0/1 [00:00<?, ?it/s]\u001b[A"
     ]
    },
    {
     "name": "stdout",
     "output_type": "stream",
     "text": [
      "train Loss: 0.0036 Acc: 0.6550\n",
      "val\n"
     ]
    },
    {
     "name": "stderr",
     "output_type": "stream",
     "text": [
      "\n",
      "100%|██████████| 1/1 [00:07<00:00,  7.73s/it]\u001b[A\n",
      "\u001b[A\n",
      "  0%|          | 0/7 [00:00<?, ?it/s]\u001b[A"
     ]
    },
    {
     "name": "stdout",
     "output_type": "stream",
     "text": [
      "val Loss: 0.0034 Acc: 0.6601\n",
      "\n",
      "Epoch 9/14\n",
      "----------\n",
      "train\n"
     ]
    },
    {
     "name": "stderr",
     "output_type": "stream",
     "text": [
      "\n",
      " 14%|█▍        | 1/7 [00:19<01:59, 19.94s/it]\u001b[A\n",
      " 29%|██▊       | 2/7 [00:30<01:25, 17.17s/it]\u001b[A\n",
      " 43%|████▎     | 3/7 [00:41<01:00, 15.23s/it]\u001b[A\n",
      " 57%|█████▋    | 4/7 [00:52<00:41, 13.91s/it]\u001b[A\n",
      " 71%|███████▏  | 5/7 [01:03<00:26, 13.02s/it]\u001b[A\n",
      " 86%|████████▌ | 6/7 [01:14<00:12, 12.55s/it]\u001b[A\n",
      "100%|██████████| 7/7 [01:24<00:00, 11.71s/it]\u001b[A\n",
      "\u001b[A\n",
      "  0%|          | 0/1 [00:00<?, ?it/s]\u001b[A"
     ]
    },
    {
     "name": "stdout",
     "output_type": "stream",
     "text": [
      "train Loss: 0.0035 Acc: 0.6725\n",
      "val\n"
     ]
    },
    {
     "name": "stderr",
     "output_type": "stream",
     "text": [
      "\n",
      "100%|██████████| 1/1 [00:07<00:00,  7.93s/it]\u001b[A\n",
      "\u001b[A\n",
      "  0%|          | 0/7 [00:00<?, ?it/s]\u001b[A"
     ]
    },
    {
     "name": "stdout",
     "output_type": "stream",
     "text": [
      "val Loss: 0.0034 Acc: 0.6759\n",
      "\n",
      "Epoch 10/14\n",
      "----------\n",
      "train\n"
     ]
    },
    {
     "name": "stderr",
     "output_type": "stream",
     "text": [
      "\n",
      " 14%|█▍        | 1/7 [00:22<02:16, 22.80s/it]\u001b[A\n",
      " 29%|██▊       | 2/7 [00:36<01:40, 20.15s/it]\u001b[A\n",
      " 43%|████▎     | 3/7 [00:49<01:11, 17.87s/it]\u001b[A\n",
      " 57%|█████▋    | 4/7 [01:01<00:48, 16.06s/it]\u001b[A\n",
      " 71%|███████▏  | 5/7 [01:12<00:29, 14.72s/it]\u001b[A\n",
      " 86%|████████▌ | 6/7 [01:24<00:13, 13.75s/it]\u001b[A\n",
      "100%|██████████| 7/7 [01:34<00:00, 12.70s/it]\u001b[A\n",
      "\u001b[A\n",
      "  0%|          | 0/1 [00:00<?, ?it/s]\u001b[A"
     ]
    },
    {
     "name": "stdout",
     "output_type": "stream",
     "text": [
      "train Loss: 0.0034 Acc: 0.6685\n",
      "val\n"
     ]
    },
    {
     "name": "stderr",
     "output_type": "stream",
     "text": [
      "\n",
      "100%|██████████| 1/1 [00:09<00:00,  9.68s/it]\u001b[A\n",
      "\u001b[A\n",
      "  0%|          | 0/7 [00:00<?, ?it/s]\u001b[A"
     ]
    },
    {
     "name": "stdout",
     "output_type": "stream",
     "text": [
      "val Loss: 0.0034 Acc: 0.6640\n",
      "\n",
      "Epoch 11/14\n",
      "----------\n",
      "train\n"
     ]
    },
    {
     "name": "stderr",
     "output_type": "stream",
     "text": [
      "\n",
      " 14%|█▍        | 1/7 [00:28<02:48, 28.13s/it]\u001b[A\n",
      " 29%|██▊       | 2/7 [00:39<01:55, 23.15s/it]\u001b[A\n",
      " 43%|████▎     | 3/7 [00:52<01:19, 19.96s/it]\u001b[A\n",
      " 57%|█████▋    | 4/7 [01:07<00:55, 18.59s/it]\u001b[A\n",
      " 71%|███████▏  | 5/7 [01:23<00:35, 17.77s/it]\u001b[A\n",
      " 86%|████████▌ | 6/7 [01:37<00:16, 16.51s/it]\u001b[A\n",
      "100%|██████████| 7/7 [01:48<00:00, 15.12s/it]\u001b[A\n",
      "\u001b[A\n",
      "  0%|          | 0/1 [00:00<?, ?it/s]\u001b[A"
     ]
    },
    {
     "name": "stdout",
     "output_type": "stream",
     "text": [
      "train Loss: 0.0034 Acc: 0.6815\n",
      "val\n"
     ]
    },
    {
     "name": "stderr",
     "output_type": "stream",
     "text": [
      "\n",
      "100%|██████████| 1/1 [00:08<00:00,  8.27s/it]\u001b[A\n",
      "\u001b[A\n",
      "  0%|          | 0/7 [00:00<?, ?it/s]\u001b[A"
     ]
    },
    {
     "name": "stdout",
     "output_type": "stream",
     "text": [
      "val Loss: 0.0032 Acc: 0.6838\n",
      "\n",
      "Epoch 12/14\n",
      "----------\n",
      "train\n"
     ]
    },
    {
     "name": "stderr",
     "output_type": "stream",
     "text": [
      "\n",
      " 14%|█▍        | 1/7 [00:20<02:05, 20.99s/it]\u001b[A\n",
      " 29%|██▊       | 2/7 [00:32<01:31, 18.25s/it]\u001b[A\n",
      " 43%|████▎     | 3/7 [00:44<01:04, 16.15s/it]\u001b[A\n",
      " 57%|█████▋    | 4/7 [00:55<00:43, 14.59s/it]\u001b[A\n",
      " 71%|███████▏  | 5/7 [01:05<00:26, 13.41s/it]\u001b[A\n",
      " 86%|████████▌ | 6/7 [01:16<00:12, 12.60s/it]\u001b[A\n",
      "100%|██████████| 7/7 [01:26<00:00, 11.90s/it]\u001b[A\n",
      "\u001b[A\n",
      "  0%|          | 0/1 [00:00<?, ?it/s]\u001b[A"
     ]
    },
    {
     "name": "stdout",
     "output_type": "stream",
     "text": [
      "train Loss: 0.0034 Acc: 0.6742\n",
      "val\n"
     ]
    },
    {
     "name": "stderr",
     "output_type": "stream",
     "text": [
      "\n",
      "100%|██████████| 1/1 [00:08<00:00,  8.47s/it]\u001b[A\n",
      "\u001b[A\n",
      "  0%|          | 0/7 [00:00<?, ?it/s]\u001b[A"
     ]
    },
    {
     "name": "stdout",
     "output_type": "stream",
     "text": [
      "val Loss: 0.0033 Acc: 0.6838\n",
      "\n",
      "Epoch 13/14\n",
      "----------\n",
      "train\n"
     ]
    },
    {
     "name": "stderr",
     "output_type": "stream",
     "text": [
      "\n",
      " 14%|█▍        | 1/7 [00:22<02:15, 22.64s/it]\u001b[A\n",
      " 29%|██▊       | 2/7 [00:33<01:35, 19.11s/it]\u001b[A\n",
      " 43%|████▎     | 3/7 [00:44<01:06, 16.70s/it]\u001b[A\n",
      " 57%|█████▋    | 4/7 [00:55<00:45, 15.10s/it]\u001b[A\n",
      " 71%|███████▏  | 5/7 [01:07<00:27, 13.92s/it]\u001b[A\n",
      " 86%|████████▌ | 6/7 [01:18<00:13, 13.09s/it]\u001b[A\n",
      "100%|██████████| 7/7 [01:29<00:00, 12.55s/it]\u001b[A\n",
      "\u001b[A\n",
      "  0%|          | 0/1 [00:00<?, ?it/s]\u001b[A"
     ]
    },
    {
     "name": "stdout",
     "output_type": "stream",
     "text": [
      "train Loss: 0.0035 Acc: 0.6652\n",
      "val\n"
     ]
    },
    {
     "name": "stderr",
     "output_type": "stream",
     "text": [
      "\n",
      "100%|██████████| 1/1 [00:09<00:00,  9.35s/it]\u001b[A\n",
      "\u001b[A\n",
      "  0%|          | 0/7 [00:00<?, ?it/s]\u001b[A"
     ]
    },
    {
     "name": "stdout",
     "output_type": "stream",
     "text": [
      "val Loss: 0.0032 Acc: 0.6917\n",
      "\n",
      "Epoch 14/14\n",
      "----------\n",
      "train\n"
     ]
    },
    {
     "name": "stderr",
     "output_type": "stream",
     "text": [
      "\n",
      " 14%|█▍        | 1/7 [00:26<02:40, 26.73s/it]\u001b[A\n",
      " 29%|██▊       | 2/7 [00:40<01:53, 22.77s/it]\u001b[A\n",
      " 43%|████▎     | 3/7 [00:53<01:19, 19.95s/it]\u001b[A\n",
      " 57%|█████▋    | 4/7 [01:06<00:53, 17.81s/it]\u001b[A\n",
      " 71%|███████▏  | 5/7 [01:19<00:32, 16.26s/it]\u001b[A\n",
      " 86%|████████▌ | 6/7 [01:31<00:15, 15.16s/it]\u001b[A\n",
      "100%|██████████| 7/7 [01:42<00:00, 14.00s/it]\u001b[A\n",
      "\u001b[A\n",
      "  0%|          | 0/1 [00:00<?, ?it/s]\u001b[A"
     ]
    },
    {
     "name": "stdout",
     "output_type": "stream",
     "text": [
      "train Loss: 0.0035 Acc: 0.6719\n",
      "val\n"
     ]
    },
    {
     "name": "stderr",
     "output_type": "stream",
     "text": [
      "\n",
      "100%|██████████| 1/1 [00:07<00:00,  7.88s/it]\u001b[A\n",
      "\u001b[A"
     ]
    },
    {
     "name": "stdout",
     "output_type": "stream",
     "text": [
      "val Loss: 0.0034 Acc: 0.6759\n",
      "\n",
      "Training complete in 24m 5s\n",
      "Best val Acc: 0.691700\n"
     ]
    }
   ],
   "source": [
    "print(\"[Training the model begun ....]\")\n",
    "# train_model function\n",
    "model_ft, t = train_model(model_conv, dataloaders, dataset_sizes, criterion, optimizer_conv, exp_lr_scheduler, use_gpu,\n",
    "                     num_epochs=epochs)"
   ]
  },
  {
   "cell_type": "code",
   "execution_count": 13,
   "metadata": {
    "colab": {
     "base_uri": "https://localhost:8080/",
     "height": 735
    },
    "colab_type": "code",
    "id": "HGKOJomDlpXx",
    "outputId": "36adccef-fe1c-457a-e423-50fa9e343c27"
   },
   "outputs": [
    {
     "data": {
      "text/plain": [
       "<Figure size 640x480 with 1 Axes>"
      ]
     },
     "metadata": {},
     "output_type": "display_data"
    },
    {
     "data": {
      "text/plain": [
       "<Figure size 640x480 with 1 Axes>"
      ]
     },
     "metadata": {},
     "output_type": "display_data"
    }
   ],
   "source": [
    "import matplotlib.pyplot as plt\n",
    "%matplotlib inline\n",
    "#Loss\n",
    "x = range(15)\n",
    "plt.figure()\n",
    "plt.plot(x, t[0][0], \"b\", label=\"train\")\n",
    "plt.plot(x, t[1][0], \"r\", label=\"valid\")\n",
    "plt.title(\"Loss values\")\n",
    "plt.xlabel(\"Epoch\")\n",
    "plt.ylabel(\"Epoch loss\")\n",
    "plt.legend()\n",
    "plt.savefig(\"Loss.png\")\n",
    "plt.show()\n",
    "#Accu\n",
    "x = range(15)\n",
    "plt.figure()\n",
    "plt.plot(x, t[0][1], \"b\", label=\"train\")\n",
    "plt.plot(x, t[1][1], \"r\", label=\"valid\")\n",
    "plt.title(\"Accuracy values\")\n",
    "plt.xlabel(\"Epoch\")\n",
    "plt.ylabel(\"Epoch accuracy\")\n",
    "plt.legend()\n",
    "plt.savefig(\"Accu.png\")\n",
    "plt.show()"
   ]
  },
  {
   "cell_type": "code",
   "execution_count": 0,
   "metadata": {
    "colab": {},
    "colab_type": "code",
    "id": "QzMa_2gmlNBs"
   },
   "outputs": [],
   "source": [
    "# print(\"[Training the model begun ....]\")\n",
    "# # train_model function is here: https://github.com/Prakashvanapalli/pytorch_classifiers/blob/master/tars/tars_training.py\n",
    "# model_ft, t1 = train_model(model_conv, dataloaders, dataset_sizes, criterion, optimizer_conv, exp_lr_scheduler, use_gpu,\n",
    "#                      num_epochs=4)"
   ]
  },
  {
   "cell_type": "code",
   "execution_count": 0,
   "metadata": {
    "colab": {},
    "colab_type": "code",
    "id": "mLaHubwllhvm"
   },
   "outputs": [],
   "source": [
    "# x = range(12)\n",
    "# plt.figure()\n",
    "# plt.plot(x, t[0][0]+t1[0][0], \"b\", label=\"train\")\n",
    "# plt.plot(x, t[1][0]+t1[1][0], \"r\", label=\"valid\")\n",
    "# plt.title(\"Loss values\")\n",
    "# plt.xlabel(\"Epoch\")\n",
    "# plt.ylabel(\"Epoch loss\")\n",
    "# plt.legend()\n",
    "# plt.savefig('Loss.png')\n",
    "# plt.show()\n",
    "\n",
    "# x = range(12)\n",
    "# plt.figure()\n",
    "# plt.plot(x, t[0][1]+t1[0][1], \"b\", label=\"train\")\n",
    "# plt.plot(x, t[1][1]+t1[1][1], \"r\", label=\"valid\")\n",
    "# plt.title(\"Accuracy values\")\n",
    "# plt.xlabel(\"Epoch\")\n",
    "# plt.ylabel(\"Epoch accuracy\")\n",
    "# plt.legend()\n",
    "# plt.savefig('Acc.png')\n",
    "# plt.show()"
   ]
  }
 ],
 "metadata": {
  "accelerator": "GPU",
  "colab": {
   "collapsed_sections": [],
   "name": "AlexNetML.ipynb",
   "provenance": [],
   "version": "0.3.2"
  },
  "kernelspec": {
   "display_name": "Python 3",
   "language": "python",
   "name": "python3"
  },
  "language_info": {
   "codemirror_mode": {
    "name": "ipython",
    "version": 3
   },
   "file_extension": ".py",
   "mimetype": "text/x-python",
   "name": "python",
   "nbconvert_exporter": "python",
   "pygments_lexer": "ipython3",
   "version": "3.6.5"
  }
 },
 "nbformat": 4,
 "nbformat_minor": 1
}
