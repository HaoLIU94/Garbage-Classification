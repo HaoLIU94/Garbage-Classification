{
  "nbformat": 4,
  "nbformat_minor": 0,
  "metadata": {
    "colab": {
      "name": "Untitled0.ipynb",
      "version": "0.3.2",
      "provenance": [],
      "collapsed_sections": []
    },
    "kernelspec": {
      "name": "python3",
      "display_name": "Python 3"
    },
    "accelerator": "GPU"
  },
  "cells": [
    {
      "metadata": {
        "id": "nzhMj-5xPuRG",
        "colab_type": "code",
        "outputId": "5d13bb7d-aac3-4e3b-ac56-34c4de54b0f9",
        "colab": {
          "base_uri": "https://localhost:8080/",
          "height": 34
        }
      },
      "cell_type": "code",
      "source": [
        "from google.colab import drive\n",
        "drive.mount('/content/drive')"
      ],
      "execution_count": 1,
      "outputs": [
        {
          "output_type": "stream",
          "text": [
            "Drive already mounted at /content/drive; to attempt to forcibly remount, call drive.mount(\"/content/drive\", force_remount=True).\n"
          ],
          "name": "stdout"
        }
      ]
    },
    {
      "metadata": {
        "id": "-L4gEFMtP38q",
        "colab_type": "code",
        "colab": {}
      },
      "cell_type": "code",
      "source": [
        "import os\n",
        "os.chdir(\"/content/drive/My Drive/Projects/Garbage-Classification/\")"
      ],
      "execution_count": 0,
      "outputs": []
    },
    {
      "metadata": {
        "id": "_qFtnRIJT2pd",
        "colab_type": "code",
        "colab": {}
      },
      "cell_type": "code",
      "source": [
        "# http://pytorch.org/\n",
        "from os.path import exists\n",
        "from wheel.pep425tags import get_abbr_impl, get_impl_ver, get_abi_tag\n",
        "platform = '{}{}-{}'.format(get_abbr_impl(), get_impl_ver(), get_abi_tag())\n",
        "cuda_output = !ldconfig -p|grep cudart.so|sed -e 's/.*\\.\\([0-9]*\\)\\.\\([0-9]*\\)$/cu\\1\\2/'\n",
        "accelerator = cuda_output[0] if exists('/dev/nvidia0') else 'cpu'\n",
        "\n",
        "!pip install -q http://download.pytorch.org/whl/{accelerator}/torch-0.4.1-{platform}-linux_x86_64.whl torchvision"
      ],
      "execution_count": 0,
      "outputs": []
    },
    {
      "metadata": {
        "id": "bxOQMHUEu06U",
        "colab_type": "code",
        "outputId": "50f91106-31c5-43f2-cb93-18f6499ed059",
        "colab": {
          "base_uri": "https://localhost:8080/",
          "height": 377
        }
      },
      "cell_type": "code",
      "source": [
        "#!pip install --no-cache-dir -I pillow\n",
        "!pip install Pillow==4.0.0\n",
        "!pip install PIL\n",
        "!pip install image\n",
        "from PIL import Image"
      ],
      "execution_count": 4,
      "outputs": [
        {
          "output_type": "stream",
          "text": [
            "Collecting Pillow==4.0.0\n",
            "  Using cached https://files.pythonhosted.org/packages/37/e8/b3fbf87b0188d22246678f8cd61e23e31caa1769ebc06f1664e2e5fe8a17/Pillow-4.0.0-cp36-cp36m-manylinux1_x86_64.whl\n",
            "Requirement already satisfied: olefile in /usr/local/lib/python3.6/dist-packages (from Pillow==4.0.0) (0.46)\n",
            "\u001b[31mtorchvision 0.2.1 has requirement pillow>=4.1.1, but you'll have pillow 4.0.0 which is incompatible.\u001b[0m\n",
            "Installing collected packages: Pillow\n",
            "  Found existing installation: Pillow 5.4.1\n",
            "    Uninstalling Pillow-5.4.1:\n",
            "      Successfully uninstalled Pillow-5.4.1\n",
            "Successfully installed Pillow-4.0.0\n",
            "\u001b[0;31;1mWARNING: The following packages were previously imported in this runtime:\n",
            "  [PIL]\n",
            "You must restart the runtime in order to use newly installed versions.\u001b[0m\n",
            "Collecting PIL\n",
            "\u001b[31m  Could not find a version that satisfies the requirement PIL (from versions: )\u001b[0m\n",
            "\u001b[31mNo matching distribution found for PIL\u001b[0m\n",
            "Requirement already satisfied: image in /usr/local/lib/python3.6/dist-packages (1.5.27)\n",
            "Requirement already satisfied: pillow in /usr/local/lib/python3.6/dist-packages (from image) (4.0.0)\n",
            "Requirement already satisfied: django in /usr/local/lib/python3.6/dist-packages (from image) (2.1.5)\n",
            "Requirement already satisfied: olefile in /usr/local/lib/python3.6/dist-packages (from pillow->image) (0.46)\n",
            "Requirement already satisfied: pytz in /usr/local/lib/python3.6/dist-packages (from django->image) (2018.9)\n"
          ],
          "name": "stdout"
        }
      ]
    },
    {
      "metadata": {
        "id": "YubtMGE1QeSF",
        "colab_type": "code",
        "colab": {}
      },
      "cell_type": "code",
      "source": [
        "import torch\n",
        "import torch.nn as nn\n",
        "import torch.optim as optim\n",
        "from torch.optim import lr_scheduler\n",
        "import numpy as np\n",
        "import time\n",
        "import os\n",
        "import argparse\n",
        "import torchvision\n",
        "from torch.autograd import Variable \n",
        "from torchvision import transforms\n",
        "from tqdm import tqdm"
      ],
      "execution_count": 0,
      "outputs": []
    },
    {
      "metadata": {
        "id": "ExSbQhtNa2hJ",
        "colab_type": "code",
        "outputId": "693eb4f5-39d7-4ebc-cf0e-ae30c0787c51",
        "colab": {
          "base_uri": "https://localhost:8080/",
          "height": 34
        }
      },
      "cell_type": "code",
      "source": [
        "USE_GPU = True\n",
        "\n",
        "dtype = torch.float32 # we will be using float throughout this tutorial\n",
        "\n",
        "if USE_GPU and torch.cuda.is_available():\n",
        "    device = torch.device('cuda')\n",
        "else:\n",
        "    device = torch.device('cpu')\n",
        "\n",
        "# Constant to control how frequently we print train loss\n",
        "print_every = 100\n",
        "\n",
        "print('using device:', device)"
      ],
      "execution_count": 6,
      "outputs": [
        {
          "output_type": "stream",
          "text": [
            "using device: cuda\n"
          ],
          "name": "stdout"
        }
      ]
    },
    {
      "metadata": {
        "id": "SnkojEIYTzqT",
        "colab_type": "code",
        "colab": {}
      },
      "cell_type": "code",
      "source": [
        "# torch vision transform to preprocessinbg data\n",
        "data_dir = \"GARBAGES\"\n",
        "input_shape = 224\n",
        "batch_size = 64\n",
        "mean = [0.5, 0.5, 0.5]\n",
        "std = [0.5, 0.5, 0.5]\n",
        "scale = 360\n",
        "use_parallel = False\n",
        "use_gpu = False\n",
        "epochs = 15\n",
        "\n",
        "data_transforms = transforms.Compose([\n",
        "        transforms.Resize(scale),\n",
        "        transforms.RandomResizedCrop(input_shape),\n",
        "        transforms.RandomHorizontalFlip(),\n",
        "        transforms.RandomVerticalFlip(),\n",
        "        transforms.RandomRotation(degrees=90),\n",
        "        transforms.ToTensor(),\n",
        "        transforms.Normalize(mean, std)])"
      ],
      "execution_count": 0,
      "outputs": []
    },
    {
      "metadata": {
        "id": "WIKYSA_xjzq3",
        "colab_type": "code",
        "colab": {}
      },
      "cell_type": "code",
      "source": [
        "image_datasets = {x: torchvision.datasets.ImageFolder(os.path.join(data_dir, x), data_transforms) for x in ['train', 'val', 'test']}\n",
        "dataloaders = {x: torch.utils.data.DataLoader(image_datasets[x], batch_size=batch_size, shuffle=True, num_workers=4) for x in ['train', 'val', 'test']}"
      ],
      "execution_count": 0,
      "outputs": []
    },
    {
      "metadata": {
        "id": "lcB8z9CQkyRl",
        "colab_type": "code",
        "colab": {}
      },
      "cell_type": "code",
      "source": [
        "dataset_sizes = {x: len(image_datasets[x]) for x in ['train', 'val', 'test']}\n",
        "class_names = image_datasets['train'].classes"
      ],
      "execution_count": 0,
      "outputs": []
    },
    {
      "metadata": {
        "id": "aeN00xPsBDM9",
        "colab_type": "code",
        "outputId": "662baeb4-bded-4609-967f-d36ecd169631",
        "colab": {
          "base_uri": "https://localhost:8080/",
          "height": 34
        }
      },
      "cell_type": "code",
      "source": [
        "len(class_names)"
      ],
      "execution_count": 10,
      "outputs": [
        {
          "output_type": "execute_result",
          "data": {
            "text/plain": [
              "6"
            ]
          },
          "metadata": {
            "tags": []
          },
          "execution_count": 10
        }
      ]
    },
    {
      "metadata": {
        "id": "baSnaOP1lZjl",
        "colab_type": "code",
        "outputId": "39d5bf71-f215-4f3e-b4cc-2b41398abfa6",
        "colab": {
          "base_uri": "https://localhost:8080/",
          "height": 34
        }
      },
      "cell_type": "code",
      "source": [
        "imgs, _ = next(iter(dataloaders['train']))\n",
        "print(\"size of input batch: \", imgs.shape)"
      ],
      "execution_count": 11,
      "outputs": [
        {
          "output_type": "stream",
          "text": [
            "size of input batch:  torch.Size([64, 3, 224, 224])\n"
          ],
          "name": "stdout"
        }
      ]
    },
    {
      "metadata": {
        "id": "dXuDVFoav_zO",
        "colab_type": "code",
        "colab": {}
      },
      "cell_type": "code",
      "source": [
        ""
      ],
      "execution_count": 0,
      "outputs": []
    },
    {
      "metadata": {
        "id": "3jjTHe96p6xY",
        "colab_type": "code",
        "colab": {}
      },
      "cell_type": "code",
      "source": [
        "def flatten(x):\n",
        "    n = x.shape[0]\n",
        "    return x.view(n, -1)"
      ],
      "execution_count": 0,
      "outputs": []
    },
    {
      "metadata": {
        "id": "HGEalLrMwGFk",
        "colab_type": "code",
        "colab": {}
      },
      "cell_type": "code",
      "source": [
        "import torch.nn.functional as F"
      ],
      "execution_count": 0,
      "outputs": []
    },
    {
      "metadata": {
        "id": "8iuXcg4-mvV2",
        "colab_type": "code",
        "colab": {}
      },
      "cell_type": "code",
      "source": [
        "class ConvNetSimple(nn.Module):\n",
        "    def __init__(self, nb_channel_in, nb_channel1, nb_channel2, num_classe):\n",
        "        super().__init__()\n",
        "        self.conv1 = nn.Conv2d(nb_channel_in, nb_channel1, kernel_size=5, padding=2)\n",
        "        nn.init.kaiming_normal_(self.conv1.weight)\n",
        "        nn.init.constant_(self.conv1.bias, 0)\n",
        "        \n",
        "        self.conv2 = nn.Conv2d(nb_channel1, nb_channel2, kernel_size=3, padding=1)\n",
        "        nn.init.kaiming_normal_(self.conv2.weight)\n",
        "        nn.init.constant_(self.conv2.bias, 0)\n",
        "        \n",
        "        self.bnconv2 = nn.BatchNorm2d(nb_channel2)\n",
        "        \n",
        "        self.fc1 = nn.Linear(in_features=nb_channel2*56*56, out_features=1000)\n",
        "        nn.init.xavier_normal_(self.fc1.weight)\n",
        "        nn.init.constant_(self.fc1.bias, 0)\n",
        "        \n",
        "        self.fc2 = nn.Linear(in_features=1000, out_features=len(class_names))\n",
        "        nn.init.xavier_normal_(self.fc2.weight)\n",
        "        nn.init.constant_(self.fc2.bias, 0)\n",
        "        \n",
        "        self.bnlinear = nn.BatchNorm1d(1000)\n",
        "        \n",
        "    def forward(self, x):\n",
        "        #x = F.relu(self.conv1(x))\n",
        "        x = self.conv1(x)\n",
        "        x = F.relu(F.max_pool2d(x,2))\n",
        "        x = self.conv2(x)\n",
        "        x = self.bnconv2(x)\n",
        "        x = F.relu(F.max_pool2d(x,2))\n",
        "        \n",
        "        #x = self.bnconv2(x)\n",
        "        x = flatten(x)\n",
        "        x = F.relu( self.bnlinear( self.fc1(x) ) )\n",
        "        x = F.relu( self.fc2(x) )\n",
        "        \n",
        "        return x        "
      ],
      "execution_count": 0,
      "outputs": []
    },
    {
      "metadata": {
        "id": "UTGmshuIj25i",
        "colab_type": "code",
        "colab": {}
      },
      "cell_type": "code",
      "source": [
        "#optim.SGD?"
      ],
      "execution_count": 0,
      "outputs": []
    },
    {
      "metadata": {
        "id": "Dwp9w56f91ba",
        "colab_type": "code",
        "colab": {}
      },
      "cell_type": "code",
      "source": [
        "import time\n",
        "\n",
        "def train(model, use_gpu):\n",
        "    \n",
        "    # 2.setup graphs\n",
        "    train_loss=[]\n",
        "    train_accuracy=[]\n",
        "    valid_loss=[]\n",
        "    valid_accuracy=[]\n",
        "    \n",
        "    # 3.create criterion and optimizer\n",
        "    criterion = nn.CrossEntropyLoss()\n",
        "    optimizer = optim.SGD(model.parameters(), lr=0.01, momentum=0.9)\n",
        "    \n",
        "    # 1.move the model parameters to CPU/GPU and set time\n",
        "    if use_gpu:\n",
        "        model.cuda()\n",
        "        criterion.cuda()\n",
        "    since = time.time()\n",
        "    \n",
        "    # 4.create scheduler\n",
        "    #scheduler = optim.lr_scheduler.ReduceLROnPlateau(optimizer)\n",
        "    \n",
        "    # 6.model saving\n",
        "    best_valid_acc = 0\n",
        "    best_model = model.state_dict()\n",
        "    \n",
        "    # 5.train\n",
        "    print(\"[Training the model begun ....]\")\n",
        "    for e in range(epochs):\n",
        "        print(\"Epoch {}/{}\".format(e, epochs-1))\n",
        "        print('-'*10)\n",
        "        \n",
        "        running_loss = 0.0\n",
        "        running_corrects = 0\n",
        "        \n",
        "        # Set model to training mode\n",
        "        model.train()\n",
        "        \n",
        "        # Iterate over data\n",
        "        for inputs, labels in tqdm(dataloaders['train']):\n",
        "            if use_gpu:\n",
        "                inputs = inputs.cuda()\n",
        "                labels = labels.cuda()\n",
        "            \n",
        "            # Zero out all of the gradients for the variables which the optimizer will update.\n",
        "            optimizer.zero_grad()\n",
        "            \n",
        "            # forward and loss\n",
        "            outputs = model(inputs)\n",
        "            _, preds = torch.max(outputs,1)\n",
        "            loss = criterion(outputs, labels)\n",
        "            \n",
        "            # This is the backwards pass: compute the gradient of the loss with respect to each parameter of the model.\n",
        "            loss.backward()\n",
        "            optimizer.step()\n",
        "    \n",
        "            running_loss +=loss.item()\n",
        "            running_corrects += int(torch.sum(preds == labels))\n",
        "        \n",
        "        epoch_train_loss = running_loss / dataset_sizes['train']\n",
        "        epoch_train_acc = running_corrects / dataset_sizes['train']\n",
        "        print(\"train loss: {:.4f}   train acc: {:.4f}\".format(epoch_train_loss, epoch_train_acc))\n",
        "        \n",
        "        train_loss.append(epoch_train_loss)\n",
        "        train_accuracy.append(epoch_train_acc)\n",
        "        \n",
        "        running_loss_val = 0.0\n",
        "        running_corrects_val = 0\n",
        "        model.eval()\n",
        "        for inputs, labels in tqdm(dataloaders['val']):\n",
        "            #model.eval()\n",
        "            if use_gpu:\n",
        "                inputs = inputs.cuda()\n",
        "                labels = labels.cuda()\n",
        "            valid_score = model(inputs)\n",
        "            _, preds = torch.max(valid_score,1)\n",
        "            validation_loss = criterion(valid_score, labels)\n",
        "            running_loss_val += validation_loss.item()\n",
        "            running_corrects_val += int(torch.sum(preds == labels))\n",
        "        epoch_valid_loss = running_loss_val / dataset_sizes['val']\n",
        "        epoch_valid_acc = running_corrects_val / dataset_sizes['val']\n",
        "        valid_loss.append(epoch_valid_loss)\n",
        "        valid_accuracy.append(epoch_valid_acc)\n",
        "        print(\"valid loss: {:.4f}   valid acc: {:.4f}\".format(epoch_valid_loss, epoch_valid_acc))\n",
        "        \n",
        "        # deep copy the model\n",
        "        if epoch_valid_acc > best_valid_acc:\n",
        "            best_valid_acc = epoch_valid_acc\n",
        "            best_model = model.state_dict()\n",
        "        \n",
        "        #scheduler.step(validation_loss)\n",
        "    time_elapsed = time.time() - since\n",
        "    print('Training complete in {:.0f}m {:.0f}s'.format(time_elapsed // 60, time_elapsed % 60))\n",
        "    \n",
        "    # load best model weights\n",
        "    model.load_state_dict(best_model)\n",
        "    return model, (train_loss, train_accuracy, valid_loss, valid_accuracy)\n",
        "        "
      ],
      "execution_count": 0,
      "outputs": []
    },
    {
      "metadata": {
        "id": "RJOrgMefCkkk",
        "colab_type": "code",
        "outputId": "204c9189-a7d9-4dcb-ec8c-6d03a1103d29",
        "colab": {
          "base_uri": "https://localhost:8080/",
          "height": 1581
        }
      },
      "cell_type": "code",
      "source": [
        "model = ConvNetSimple(3, 16, 8, len(class_names))\n",
        "best_model, stats = train(model, True)"
      ],
      "execution_count": 17,
      "outputs": [
        {
          "output_type": "stream",
          "text": [
            "\r  0%|          | 0/28 [00:00<?, ?it/s]"
          ],
          "name": "stderr"
        },
        {
          "output_type": "stream",
          "text": [
            "[Training the model begun ....]\n",
            "Epoch 0/14\n",
            "----------\n"
          ],
          "name": "stdout"
        },
        {
          "output_type": "stream",
          "text": [
            "100%|██████████| 28/28 [00:21<00:00,  1.32it/s]\n",
            "  0%|          | 0/4 [00:00<?, ?it/s]"
          ],
          "name": "stderr"
        },
        {
          "output_type": "stream",
          "text": [
            "train loss: 0.0268   train acc: 0.3043\n"
          ],
          "name": "stdout"
        },
        {
          "output_type": "stream",
          "text": [
            "100%|██████████| 4/4 [00:03<00:00,  1.19it/s]\n",
            "  0%|          | 0/28 [00:00<?, ?it/s]"
          ],
          "name": "stderr"
        },
        {
          "output_type": "stream",
          "text": [
            "valid loss: 0.0276   valid acc: 0.2490\n",
            "Epoch 1/14\n",
            "----------\n"
          ],
          "name": "stdout"
        },
        {
          "output_type": "stream",
          "text": [
            "100%|██████████| 28/28 [00:21<00:00,  1.32it/s]\n",
            "  0%|          | 0/4 [00:00<?, ?it/s]"
          ],
          "name": "stderr"
        },
        {
          "output_type": "stream",
          "text": [
            "train loss: 0.0239   train acc: 0.4077\n"
          ],
          "name": "stdout"
        },
        {
          "output_type": "stream",
          "text": [
            "100%|██████████| 4/4 [00:03<00:00,  1.22it/s]\n",
            "  0%|          | 0/28 [00:00<?, ?it/s]"
          ],
          "name": "stderr"
        },
        {
          "output_type": "stream",
          "text": [
            "valid loss: 0.0250   valid acc: 0.3913\n",
            "Epoch 2/14\n",
            "----------\n"
          ],
          "name": "stdout"
        },
        {
          "output_type": "stream",
          "text": [
            "100%|██████████| 28/28 [00:21<00:00,  1.33it/s]\n",
            "  0%|          | 0/4 [00:00<?, ?it/s]"
          ],
          "name": "stderr"
        },
        {
          "output_type": "stream",
          "text": [
            "train loss: 0.0230   train acc: 0.4337\n"
          ],
          "name": "stdout"
        },
        {
          "output_type": "stream",
          "text": [
            "100%|██████████| 4/4 [00:03<00:00,  1.21it/s]\n",
            "  0%|          | 0/28 [00:00<?, ?it/s]"
          ],
          "name": "stderr"
        },
        {
          "output_type": "stream",
          "text": [
            "valid loss: 0.0226   valid acc: 0.4190\n",
            "Epoch 3/14\n",
            "----------\n"
          ],
          "name": "stdout"
        },
        {
          "output_type": "stream",
          "text": [
            "100%|██████████| 28/28 [00:21<00:00,  1.33it/s]\n",
            "  0%|          | 0/4 [00:00<?, ?it/s]"
          ],
          "name": "stderr"
        },
        {
          "output_type": "stream",
          "text": [
            "train loss: 0.0225   train acc: 0.4416\n"
          ],
          "name": "stdout"
        },
        {
          "output_type": "stream",
          "text": [
            "100%|██████████| 4/4 [00:03<00:00,  2.16s/it]\n",
            "  0%|          | 0/28 [00:00<?, ?it/s]"
          ],
          "name": "stderr"
        },
        {
          "output_type": "stream",
          "text": [
            "valid loss: 0.0235   valid acc: 0.4308\n",
            "Epoch 4/14\n",
            "----------\n"
          ],
          "name": "stdout"
        },
        {
          "output_type": "stream",
          "text": [
            "100%|██████████| 28/28 [00:21<00:00,  1.33it/s]\n",
            "  0%|          | 0/4 [00:00<?, ?it/s]"
          ],
          "name": "stderr"
        },
        {
          "output_type": "stream",
          "text": [
            "train loss: 0.0217   train acc: 0.4613\n"
          ],
          "name": "stdout"
        },
        {
          "output_type": "stream",
          "text": [
            "100%|██████████| 4/4 [00:03<00:00,  1.22it/s]\n",
            "  0%|          | 0/28 [00:00<?, ?it/s]"
          ],
          "name": "stderr"
        },
        {
          "output_type": "stream",
          "text": [
            "valid loss: 0.0237   valid acc: 0.4032\n",
            "Epoch 5/14\n",
            "----------\n"
          ],
          "name": "stdout"
        },
        {
          "output_type": "stream",
          "text": [
            "100%|██████████| 28/28 [00:20<00:00,  1.34it/s]\n",
            "  0%|          | 0/4 [00:00<?, ?it/s]"
          ],
          "name": "stderr"
        },
        {
          "output_type": "stream",
          "text": [
            "train loss: 0.0216   train acc: 0.4647\n"
          ],
          "name": "stdout"
        },
        {
          "output_type": "stream",
          "text": [
            "100%|██████████| 4/4 [00:03<00:00,  1.24it/s]\n",
            "  0%|          | 0/28 [00:00<?, ?it/s]"
          ],
          "name": "stderr"
        },
        {
          "output_type": "stream",
          "text": [
            "valid loss: 0.0212   valid acc: 0.4862\n",
            "Epoch 6/14\n",
            "----------\n"
          ],
          "name": "stdout"
        },
        {
          "output_type": "stream",
          "text": [
            "100%|██████████| 28/28 [00:21<00:00,  1.33it/s]\n",
            "  0%|          | 0/4 [00:00<?, ?it/s]"
          ],
          "name": "stderr"
        },
        {
          "output_type": "stream",
          "text": [
            "train loss: 0.0208   train acc: 0.5116\n"
          ],
          "name": "stdout"
        },
        {
          "output_type": "stream",
          "text": [
            "100%|██████████| 4/4 [00:03<00:00,  1.21it/s]\n",
            "  0%|          | 0/28 [00:00<?, ?it/s]"
          ],
          "name": "stderr"
        },
        {
          "output_type": "stream",
          "text": [
            "valid loss: 0.0206   valid acc: 0.5375\n",
            "Epoch 7/14\n",
            "----------\n"
          ],
          "name": "stdout"
        },
        {
          "output_type": "stream",
          "text": [
            "100%|██████████| 28/28 [00:21<00:00,  1.32it/s]\n",
            "  0%|          | 0/4 [00:00<?, ?it/s]"
          ],
          "name": "stderr"
        },
        {
          "output_type": "stream",
          "text": [
            "train loss: 0.0208   train acc: 0.5144\n"
          ],
          "name": "stdout"
        },
        {
          "output_type": "stream",
          "text": [
            "100%|██████████| 4/4 [00:03<00:00,  1.24it/s]\n",
            "  0%|          | 0/28 [00:00<?, ?it/s]"
          ],
          "name": "stderr"
        },
        {
          "output_type": "stream",
          "text": [
            "valid loss: 0.0204   valid acc: 0.5020\n",
            "Epoch 8/14\n",
            "----------\n"
          ],
          "name": "stdout"
        },
        {
          "output_type": "stream",
          "text": [
            "100%|██████████| 28/28 [00:21<00:00,  1.32it/s]\n",
            "  0%|          | 0/4 [00:00<?, ?it/s]"
          ],
          "name": "stderr"
        },
        {
          "output_type": "stream",
          "text": [
            "train loss: 0.0203   train acc: 0.5274\n"
          ],
          "name": "stdout"
        },
        {
          "output_type": "stream",
          "text": [
            "100%|██████████| 4/4 [00:03<00:00,  1.19it/s]\n",
            "  0%|          | 0/28 [00:00<?, ?it/s]"
          ],
          "name": "stderr"
        },
        {
          "output_type": "stream",
          "text": [
            "valid loss: 0.0194   valid acc: 0.4980\n",
            "Epoch 9/14\n",
            "----------\n"
          ],
          "name": "stdout"
        },
        {
          "output_type": "stream",
          "text": [
            "100%|██████████| 28/28 [00:21<00:00,  1.33it/s]\n",
            "  0%|          | 0/4 [00:00<?, ?it/s]"
          ],
          "name": "stderr"
        },
        {
          "output_type": "stream",
          "text": [
            "train loss: 0.0199   train acc: 0.5274\n"
          ],
          "name": "stdout"
        },
        {
          "output_type": "stream",
          "text": [
            "100%|██████████| 4/4 [00:03<00:00,  1.24it/s]\n",
            "  0%|          | 0/28 [00:00<?, ?it/s]"
          ],
          "name": "stderr"
        },
        {
          "output_type": "stream",
          "text": [
            "valid loss: 0.0197   valid acc: 0.5494\n",
            "Epoch 10/14\n",
            "----------\n"
          ],
          "name": "stdout"
        },
        {
          "output_type": "stream",
          "text": [
            "100%|██████████| 28/28 [00:20<00:00,  1.34it/s]\n",
            "  0%|          | 0/4 [00:00<?, ?it/s]"
          ],
          "name": "stderr"
        },
        {
          "output_type": "stream",
          "text": [
            "train loss: 0.0193   train acc: 0.5426\n"
          ],
          "name": "stdout"
        },
        {
          "output_type": "stream",
          "text": [
            "100%|██████████| 4/4 [00:03<00:00,  1.20it/s]\n",
            "  0%|          | 0/28 [00:00<?, ?it/s]"
          ],
          "name": "stderr"
        },
        {
          "output_type": "stream",
          "text": [
            "valid loss: 0.0197   valid acc: 0.5296\n",
            "Epoch 11/14\n",
            "----------\n"
          ],
          "name": "stdout"
        },
        {
          "output_type": "stream",
          "text": [
            "100%|██████████| 28/28 [00:21<00:00,  1.33it/s]\n",
            "  0%|          | 0/4 [00:00<?, ?it/s]"
          ],
          "name": "stderr"
        },
        {
          "output_type": "stream",
          "text": [
            "train loss: 0.0193   train acc: 0.5426\n"
          ],
          "name": "stdout"
        },
        {
          "output_type": "stream",
          "text": [
            "100%|██████████| 4/4 [00:03<00:00,  1.24it/s]\n",
            "  0%|          | 0/28 [00:00<?, ?it/s]"
          ],
          "name": "stderr"
        },
        {
          "output_type": "stream",
          "text": [
            "valid loss: 0.0220   valid acc: 0.4862\n",
            "Epoch 12/14\n",
            "----------\n"
          ],
          "name": "stdout"
        },
        {
          "output_type": "stream",
          "text": [
            "100%|██████████| 28/28 [00:21<00:00,  1.33it/s]\n",
            "  0%|          | 0/4 [00:00<?, ?it/s]"
          ],
          "name": "stderr"
        },
        {
          "output_type": "stream",
          "text": [
            "train loss: 0.0192   train acc: 0.5415\n"
          ],
          "name": "stdout"
        },
        {
          "output_type": "stream",
          "text": [
            "100%|██████████| 4/4 [00:03<00:00,  1.21it/s]\n",
            "  0%|          | 0/28 [00:00<?, ?it/s]"
          ],
          "name": "stderr"
        },
        {
          "output_type": "stream",
          "text": [
            "valid loss: 0.0193   valid acc: 0.5573\n",
            "Epoch 13/14\n",
            "----------\n"
          ],
          "name": "stdout"
        },
        {
          "output_type": "stream",
          "text": [
            "100%|██████████| 28/28 [00:21<00:00,  1.32it/s]\n",
            "  0%|          | 0/4 [00:00<?, ?it/s]"
          ],
          "name": "stderr"
        },
        {
          "output_type": "stream",
          "text": [
            "train loss: 0.0186   train acc: 0.5686\n"
          ],
          "name": "stdout"
        },
        {
          "output_type": "stream",
          "text": [
            "100%|██████████| 4/4 [00:03<00:00,  2.16s/it]\n",
            "  0%|          | 0/28 [00:00<?, ?it/s]"
          ],
          "name": "stderr"
        },
        {
          "output_type": "stream",
          "text": [
            "valid loss: 0.0206   valid acc: 0.5573\n",
            "Epoch 14/14\n",
            "----------\n"
          ],
          "name": "stdout"
        },
        {
          "output_type": "stream",
          "text": [
            "100%|██████████| 28/28 [00:20<00:00,  1.33it/s]\n",
            "  0%|          | 0/4 [00:00<?, ?it/s]"
          ],
          "name": "stderr"
        },
        {
          "output_type": "stream",
          "text": [
            "train loss: 0.0192   train acc: 0.5488\n"
          ],
          "name": "stdout"
        },
        {
          "output_type": "stream",
          "text": [
            "100%|██████████| 4/4 [00:03<00:00,  1.20it/s]"
          ],
          "name": "stderr"
        },
        {
          "output_type": "stream",
          "text": [
            "valid loss: 0.0199   valid acc: 0.5296\n",
            "Training complete in 6m 7s\n"
          ],
          "name": "stdout"
        },
        {
          "output_type": "stream",
          "text": [
            "\n"
          ],
          "name": "stderr"
        }
      ]
    },
    {
      "metadata": {
        "id": "G61TECwa92yB",
        "colab_type": "code",
        "colab": {}
      },
      "cell_type": "code",
      "source": [
        "#optim.lr_scheduler.ReduceLROnPlateau.step?"
      ],
      "execution_count": 0,
      "outputs": []
    },
    {
      "metadata": {
        "id": "IsU5s2vibDRP",
        "colab_type": "code",
        "colab": {
          "base_uri": "https://localhost:8080/",
          "height": 18411
        },
        "outputId": "06bcc9de-e178-42b7-e7c5-e245e6fa9b5a"
      },
      "cell_type": "code",
      "source": [
        "#model.state_dict()"
      ],
      "execution_count": 21,
      "outputs": [
        {
          "output_type": "execute_result",
          "data": {
            "text/plain": [
              "OrderedDict([('conv1.weight',\n",
              "              tensor([[[[-0.0703,  0.2185, -0.1543, -0.1021, -0.0579],\n",
              "                        [-0.0760,  0.3450,  0.0190,  0.0834, -0.0228],\n",
              "                        [ 0.1830, -0.0804, -0.2184, -0.0051, -0.1796],\n",
              "                        [ 0.2346, -0.0913,  0.0138,  0.2726,  0.0747],\n",
              "                        [ 0.2308,  0.0849,  0.0299, -0.0463,  0.2052]],\n",
              "              \n",
              "                       [[-0.0590, -0.0427, -0.0478,  0.0123,  0.1223],\n",
              "                        [-0.0784,  0.2065, -0.0274, -0.0328, -0.0243],\n",
              "                        [ 0.0997, -0.0078,  0.1305,  0.2413, -0.1996],\n",
              "                        [ 0.1342,  0.2810, -0.0477, -0.1401,  0.0986],\n",
              "                        [ 0.0606,  0.1304, -0.2387,  0.2070, -0.1020]],\n",
              "              \n",
              "                       [[ 0.0362,  0.0940,  0.3064,  0.0165,  0.1309],\n",
              "                        [ 0.0096,  0.0455,  0.0797,  0.1339, -0.1705],\n",
              "                        [-0.1111, -0.0820,  0.0906,  0.1934, -0.1450],\n",
              "                        [ 0.1751,  0.0834, -0.1481, -0.0924,  0.0721],\n",
              "                        [-0.0042, -0.2453, -0.2032,  0.4113,  0.0849]]],\n",
              "              \n",
              "              \n",
              "                      [[[ 0.1750,  0.2438,  0.1621, -0.1484,  0.0258],\n",
              "                        [ 0.0793,  0.1976,  0.1337,  0.0704, -0.2105],\n",
              "                        [ 0.0274, -0.0843,  0.2903,  0.2724,  0.2232],\n",
              "                        [-0.1722, -0.2144, -0.0075,  0.1314, -0.1463],\n",
              "                        [ 0.0011, -0.0187,  0.2525, -0.0814, -0.0253]],\n",
              "              \n",
              "                       [[ 0.0434,  0.0755,  0.4482, -0.0395, -0.1290],\n",
              "                        [ 0.0573,  0.1269, -0.1664, -0.0476, -0.1445],\n",
              "                        [-0.1087, -0.2911,  0.0707,  0.1843,  0.0986],\n",
              "                        [-0.0182, -0.2942,  0.0515,  0.1738,  0.0658],\n",
              "                        [-0.1300, -0.0830, -0.2074,  0.0731, -0.1082]],\n",
              "              \n",
              "                       [[ 0.0272, -0.0375, -0.1625,  0.0381, -0.1806],\n",
              "                        [-0.1884,  0.0154,  0.0227, -0.2168,  0.0481],\n",
              "                        [-0.0250, -0.0851, -0.0564, -0.1567, -0.5599],\n",
              "                        [-0.1579, -0.0126,  0.0134,  0.0884,  0.0201],\n",
              "                        [ 0.0057,  0.2177, -0.2473, -0.1110,  0.2788]]],\n",
              "              \n",
              "              \n",
              "                      [[[ 0.0628,  0.0635,  0.1620,  0.0813, -0.0243],\n",
              "                        [ 0.5242,  0.0203, -0.0536,  0.0719,  0.3582],\n",
              "                        [ 0.2278,  0.1580,  0.0509,  0.1213, -0.1111],\n",
              "                        [ 0.0049, -0.0905, -0.1194,  0.1151,  0.1388],\n",
              "                        [ 0.2043, -0.1357, -0.0386,  0.1529,  0.1734]],\n",
              "              \n",
              "                       [[-0.0994, -0.1328,  0.0328, -0.3226,  0.4324],\n",
              "                        [ 0.1620, -0.0809, -0.2489,  0.0117,  0.3914],\n",
              "                        [ 0.0339, -0.2157,  0.0256, -0.0685, -0.2813],\n",
              "                        [-0.1070, -0.1687, -0.1229,  0.1009,  0.2821],\n",
              "                        [ 0.3504, -0.0337,  0.1164, -0.1386, -0.0661]],\n",
              "              \n",
              "                       [[ 0.0908,  0.1482,  0.0705, -0.0774, -0.2001],\n",
              "                        [-0.3263,  0.1533, -0.1299, -0.0537, -0.1267],\n",
              "                        [-0.0573,  0.0253, -0.1778, -0.1145,  0.0501],\n",
              "                        [ 0.2857, -0.2912, -0.1691, -0.2483,  0.1951],\n",
              "                        [-0.1128,  0.0651, -0.3284, -0.0196,  0.0704]]],\n",
              "              \n",
              "              \n",
              "                      ...,\n",
              "              \n",
              "              \n",
              "                      [[[ 0.0681,  0.0398,  0.2597, -0.1889,  0.1599],\n",
              "                        [ 0.1646,  0.0337, -0.2455,  0.0075, -0.0515],\n",
              "                        [ 0.0816,  0.0523,  0.1297,  0.0270,  0.1157],\n",
              "                        [ 0.2356,  0.0355,  0.0004,  0.1070, -0.0082],\n",
              "                        [ 0.1284,  0.1723, -0.0911,  0.3662,  0.2977]],\n",
              "              \n",
              "                       [[-0.0253,  0.2471,  0.0873, -0.2368,  0.3446],\n",
              "                        [-0.0984, -0.3970,  0.0017, -0.0228,  0.0697],\n",
              "                        [ 0.0422,  0.0855, -0.1879, -0.1547,  0.0107],\n",
              "                        [ 0.1048,  0.0064, -0.1690,  0.0400, -0.0090],\n",
              "                        [ 0.0572, -0.2417,  0.0032, -0.1347, -0.3769]],\n",
              "              \n",
              "                       [[-0.0550,  0.0332,  0.2365, -0.0612, -0.0143],\n",
              "                        [-0.0840, -0.2289, -0.1405, -0.2938, -0.0630],\n",
              "                        [-0.3199,  0.0999, -0.0179,  0.0077, -0.3404],\n",
              "                        [ 0.0112, -0.2232,  0.2310, -0.0230,  0.2452],\n",
              "                        [-0.3122, -0.0127, -0.3471, -0.1776, -0.1493]]],\n",
              "              \n",
              "              \n",
              "                      [[[ 0.0382, -0.1317, -0.1107,  0.1507, -0.0436],\n",
              "                        [ 0.2883,  0.0995,  0.1968,  0.1839, -0.0740],\n",
              "                        [ 0.0036,  0.0306, -0.1725, -0.0798, -0.1777],\n",
              "                        [ 0.1705,  0.1870, -0.1085, -0.0189,  0.0707],\n",
              "                        [-0.1999, -0.1053,  0.0757, -0.1878, -0.0068]],\n",
              "              \n",
              "                       [[ 0.1065, -0.0314,  0.0272, -0.2435,  0.0057],\n",
              "                        [ 0.1113, -0.0548,  0.1431,  0.1487,  0.1641],\n",
              "                        [ 0.4201, -0.0176, -0.0059,  0.0437, -0.1283],\n",
              "                        [ 0.1114, -0.1200, -0.1345,  0.0126,  0.0145],\n",
              "                        [ 0.2966, -0.3297, -0.0426, -0.1553, -0.2477]],\n",
              "              \n",
              "                       [[ 0.0917,  0.0435, -0.1777, -0.1830, -0.0331],\n",
              "                        [ 0.0150, -0.0449,  0.0370, -0.2080, -0.0519],\n",
              "                        [ 0.4194,  0.3559, -0.0551, -0.2380,  0.1564],\n",
              "                        [ 0.1941, -0.0614,  0.2177,  0.2352, -0.1750],\n",
              "                        [-0.0007, -0.2636, -0.0251, -0.2793, -0.2429]]],\n",
              "              \n",
              "              \n",
              "                      [[[ 0.0254,  0.1212, -0.0710, -0.0162,  0.0611],\n",
              "                        [ 0.2854,  0.0708, -0.1904, -0.1924, -0.3778],\n",
              "                        [ 0.0271, -0.1992, -0.0534, -0.0417,  0.1411],\n",
              "                        [-0.1963,  0.2318,  0.0446, -0.0511, -0.0250],\n",
              "                        [-0.1909, -0.2901,  0.0208, -0.1160,  0.0147]],\n",
              "              \n",
              "                       [[-0.1495, -0.0424,  0.1001, -0.2137, -0.1960],\n",
              "                        [-0.4106, -0.0521,  0.0121, -0.0273, -0.0358],\n",
              "                        [-0.0336, -0.2609, -0.0833,  0.1662, -0.0058],\n",
              "                        [ 0.0137,  0.1460, -0.2397, -0.1446, -0.0048],\n",
              "                        [-0.2008, -0.0443,  0.1569, -0.3109, -0.1968]],\n",
              "              \n",
              "                       [[ 0.2318,  0.1899,  0.1300,  0.3888,  0.1914],\n",
              "                        [ 0.3045,  0.0565, -0.2519,  0.6043, -0.0118],\n",
              "                        [ 0.3864,  0.0442,  0.2060,  0.2703,  0.1430],\n",
              "                        [-0.1633, -0.0681,  0.0288,  0.3627, -0.1142],\n",
              "                        [ 0.3740,  0.2031,  0.0512,  0.1254,  0.1293]]]], device='cuda:0')),\n",
              "             ('conv1.bias',\n",
              "              tensor([-0.0727,  0.0178,  0.1489,  0.2878,  0.1755,  0.2540, -0.0926, -0.0170,\n",
              "                      -0.1794, -0.0287, -0.0698, -0.0212,  0.2971,  0.1824, -0.1212, -0.1954],\n",
              "                     device='cuda:0')),\n",
              "             ('conv2.weight', tensor([[[[ 0.0023, -0.1390,  0.1645],\n",
              "                        [-0.1249,  0.0267, -0.0597],\n",
              "                        [-0.0022, -0.1274,  0.0520]],\n",
              "              \n",
              "                       [[-0.1339, -0.1340, -0.0294],\n",
              "                        [ 0.0265, -0.0152, -0.0963],\n",
              "                        [ 0.1523,  0.1875, -0.0650]],\n",
              "              \n",
              "                       [[-0.1069,  0.0422, -0.1125],\n",
              "                        [-0.1369, -0.0612,  0.1116],\n",
              "                        [-0.0197, -0.0638, -0.0131]],\n",
              "              \n",
              "                       ...,\n",
              "              \n",
              "                       [[-0.0016, -0.0738,  0.0579],\n",
              "                        [ 0.3132,  0.1121,  0.3010],\n",
              "                        [-0.1286,  0.0098, -0.1837]],\n",
              "              \n",
              "                       [[ 0.2167, -0.1256, -0.0310],\n",
              "                        [ 0.0427,  0.1270,  0.0363],\n",
              "                        [ 0.2300,  0.0713, -0.0358]],\n",
              "              \n",
              "                       [[-0.0816, -0.2376,  0.1088],\n",
              "                        [ 0.0092,  0.0768, -0.0178],\n",
              "                        [-0.1677, -0.1362,  0.0250]]],\n",
              "              \n",
              "              \n",
              "                      [[[ 0.0119, -0.0880,  0.0383],\n",
              "                        [ 0.1591, -0.0256,  0.3164],\n",
              "                        [ 0.0649,  0.0637, -0.1086]],\n",
              "              \n",
              "                       [[-0.0842, -0.0067,  0.0842],\n",
              "                        [-0.0713,  0.0222, -0.0528],\n",
              "                        [ 0.0102,  0.2652,  0.1154]],\n",
              "              \n",
              "                       [[ 0.1299,  0.1514,  0.0112],\n",
              "                        [ 0.1397,  0.1340,  0.2492],\n",
              "                        [-0.1284, -0.2009,  0.1604]],\n",
              "              \n",
              "                       ...,\n",
              "              \n",
              "                       [[ 0.0719,  0.3010,  0.0646],\n",
              "                        [ 0.0604,  0.2045, -0.0533],\n",
              "                        [ 0.1428, -0.0348, -0.1075]],\n",
              "              \n",
              "                       [[-0.0031, -0.0349, -0.2437],\n",
              "                        [-0.1379,  0.0324, -0.0251],\n",
              "                        [-0.0078, -0.0312,  0.0542]],\n",
              "              \n",
              "                       [[ 0.0065,  0.0202,  0.0079],\n",
              "                        [-0.1719, -0.0252,  0.1267],\n",
              "                        [ 0.1012, -0.1240, -0.2225]]],\n",
              "              \n",
              "              \n",
              "                      [[[ 0.0745,  0.0874,  0.1484],\n",
              "                        [ 0.0842,  0.2457, -0.1058],\n",
              "                        [ 0.0067,  0.2066,  0.2529]],\n",
              "              \n",
              "                       [[ 0.1741,  0.0271,  0.1183],\n",
              "                        [-0.0437, -0.0366, -0.0145],\n",
              "                        [ 0.0463,  0.1047,  0.1535]],\n",
              "              \n",
              "                       [[ 0.0669, -0.0529, -0.1053],\n",
              "                        [-0.1664, -0.1552, -0.0043],\n",
              "                        [ 0.1322,  0.0579, -0.0348]],\n",
              "              \n",
              "                       ...,\n",
              "              \n",
              "                       [[ 0.1681,  0.1122,  0.1441],\n",
              "                        [ 0.0346,  0.0860, -0.0129],\n",
              "                        [ 0.2665, -0.0134,  0.0578]],\n",
              "              \n",
              "                       [[ 0.0196, -0.0590, -0.0527],\n",
              "                        [-0.0087,  0.1400, -0.0502],\n",
              "                        [-0.1795, -0.0803,  0.2533]],\n",
              "              \n",
              "                       [[-0.0929, -0.0257, -0.0999],\n",
              "                        [ 0.1592,  0.1366, -0.0268],\n",
              "                        [ 0.4144, -0.0814, -0.0643]]],\n",
              "              \n",
              "              \n",
              "                      ...,\n",
              "              \n",
              "              \n",
              "                      [[[-0.0217,  0.0880, -0.1232],\n",
              "                        [ 0.0495, -0.0786,  0.0003],\n",
              "                        [ 0.0276, -0.0787,  0.0144]],\n",
              "              \n",
              "                       [[ 0.1566, -0.1557, -0.1395],\n",
              "                        [-0.1199, -0.0509, -0.0925],\n",
              "                        [ 0.0420, -0.0077, -0.0041]],\n",
              "              \n",
              "                       [[ 0.0604,  0.0608,  0.0222],\n",
              "                        [-0.1464, -0.0095,  0.0025],\n",
              "                        [ 0.0511, -0.1268,  0.0604]],\n",
              "              \n",
              "                       ...,\n",
              "              \n",
              "                       [[-0.1445,  0.0151, -0.0004],\n",
              "                        [ 0.0416, -0.0962, -0.1759],\n",
              "                        [ 0.0551, -0.1819,  0.1681]],\n",
              "              \n",
              "                       [[-0.2205, -0.0579,  0.2200],\n",
              "                        [-0.2161, -0.1035,  0.1516],\n",
              "                        [ 0.1880,  0.1346, -0.0891]],\n",
              "              \n",
              "                       [[-0.0285,  0.0956,  0.0779],\n",
              "                        [-0.2192,  0.1524,  0.1573],\n",
              "                        [-0.0054, -0.1017, -0.1478]]],\n",
              "              \n",
              "              \n",
              "                      [[[-0.0082,  0.0173, -0.1189],\n",
              "                        [-0.2268,  0.0583, -0.2859],\n",
              "                        [-0.0549, -0.1228,  0.0787]],\n",
              "              \n",
              "                       [[ 0.1249,  0.0353, -0.0156],\n",
              "                        [ 0.1476, -0.0359, -0.0046],\n",
              "                        [ 0.1758, -0.1992, -0.1499]],\n",
              "              \n",
              "                       [[ 0.1403,  0.0771,  0.1199],\n",
              "                        [ 0.0473, -0.0923,  0.1116],\n",
              "                        [ 0.2162, -0.0857, -0.0613]],\n",
              "              \n",
              "                       ...,\n",
              "              \n",
              "                       [[-0.0672,  0.1246,  0.0487],\n",
              "                        [-0.1454,  0.1242,  0.1054],\n",
              "                        [-0.0973, -0.0030, -0.1121]],\n",
              "              \n",
              "                       [[ 0.2366,  0.2400,  0.2412],\n",
              "                        [ 0.1652, -0.0883,  0.0722],\n",
              "                        [ 0.0181, -0.0849,  0.0484]],\n",
              "              \n",
              "                       [[-0.2022, -0.0757,  0.0133],\n",
              "                        [ 0.0820, -0.1647, -0.1486],\n",
              "                        [-0.0735, -0.0045, -0.1235]]],\n",
              "              \n",
              "              \n",
              "                      [[[-0.1873,  0.0611,  0.0763],\n",
              "                        [ 0.0343, -0.0092, -0.1003],\n",
              "                        [-0.2161,  0.1562, -0.0867]],\n",
              "              \n",
              "                       [[-0.1896, -0.0561, -0.1366],\n",
              "                        [-0.0901, -0.2282, -0.0996],\n",
              "                        [ 0.0551,  0.0293,  0.0251]],\n",
              "              \n",
              "                       [[ 0.0111, -0.0471,  0.0710],\n",
              "                        [ 0.0113, -0.2325, -0.1912],\n",
              "                        [ 0.1484,  0.1112, -0.0345]],\n",
              "              \n",
              "                       ...,\n",
              "              \n",
              "                       [[-0.0667, -0.1645, -0.1439],\n",
              "                        [-0.1592,  0.0296, -0.1560],\n",
              "                        [-0.1138,  0.0702,  0.0693]],\n",
              "              \n",
              "                       [[-0.1024, -0.2505,  0.0835],\n",
              "                        [-0.0567, -0.1208,  0.1902],\n",
              "                        [ 0.1175,  0.0087, -0.0160]],\n",
              "              \n",
              "                       [[ 0.0216,  0.0644, -0.0943],\n",
              "                        [-0.0760, -0.2631,  0.0250],\n",
              "                        [ 0.0911, -0.0649,  0.0288]]]], device='cuda:0')),\n",
              "             ('conv2.bias',\n",
              "              tensor([ 0.1158,  0.1200, -0.0045,  0.0551,  0.0489,  0.0683,  0.0582,  0.2258],\n",
              "                     device='cuda:0')),\n",
              "             ('fc1.weight',\n",
              "              tensor([[-0.0015,  0.0159,  0.0096,  ..., -0.0047, -0.0055, -0.0052],\n",
              "                      [ 0.0170, -0.0089, -0.0013,  ...,  0.0135,  0.0073,  0.0004],\n",
              "                      [-0.0007,  0.0095, -0.0012,  ..., -0.0004, -0.0074,  0.0041],\n",
              "                      ...,\n",
              "                      [-0.0099, -0.0002,  0.0069,  ..., -0.0144,  0.0107,  0.0155],\n",
              "                      [ 0.0166,  0.0008,  0.0069,  ...,  0.0105,  0.0026, -0.0060],\n",
              "                      [ 0.0151,  0.0024, -0.0134,  ...,  0.0201,  0.0001, -0.0033]],\n",
              "                     device='cuda:0')),\n",
              "             ('fc1.bias',\n",
              "              tensor([ 7.7455e-10,  1.1491e-10,  1.1854e-09,  2.5484e-10,  2.0023e-10,\n",
              "                      -3.5660e-10, -2.0063e-10,  1.1482e-10,  3.5637e-10, -1.6818e-10,\n",
              "                      -4.0999e-10, -2.7596e-11, -1.8689e-10,  1.3162e-11, -1.9320e-10,\n",
              "                      -5.7932e-11, -2.3517e-10,  8.1125e-12, -2.0685e-10, -1.4134e-10,\n",
              "                      -2.1261e-10, -8.6668e-11, -6.2655e-11,  3.6887e-11, -1.5290e-10,\n",
              "                       4.1904e-10, -2.2376e-10,  1.9349e-10,  7.0983e-11, -2.1905e-10,\n",
              "                      -2.7285e-10, -2.2404e-10,  8.2421e-11,  2.3289e-11,  8.1724e-12,\n",
              "                      -3.6127e-11, -7.8198e-10,  2.0593e-11, -3.2450e-10,  5.9741e-11,\n",
              "                       4.2198e-10, -6.6318e-10,  2.9273e-10, -1.8848e-11, -6.9015e-10,\n",
              "                       6.0562e-10,  7.5369e-11,  1.3230e-10, -3.6789e-10,  5.5502e-10,\n",
              "                      -1.3211e-10, -2.5172e-10,  1.1101e-12, -1.9669e-09, -5.0736e-11,\n",
              "                      -2.5266e-10, -3.2913e-10, -6.4458e-11, -2.6491e-10,  4.4122e-13,\n",
              "                       1.9595e-09,  2.3615e-10,  8.6319e-12,  6.3882e-10, -8.0777e-11,\n",
              "                       8.0184e-11, -5.5913e-10,  5.5984e-12, -8.7037e-10,  3.1188e-10,\n",
              "                      -2.1574e-10,  1.5742e-10,  1.4877e-10, -2.1727e-10, -1.9520e-10,\n",
              "                       1.2064e-11,  4.5256e-10,  1.4827e-09, -6.7006e-10,  2.1752e-10,\n",
              "                      -4.2933e-10, -1.2125e-11, -8.0426e-10,  8.9711e-10, -2.5347e-10,\n",
              "                       7.0553e-11,  3.2467e-10, -7.7329e-10, -1.8175e-10, -2.4706e-10,\n",
              "                       1.3519e-11, -5.5637e-10,  2.4369e-11,  7.2656e-11,  1.7650e-10,\n",
              "                       7.0287e-10,  7.2221e-10, -3.5128e-10, -5.3244e-12, -4.1723e-10,\n",
              "                       9.0050e-11,  6.1469e-10,  1.9114e-10, -3.9617e-10, -4.2259e-10,\n",
              "                      -2.3023e-10, -7.3290e-11, -1.6417e-10,  2.0418e-10,  2.8666e-13,\n",
              "                      -9.2087e-11, -7.3588e-11,  1.6322e-10,  1.5970e-10,  2.0495e-10,\n",
              "                       8.5423e-11,  1.1326e-09,  2.8219e-10, -1.4362e-10,  1.5205e-09,\n",
              "                       1.4323e-10, -2.5238e-10,  1.8484e-10,  2.0631e-10,  2.9298e-10,\n",
              "                       4.6245e-10,  1.7902e-10,  2.2339e-10, -1.9439e-11, -3.4073e-10,\n",
              "                      -4.6756e-11, -4.3847e-11,  1.6687e-11,  2.2990e-11,  4.3983e-10,\n",
              "                       1.7060e-10,  2.9677e-11, -2.1681e-10,  8.0144e-11,  3.9409e-10,\n",
              "                       1.3247e-10, -7.4604e-10,  7.4377e-11,  6.8303e-11,  3.9998e-10,\n",
              "                      -9.7247e-11,  7.3323e-10, -9.1026e-11, -2.3434e-10, -1.3607e-10,\n",
              "                       3.7896e-10, -2.4388e-11,  2.8402e-10,  3.7168e-10, -7.5566e-11,\n",
              "                       1.0347e-10, -3.0457e-12, -2.1376e-10,  7.3716e-10, -5.8518e-11,\n",
              "                       3.3643e-10,  1.3742e-10, -1.7265e-11,  2.3738e-10,  3.2369e-11,\n",
              "                       8.3937e-10, -1.2369e-09,  1.2738e-10, -4.2593e-10,  2.7848e-12,\n",
              "                      -8.9408e-11,  2.8485e-11, -1.2693e-09,  1.1757e-09, -9.2393e-11,\n",
              "                      -3.6369e-11, -1.6364e-10,  1.5427e-10, -4.7171e-11,  8.4591e-10,\n",
              "                       7.3067e-11,  3.6089e-10, -2.2236e-10, -1.2912e-12,  1.7433e-09,\n",
              "                       9.2052e-11,  5.6324e-11,  2.9721e-11,  5.6607e-10,  1.4464e-10,\n",
              "                       1.4613e-10,  3.1731e-11, -2.4051e-10,  9.3378e-12,  3.7040e-11,\n",
              "                       1.2112e-10, -9.7675e-11, -5.4504e-10, -4.1891e-10, -3.4090e-11,\n",
              "                      -1.7890e-10, -8.1029e-10,  5.4366e-10, -3.6498e-10,  8.2423e-11,\n",
              "                      -1.1169e-10, -3.7713e-10,  2.1555e-10,  4.7346e-11,  7.1909e-10,\n",
              "                      -7.5390e-10,  2.7126e-10,  1.9112e-11,  5.0182e-10, -4.2508e-10,\n",
              "                       4.1629e-10, -5.3619e-11, -6.5593e-11, -2.5464e-10, -5.7052e-10,\n",
              "                       2.0065e-10,  5.3590e-10,  1.1173e-10, -9.4099e-10,  1.4139e-10,\n",
              "                      -2.4857e-10, -1.9444e-10, -9.8439e-11,  1.0871e-10,  9.9698e-11,\n",
              "                      -2.0324e-10,  6.0273e-10,  4.5434e-10,  3.9729e-10, -1.7968e-10,\n",
              "                       3.1560e-10, -4.8916e-12,  3.6722e-11, -5.3529e-10, -7.3978e-11,\n",
              "                       1.4128e-10,  1.0150e-10,  5.3929e-10,  7.2292e-10,  8.0099e-10,\n",
              "                       2.7077e-11, -1.4186e-10,  3.5171e-11,  2.7527e-10,  3.5918e-10,\n",
              "                      -1.4229e-10,  1.0816e-10, -5.5153e-11,  1.0585e-10,  1.3303e-10,\n",
              "                      -1.4387e-10, -1.4815e-10, -2.8067e-10,  8.5177e-11, -7.1543e-10,\n",
              "                       1.6453e-10,  4.3282e-10,  1.9543e-11,  8.6021e-11, -1.1573e-09,\n",
              "                       1.1404e-10,  1.8827e-10,  3.5120e-10,  2.0665e-10, -3.1022e-10,\n",
              "                       2.2062e-10,  2.8691e-10, -4.5909e-10, -9.4635e-12,  7.8491e-10,\n",
              "                      -1.8056e-11,  9.1652e-11, -1.2848e-11,  1.8309e-11, -5.4627e-11,\n",
              "                       3.4406e-10, -4.6889e-10, -4.1047e-10, -1.5162e-11,  1.4260e-10,\n",
              "                      -3.6810e-10,  5.0475e-10, -6.7886e-11,  7.9663e-12,  1.0855e-10,\n",
              "                       9.8680e-10,  5.1024e-13, -1.6769e-10, -1.8142e-10,  6.9221e-11,\n",
              "                       2.1608e-10, -3.8388e-11, -4.7039e-11,  6.4371e-10,  1.7923e-10,\n",
              "                      -5.6980e-10, -2.3279e-10,  9.9906e-11,  9.2666e-11,  1.1207e-11,\n",
              "                       7.7954e-10,  1.4108e-10, -3.5796e-10, -4.1748e-11,  5.6836e-10,\n",
              "                      -8.7379e-10, -5.0442e-10,  6.1645e-10, -5.8376e-13,  1.0033e-10,\n",
              "                      -5.6102e-13,  5.8215e-10,  1.0321e-10, -1.4133e-10, -1.7628e-10,\n",
              "                       2.5003e-11,  3.5873e-10,  4.7346e-10,  4.5929e-11,  3.6943e-11,\n",
              "                       3.9784e-10, -1.9867e-10,  3.9310e-10,  7.5804e-11,  5.7943e-10,\n",
              "                      -2.1980e-11, -4.3664e-10,  8.0409e-11, -1.0079e-11, -2.4594e-10,\n",
              "                       1.8722e-11, -8.7501e-10,  2.2454e-10,  6.2527e-10,  5.2914e-10,\n",
              "                       5.6455e-10, -1.2001e-10, -5.7778e-12, -6.7309e-12, -1.9304e-10,\n",
              "                      -1.2824e-10,  4.4257e-11,  3.2924e-12,  8.8202e-11, -7.9588e-11,\n",
              "                       8.8771e-10, -8.6088e-10,  1.8429e-10, -1.9727e-10,  2.2365e-10,\n",
              "                      -1.9106e-10, -5.8513e-10,  8.1204e-11,  5.2338e-10, -2.4426e-10,\n",
              "                      -3.8308e-11,  1.7573e-09, -1.0938e-10, -8.7438e-11, -1.1561e-10,\n",
              "                      -4.4165e-10, -1.2259e-10,  1.1855e-11, -1.4332e-10, -7.1544e-11,\n",
              "                      -7.7315e-12,  8.4823e-11,  9.2307e-10, -9.8205e-11, -4.4858e-10,\n",
              "                       8.9052e-10, -1.1691e-10,  2.5331e-11,  1.0505e-10,  1.7296e-10,\n",
              "                      -5.7281e-10,  1.2176e-10, -6.5765e-10, -5.4774e-11,  4.5503e-10,\n",
              "                      -4.6881e-12,  3.0972e-11, -2.7175e-10, -3.7033e-12,  4.7184e-11,\n",
              "                       1.8384e-10, -7.6105e-10,  7.7135e-13, -2.7160e-10, -3.2268e-11,\n",
              "                       8.2775e-10, -3.3275e-10, -1.4804e-10,  1.4592e-10, -1.5222e-11,\n",
              "                      -3.1759e-10, -3.8225e-10, -1.6264e-09,  1.1823e-10, -5.2660e-10,\n",
              "                       6.1815e-10,  7.2192e-13,  2.1979e-10, -1.0758e-09,  1.9206e-12,\n",
              "                      -1.1206e-10,  5.2346e-10,  2.0716e-10, -1.6719e-10, -8.1979e-11,\n",
              "                       2.6106e-10,  1.0596e-09, -1.2753e-10,  1.7194e-11,  4.1886e-13,\n",
              "                      -8.7648e-11, -1.1802e-09,  3.3727e-11,  4.9743e-10,  4.0571e-11,\n",
              "                       2.6938e-10, -2.6135e-10, -9.6993e-11,  1.5890e-11, -8.7857e-11,\n",
              "                      -6.3683e-11,  1.5731e-10,  4.4016e-10,  1.1249e-11, -3.4904e-10,\n",
              "                      -1.6706e-10, -1.2109e-10,  3.3903e-10, -5.0375e-10, -2.4958e-10,\n",
              "                       4.7710e-10, -3.4541e-10,  1.2360e-10,  2.2384e-10,  2.0318e-10,\n",
              "                       1.5763e-10,  1.3426e-10,  2.9186e-10, -3.2183e-10, -4.5508e-12,\n",
              "                       7.7136e-11,  4.7213e-11, -3.7859e-11, -1.9618e-10,  1.3883e-10,\n",
              "                       7.0932e-11,  2.0002e-10, -3.5233e-10,  8.5335e-11,  1.2190e-11,\n",
              "                      -3.6105e-10, -1.0769e-10, -9.8754e-10, -1.8019e-10,  4.5620e-10,\n",
              "                      -4.5608e-12,  1.3332e-10,  8.1302e-11,  1.4896e-11,  2.0384e-10,\n",
              "                       4.2771e-10, -1.4279e-10,  3.9304e-10, -9.3128e-11,  4.3537e-10,\n",
              "                       2.3680e-10, -4.5045e-11,  1.6408e-10, -2.1799e-10,  4.4241e-10,\n",
              "                       1.7873e-10, -1.9982e-10,  1.2567e-10,  1.2433e-10, -3.1115e-10,\n",
              "                      -1.0274e-10,  5.4426e-10, -2.3985e-10, -1.8196e-11,  4.4892e-10,\n",
              "                       4.4564e-10,  6.9306e-10,  6.0730e-11, -9.5511e-11, -1.1569e-11,\n",
              "                      -1.8440e-11,  2.3011e-11,  6.2258e-11, -2.0456e-10, -2.9557e-10,\n",
              "                      -2.8229e-10,  1.0927e-10, -1.9795e-10,  1.3369e-10,  1.1991e-09,\n",
              "                       3.0950e-10,  2.1791e-10,  1.3643e-11,  1.8619e-10,  1.0535e-10,\n",
              "                       6.0848e-10, -8.2207e-11, -8.5769e-12, -1.0344e-11,  3.3915e-10,\n",
              "                       1.5970e-10, -1.3945e-10,  1.0089e-11,  8.9190e-11, -3.5016e-10,\n",
              "                      -1.2498e-09, -4.5569e-11,  2.9048e-10, -3.8682e-10, -2.5071e-10,\n",
              "                      -2.8435e-10,  1.8599e-10, -5.3731e-10,  1.2165e-09, -3.4997e-10,\n",
              "                      -8.4912e-11, -2.2996e-10,  1.6493e-09,  5.2118e-11,  2.1866e-10,\n",
              "                      -1.8488e-11,  2.8402e-10, -1.0799e-10, -6.7626e-10,  6.2932e-10,\n",
              "                      -3.1183e-10,  3.4366e-10, -1.3794e-11,  1.9095e-10,  1.5857e-10,\n",
              "                      -1.9871e-11, -1.5990e-12, -7.1705e-10,  1.0033e-10, -2.5941e-10,\n",
              "                       7.8882e-10, -1.1781e-11,  3.6052e-11,  2.2573e-11,  9.8885e-10,\n",
              "                       4.5148e-10,  1.8970e-10,  4.9141e-11,  1.1737e-10,  3.8554e-10,\n",
              "                      -2.2867e-10,  4.5375e-10,  2.0170e-11, -7.6955e-11, -2.2320e-10,\n",
              "                      -1.2908e-10, -2.2723e-10, -2.0139e-10, -6.2552e-10, -5.2044e-10,\n",
              "                      -2.3099e-11,  3.5104e-10,  7.1079e-10,  3.7641e-10,  5.2979e-10,\n",
              "                       1.6790e-10, -2.0182e-10,  9.2577e-12, -5.7401e-10,  2.2168e-10,\n",
              "                      -1.3679e-09, -1.2428e-10, -6.5956e-11, -3.8340e-10,  8.2500e-10,\n",
              "                       9.4158e-11, -5.0491e-10, -2.0039e-10,  5.5147e-10, -1.2035e-10,\n",
              "                      -3.1853e-10,  1.1933e-10, -9.5795e-11,  2.3848e-10,  2.2004e-10,\n",
              "                      -3.5721e-11, -4.6003e-10,  1.1252e-10,  5.8917e-10,  2.3473e-11,\n",
              "                      -8.6203e-11,  3.0193e-10,  8.3993e-10,  7.3675e-10,  1.5951e-10,\n",
              "                       4.9546e-11,  3.3095e-11, -3.4488e-10, -1.3483e-12, -1.5963e-11,\n",
              "                       8.5817e-11, -2.2819e-10, -9.8392e-11, -3.3442e-10,  5.6139e-10,\n",
              "                       9.3383e-11,  1.2638e-11, -2.1074e-10, -1.0404e-10,  4.1200e-10,\n",
              "                      -2.6946e-10,  3.1001e-12, -5.4552e-10,  8.0411e-11, -9.2955e-10,\n",
              "                      -1.9414e-10, -1.5622e-10,  8.9676e-11,  4.8981e-10, -2.9808e-10,\n",
              "                       6.0433e-10,  8.1259e-11,  3.0858e-11,  4.1471e-11,  3.3051e-10,\n",
              "                       3.1368e-12, -3.3163e-10,  4.9635e-10, -6.8539e-11,  3.2159e-10,\n",
              "                       4.3545e-10,  2.1367e-10,  4.0146e-10,  9.9067e-11,  6.8976e-10,\n",
              "                      -1.0236e-10, -1.7124e-10,  6.2225e-11, -1.1980e-10, -6.1092e-10,\n",
              "                       2.0206e-10,  1.2558e-10, -4.2362e-10,  6.6979e-10,  6.7325e-10,\n",
              "                      -3.7525e-10,  6.0935e-11, -2.9759e-10,  1.6666e-10,  6.5292e-11,\n",
              "                      -4.9165e-10, -5.6514e-10, -4.7591e-10,  3.9275e-11, -7.3842e-10,\n",
              "                      -5.3066e-10,  6.0139e-11, -3.7463e-10, -1.1834e-09,  3.0567e-10,\n",
              "                       2.4190e-10, -7.3587e-11,  2.4342e-10,  3.5713e-10,  3.4034e-10,\n",
              "                      -1.2185e-10, -2.5832e-10, -4.2450e-11, -2.0441e-10,  5.1544e-10,\n",
              "                       1.2705e-09, -2.9545e-10, -1.1249e-10,  2.7113e-10, -8.3903e-11,\n",
              "                      -3.5910e-10, -5.3399e-10,  8.6025e-11, -2.3109e-10,  1.1194e-09,\n",
              "                      -2.1982e-10, -3.7104e-10,  1.8724e-10, -8.9457e-11,  6.1138e-11,\n",
              "                      -1.6805e-10, -5.7365e-10, -2.4762e-10,  1.3747e-11, -1.3416e-11,\n",
              "                       7.9374e-10, -2.0909e-10, -7.6539e-10,  1.1236e-10,  5.2508e-11,\n",
              "                      -5.4104e-10,  2.8028e-10, -4.1823e-10,  6.3486e-10,  3.1843e-10,\n",
              "                       3.3714e-10, -7.1975e-10, -1.1524e-10,  4.8786e-11,  7.8275e-11,\n",
              "                      -5.4305e-10, -8.9623e-10, -3.0476e-11, -2.2308e-10,  1.3221e-10,\n",
              "                       2.9236e-10,  1.1347e-10,  1.2415e-09,  3.1805e-11,  5.7497e-10,\n",
              "                       4.2566e-10, -4.1182e-10, -1.8062e-12, -2.0093e-11,  4.1939e-11,\n",
              "                       3.4818e-11, -3.6889e-10, -1.6203e-09, -1.1735e-10,  1.1439e-09,\n",
              "                      -1.4926e-10,  5.6993e-10,  6.9097e-11, -2.2492e-10,  1.9779e-10,\n",
              "                      -2.6917e-12, -7.7019e-10,  8.1923e-11, -7.3029e-11, -6.3421e-10,\n",
              "                      -2.0439e-10, -3.5386e-11, -1.2976e-10, -9.3015e-11, -2.3256e-10,\n",
              "                      -1.3140e-09, -1.8723e-10, -1.7356e-11,  2.1136e-10, -9.4768e-11,\n",
              "                      -2.6121e-10, -1.0962e-10,  2.6868e-10, -4.4716e-11, -1.5685e-10,\n",
              "                      -1.2328e-10, -1.0194e-10,  2.9159e-10,  1.1693e-10, -1.6958e-10,\n",
              "                       1.1284e-11, -5.5616e-12, -4.9711e-10, -2.3222e-10, -4.7984e-12,\n",
              "                       1.1143e-09, -4.3112e-11,  2.5883e-11,  9.4093e-10,  3.0258e-10,\n",
              "                       2.0789e-10,  1.2718e-10, -8.1776e-11,  2.6855e-10, -8.4133e-12,\n",
              "                      -1.9427e-10,  4.7024e-10,  1.4413e-10,  4.1944e-10,  1.5446e-10,\n",
              "                       1.1003e-10, -2.2958e-10,  7.5418e-11, -1.6216e-10, -8.2332e-11,\n",
              "                       3.2348e-11, -3.2046e-11, -7.7527e-11,  3.2168e-11,  2.2839e-10,\n",
              "                      -4.2113e-11,  3.5823e-10, -5.3602e-11, -1.1940e-10,  6.4667e-11,\n",
              "                       8.0097e-12, -2.7149e-11,  1.3085e-10, -4.5192e-10,  1.0478e-10,\n",
              "                      -1.3990e-10,  7.5692e-10, -4.6228e-11,  3.7185e-10,  9.6026e-11,\n",
              "                      -1.3869e-10, -1.6574e-11, -9.3910e-11, -2.0692e-11,  4.8169e-11,\n",
              "                      -3.4440e-10, -1.7568e-10, -2.9597e-10, -7.1093e-12,  4.5735e-11,\n",
              "                       5.4268e-12,  2.0245e-10, -2.4155e-10,  2.6189e-10, -1.3376e-10,\n",
              "                      -6.6897e-11, -8.1017e-11, -1.2324e-10, -4.6663e-10,  3.7390e-10,\n",
              "                      -1.0879e-09,  4.7924e-12, -3.8444e-11,  3.3867e-10, -2.0190e-10,\n",
              "                      -6.2680e-10, -1.5737e-10, -1.2762e-09, -3.8086e-10,  2.0404e-10,\n",
              "                       6.6896e-10, -1.8893e-10, -2.6879e-10,  3.2049e-10,  1.9729e-10,\n",
              "                      -6.7122e-10,  3.1194e-10,  2.8635e-10,  1.2171e-10, -4.0032e-10,\n",
              "                       7.2329e-11,  3.5941e-10,  1.2351e-10, -3.1375e-10,  7.5697e-10,\n",
              "                       2.3197e-10, -4.9410e-10, -1.5805e-10, -2.9866e-10, -1.0846e-09,\n",
              "                      -6.0224e-11, -2.8591e-10, -1.0133e-09, -3.6894e-10, -1.6213e-10,\n",
              "                      -9.4125e-10, -2.2269e-10,  2.5581e-10,  1.2301e-10,  6.2136e-10,\n",
              "                      -1.2854e-09,  7.9801e-11, -1.2399e-10,  6.2793e-10,  3.7468e-10,\n",
              "                       1.4058e-10,  6.9623e-11,  1.3017e-10, -4.0467e-11, -1.6507e-10,\n",
              "                       2.9781e-10,  2.1248e-10,  2.2869e-10, -9.7499e-10, -1.5360e-11,\n",
              "                      -1.1501e-10, -3.0712e-11, -5.6955e-12,  4.7434e-10,  8.5520e-11,\n",
              "                      -7.3745e-11,  4.9272e-10, -2.3064e-10, -2.8576e-10,  3.5892e-10,\n",
              "                      -7.5462e-11,  7.4057e-11,  5.5457e-10,  5.2318e-10,  8.9647e-10,\n",
              "                      -8.9966e-11,  6.2556e-10, -1.3878e-09, -1.0157e-10, -1.8950e-10,\n",
              "                      -2.6414e-10,  1.5518e-10,  2.4012e-11,  7.8133e-10,  2.9026e-10,\n",
              "                       5.3816e-10, -1.9510e-11,  7.1917e-11, -2.8659e-11,  7.8982e-10,\n",
              "                       2.4670e-10,  2.0734e-10, -3.8753e-10, -3.5550e-10,  3.6660e-10,\n",
              "                      -5.5702e-10, -2.1141e-10, -3.8569e-11,  4.0700e-10,  9.2297e-10,\n",
              "                      -2.9980e-10, -9.4453e-11, -3.2877e-10,  7.3689e-10,  9.1234e-11,\n",
              "                       5.0903e-10,  5.7543e-11,  1.1563e-11,  2.8097e-10, -3.0512e-10,\n",
              "                       7.6723e-11, -1.1769e-11, -1.1235e-11,  6.8164e-11, -6.4690e-10,\n",
              "                       2.9015e-12,  5.1847e-10, -3.2565e-10,  2.3633e-10, -7.2800e-12,\n",
              "                      -4.2365e-11,  6.2209e-10,  1.3532e-10, -2.6707e-11,  9.9693e-11,\n",
              "                       5.3353e-11,  2.4820e-10, -1.6858e-09, -5.9365e-11, -1.1472e-11,\n",
              "                       1.5727e-09, -1.0931e-10, -9.7354e-11, -1.6460e-10,  5.5755e-11,\n",
              "                       5.7030e-10, -1.6307e-10, -8.3467e-11, -7.8830e-11,  4.4066e-10,\n",
              "                       2.5264e-13, -9.5177e-11, -3.3278e-10, -5.4414e-11, -5.9008e-10,\n",
              "                       5.4541e-11, -2.1251e-10, -2.1286e-10,  4.3493e-11,  5.7312e-10,\n",
              "                      -4.3276e-10, -2.9574e-10, -3.9581e-10,  1.9848e-11, -4.9128e-10,\n",
              "                       1.5679e-11,  7.7276e-11, -5.3087e-11,  3.6173e-10, -1.4927e-10,\n",
              "                      -1.1874e-10,  3.4476e-12, -3.5535e-10,  1.2672e-09,  2.8173e-10,\n",
              "                      -5.3237e-11,  2.4682e-10,  4.1582e-10, -4.5081e-11, -1.4753e-10,\n",
              "                       3.6016e-10, -2.0057e-10,  2.6332e-10,  6.5277e-11,  1.0756e-10],\n",
              "                     device='cuda:0')),\n",
              "             ('fc2.weight',\n",
              "              tensor([[ 2.7532e-02,  4.0770e-02,  5.0258e-03,  ..., -3.4001e-02,\n",
              "                       -2.6820e-02, -2.3612e-03],\n",
              "                      [ 2.7039e-02, -1.1580e-02, -2.6014e-03,  ...,  1.4040e-04,\n",
              "                       -3.2918e-02,  3.9816e-03],\n",
              "                      [ 2.1605e-02, -2.0717e-02, -8.0237e-02,  ...,  4.8005e-02,\n",
              "                       -1.5598e-02, -3.0601e-02],\n",
              "                      [-8.7085e-02, -2.6723e-03, -4.1446e-02,  ..., -6.8776e-02,\n",
              "                        3.0248e-03, -1.1371e-01],\n",
              "                      [ 4.2850e-02, -2.9799e-02, -5.6127e-02,  ...,  4.8596e-02,\n",
              "                       -1.0829e-02,  2.0830e-02],\n",
              "                      [-1.9236e-02,  7.3726e-02,  5.5506e-02,  ...,  3.2602e-02,\n",
              "                        2.3349e-02, -7.9966e-02]], device='cuda:0')),\n",
              "             ('fc2.bias',\n",
              "              tensor([ 0.0634,  0.0962, -0.0158,  0.0928, -0.0369, -0.0552], device='cuda:0')),\n",
              "             ('bnlinear.weight',\n",
              "              tensor([0.6822, 0.2412, 0.7015, 0.4977, 0.5012, 0.7235, 0.6630, 0.7627, 0.5537,\n",
              "                      0.4232, 0.6680, 0.4206, 0.1178, 0.4048, 0.6293, 0.5084, 0.2767, 0.3953,\n",
              "                      0.2566, 0.0764, 0.8480, 0.5797, 0.0614, 0.6452, 0.0683, 0.8743, 0.3258,\n",
              "                      0.1500, 0.2792, 0.5734, 0.2943, 0.9745, 0.2760, 0.7737, 0.1690, 0.2053,\n",
              "                      0.4663, 0.0232, 0.8950, 0.4832, 0.9047, 0.5201, 0.6345, 0.0422, 0.6444,\n",
              "                      0.8716, 0.6166, 0.5287, 0.7907, 0.4933, 0.2094, 0.3500, 0.4460, 0.4980,\n",
              "                      0.4075, 0.1578, 0.4648, 0.3375, 0.5382, 0.0166, 0.4908, 0.4023, 0.0019,\n",
              "                      0.6307, 0.5168, 0.4821, 0.6885, 0.0122, 0.3385, 0.7224, 0.7591, 0.2427,\n",
              "                      0.3414, 0.7792, 0.7857, 0.1124, 0.9048, 0.9599, 0.9339, 0.2522, 0.8353,\n",
              "                      0.6036, 0.9485, 0.5992, 0.9363, 0.2359, 0.4808, 0.6349, 0.5328, 0.4737,\n",
              "                      0.9445, 0.2647, 0.3792, 0.0957, 0.2830, 0.6744, 0.7002, 0.3028, 0.2339,\n",
              "                      0.9388, 0.1494, 0.6386, 0.8639, 0.9591, 0.5894, 0.5447, 0.1757, 0.4115,\n",
              "                      0.5546, 0.7212, 0.3415, 0.1917, 0.5723, 0.1652, 0.2141, 0.5497, 0.7694,\n",
              "                      0.7674, 0.8281, 0.3896, 0.6845, 0.3063, 0.5046, 0.5398, 0.3118, 0.4828,\n",
              "                      0.4407, 0.8712, 0.1752, 0.3722, 0.5652, 0.1426, 0.3586, 0.2616, 0.4090,\n",
              "                      0.5533, 0.1184, 0.4716, 0.8908, 0.4274, 0.8272, 0.5337, 0.0285, 0.9528,\n",
              "                      0.9889, 0.3885, 0.5318, 0.1888, 0.4207, 0.4334, 0.8524, 0.0656, 0.4430,\n",
              "                      0.6727, 0.5826, 0.6390, 0.1549, 0.4382, 0.7375, 0.3035, 0.2460, 0.4578,\n",
              "                      0.7314, 0.8081, 0.6810, 0.6090, 0.9145, 0.3945, 0.6409, 0.1502, 0.8705,\n",
              "                      0.4058, 0.7647, 0.9681, 0.9573, 0.4204, 0.4125, 0.1260, 0.0812, 0.5247,\n",
              "                      0.0657, 0.3595, 0.4717, 0.6176, 0.8252, 0.1484, 0.2883, 0.4806, 0.4471,\n",
              "                      0.8495, 0.2996, 0.4588, 0.5885, 0.7230, 0.3403, 0.0948, 0.6116, 0.5793,\n",
              "                      0.4308, 0.1477, 0.1987, 0.9122, 0.4862, 0.2225, 0.1079, 0.2830, 0.6665,\n",
              "                      0.3959, 0.3668, 0.4569, 0.8302, 0.2956, 0.9250, 0.6667, 0.4783, 0.2367,\n",
              "                      0.1482, 0.0880, 0.3740, 0.3953, 0.7948, 0.8612, 0.0514, 0.6074, 0.8593,\n",
              "                      0.6260, 0.1662, 0.2781, 0.6393, 0.1120, 0.1694, 0.6808, 0.2036, 0.5469,\n",
              "                      0.5463, 0.6911, 0.0461, 0.1613, 0.7699, 0.5805, 0.5349, 0.6875, 0.6427,\n",
              "                      0.3790, 0.5736, 0.2543, 0.2546, 0.0437, 0.9882, 0.2991, 0.4111, 0.0451,\n",
              "                      0.3271, 0.4282, 0.8764, 0.1973, 0.1690, 0.5393, 0.1258, 0.2774, 0.6958,\n",
              "                      0.4828, 0.5238, 0.9902, 0.7970, 0.1577, 0.1050, 0.8418, 0.4496, 0.6787,\n",
              "                      0.7030, 0.2497, 0.6517, 0.7238, 0.3485, 0.6937, 0.1403, 0.2101, 0.0958,\n",
              "                      0.6741, 0.0820, 0.5586, 0.6552, 0.4140, 0.3038, 0.4362, 0.7430, 0.6668,\n",
              "                      0.9246, 0.2688, 0.1894, 0.0346, 0.7920, 0.2587, 0.2462, 0.3183, 0.0141,\n",
              "                      0.1057, 0.6858, 0.6390, 0.8946, 0.7657, 0.0470, 0.4441, 0.2215, 0.8620,\n",
              "                      0.1570, 0.2878, 0.6048, 0.9095, 0.8222, 0.7129, 0.7352, 0.0017, 0.8969,\n",
              "                      0.0002, 0.4550, 0.2797, 0.4357, 0.5728, 0.6420, 0.7919, 0.6397, 0.0208,\n",
              "                      0.0594, 0.7691, 0.8519, 0.5159, 0.0426, 0.7756, 0.4966, 0.9232, 0.0856,\n",
              "                      0.4940, 0.1690, 0.0267, 0.2391, 0.1093, 0.8917, 0.6187, 0.4857, 0.1629,\n",
              "                      0.0276, 0.1882, 0.1717, 0.2028, 0.9857, 0.0857, 0.2413, 0.0565, 0.8457,\n",
              "                      0.3237, 0.9196, 0.1680, 0.7566, 0.6599, 0.9243, 0.3213, 0.8328, 0.2627,\n",
              "                      0.1115, 0.7469, 0.3286, 0.2979, 0.5270, 0.6721, 0.9873, 0.0763, 0.3427,\n",
              "                      0.7280, 0.1949, 0.9942, 0.4303, 0.1477, 0.4465, 0.6438, 0.5302, 0.1197,\n",
              "                      0.6278, 0.3800, 0.2953, 0.1294, 0.6027, 0.4911, 0.6453, 0.6228, 0.0543,\n",
              "                      0.2951, 0.0237, 0.0357, 0.5626, 0.3043, 0.0265, 0.5276, 0.3390, 0.7004,\n",
              "                      0.2706, 0.6450, 0.0731, 0.1627, 0.2463, 0.2803, 0.5231, 0.0914, 0.6405,\n",
              "                      0.9888, 0.3979, 0.6246, 0.4286, 0.7688, 0.5832, 0.7079, 0.5199, 0.6748,\n",
              "                      0.7904, 0.8205, 0.7038, 0.6666, 0.2647, 0.0006, 0.7700, 0.9144, 0.1920,\n",
              "                      0.8892, 0.3370, 0.5635, 0.2375, 0.2231, 0.1315, 0.0524, 0.8008, 0.5088,\n",
              "                      0.6017, 0.0301, 0.1102, 0.3388, 0.9435, 0.8212, 0.8179, 0.5904, 0.8163,\n",
              "                      0.5242, 0.1297, 0.3532, 0.6369, 0.4241, 0.7046, 0.5103, 0.4716, 0.0374,\n",
              "                      0.1264, 0.4275, 0.3698, 0.6059, 0.7974, 0.6658, 0.2736, 0.7965, 0.3534,\n",
              "                      0.6049, 0.1194, 0.6409, 0.9840, 0.3338, 0.8069, 0.0100, 0.4104, 0.5415,\n",
              "                      0.2566, 0.7609, 0.5192, 0.1667, 0.1062, 0.4109, 0.4234, 0.4316, 0.1738,\n",
              "                      0.7026, 0.9419, 0.9744, 0.4856, 0.2144, 0.2302, 0.5998, 0.7017, 0.4260,\n",
              "                      0.8002, 0.5838, 0.1788, 0.6769, 0.5496, 0.9689, 0.5825, 0.4707, 0.5319,\n",
              "                      0.3235, 0.8957, 0.1884, 0.8992, 0.3458, 0.8012, 0.0912, 0.5967, 0.3637,\n",
              "                      0.7626, 0.6989, 0.5099, 0.7628, 0.8753, 0.2756, 0.3765, 0.1163, 0.1607,\n",
              "                      0.3440, 0.5734, 0.5154, 0.5367, 0.4690, 0.5929, 0.5230, 0.5175, 0.3091,\n",
              "                      0.3601, 0.4932, 0.4019, 0.4702, 0.8658, 0.6771, 0.9761, 0.9023, 0.3778,\n",
              "                      0.3912, 0.6579, 0.6792, 0.6701, 0.5080, 0.8277, 0.8910, 0.5447, 0.2061,\n",
              "                      0.4455, 0.4621, 0.0328, 0.6593, 0.7978, 0.1381, 0.0032, 0.9406, 0.0416,\n",
              "                      0.6331, 0.9718, 0.4611, 0.4482, 0.6199, 0.6804, 0.6497, 0.2607, 0.8679,\n",
              "                      0.6954, 0.4524, 0.5261, 0.6840, 0.1905, 0.8299, 0.4181, 0.3727, 0.0947,\n",
              "                      0.5903, 0.4616, 0.6269, 0.1832, 0.5698, 0.7549, 0.3796, 0.6494, 0.3635,\n",
              "                      0.8249, 0.1677, 0.9735, 0.8929, 0.5632, 0.8861, 0.1605, 0.2261, 0.9745,\n",
              "                      0.1011, 0.9146, 0.8498, 0.1588, 0.2609, 0.9793, 0.7606, 0.2967, 0.2230,\n",
              "                      0.2536, 0.0582, 0.8874, 0.9895, 0.6259, 0.8355, 0.2443, 0.8742, 0.9730,\n",
              "                      0.7925, 0.1164, 0.9203, 0.1307, 0.5750, 0.0121, 0.0628, 0.2221, 0.3167,\n",
              "                      0.6491, 0.5500, 0.8409, 0.0574, 0.5632, 0.7603, 0.1111, 0.7556, 0.4171,\n",
              "                      0.0004, 0.8185, 0.9457, 0.8449, 0.5179, 0.7561, 0.3168, 0.9712, 0.5279,\n",
              "                      0.9585, 0.1201, 0.0877, 0.7996, 0.9802, 0.0188, 0.3189, 0.9346, 0.0922,\n",
              "                      0.4094, 0.3435, 0.2997, 0.7906, 0.4772, 0.8739, 0.0911, 0.5032, 0.1397,\n",
              "                      0.3321, 0.6440, 0.4580, 0.0564, 0.3286, 0.5981, 0.8118, 0.7649, 0.8656,\n",
              "                      0.4835, 0.3235, 0.2716, 0.1403, 0.6397, 0.9161, 0.5904, 0.8497, 0.4664,\n",
              "                      0.1180, 0.7398, 0.6809, 0.7725, 0.8697, 0.0513, 0.1560, 0.2397, 0.8171,\n",
              "                      0.4912, 0.7317, 0.7051, 0.9232, 0.9587, 0.8382, 0.2625, 0.1043, 0.4733,\n",
              "                      0.6380, 0.8507, 0.3626, 0.8363, 0.3395, 0.9469, 0.4213, 0.5486, 0.7332,\n",
              "                      0.0629, 0.8399, 0.2980, 0.3797, 0.2519, 0.4397, 0.5690, 0.4826, 0.5042,\n",
              "                      0.5605, 0.2990, 0.4199, 0.6541, 0.5049, 0.6290, 0.8714, 0.7091, 0.3657,\n",
              "                      0.7953, 0.8313, 0.5115, 0.9315, 0.8168, 0.8395, 0.2709, 0.5470, 0.4795,\n",
              "                      0.8465, 0.8096, 0.8590, 0.4277, 0.7686, 0.5482, 0.1812, 0.9430, 0.0636,\n",
              "                      0.2698, 0.0355, 0.8827, 0.4762, 0.6701, 0.9402, 0.3394, 0.4998, 0.3457,\n",
              "                      0.2113, 0.1613, 0.7895, 0.5073, 0.0344, 0.6851, 0.5329, 0.3883, 0.3367,\n",
              "                      0.8972, 0.4937, 0.6124, 0.8058, 0.4819, 0.3947, 0.7883, 0.6289, 0.8596,\n",
              "                      0.2183, 0.3644, 0.0373, 0.2049, 0.2157, 0.2330, 0.8888, 0.0803, 0.4952,\n",
              "                      0.1971, 0.1410, 0.6882, 0.6306, 0.3381, 0.6702, 0.0832, 0.4316, 0.5926,\n",
              "                      0.2175, 0.4688, 0.5637, 0.0849, 0.6925, 0.0369, 0.1339, 0.7847, 0.1913,\n",
              "                      0.4892, 0.2001, 0.1170, 0.7139, 0.3340, 0.9305, 0.2644, 0.0647, 0.4121,\n",
              "                      0.0357, 0.2592, 0.7473, 0.4328, 0.5824, 0.1906, 0.1916, 0.2407, 0.7688,\n",
              "                      0.1405, 0.1745, 0.8584, 0.9434, 0.4620, 0.1669, 0.2592, 0.9149, 0.1900,\n",
              "                      0.7496, 0.0911, 0.7931, 0.9764, 0.1737, 0.5234, 0.1605, 0.6334, 0.2699,\n",
              "                      0.2232, 0.8159, 0.2037, 0.4523, 0.5814, 0.1897, 0.8981, 0.9582, 0.8856,\n",
              "                      0.5850, 0.8995, 0.6755, 0.9765, 0.1403, 0.4351, 0.9087, 0.8710, 0.2759,\n",
              "                      0.8034, 0.9380, 0.6611, 0.2436, 0.3273, 0.9503, 0.8808, 0.3931, 0.5996,\n",
              "                      0.2804, 0.1465, 0.9244, 0.1846, 0.1659, 0.6273, 0.0934, 0.8667, 0.7867,\n",
              "                      0.3978, 0.4728, 0.1011, 0.8853, 0.7385, 0.8223, 0.1327, 0.8697, 0.7878,\n",
              "                      0.1108, 0.6038, 0.2173, 0.1939, 0.5784, 0.8731, 0.6576, 0.6090, 0.8859,\n",
              "                      0.4403, 0.3749, 0.2482, 0.7914, 0.5643, 0.5780, 0.5154, 0.7961, 0.2522,\n",
              "                      0.5260, 0.7295, 0.0896, 0.8375, 0.7744, 0.3348, 0.8241, 0.2487, 0.1070,\n",
              "                      0.4275, 0.2365, 0.8536, 0.7263, 0.0942, 0.4412, 0.5653, 0.6065, 0.6779,\n",
              "                      0.1436, 0.7920, 0.8521, 0.1310, 0.1873, 0.9287, 0.0483, 0.2838, 0.5124,\n",
              "                      0.8939, 0.9557, 0.0856, 0.1425, 0.0387, 0.9302, 0.2819, 0.7642, 0.5111,\n",
              "                      0.5924, 0.8949, 0.1035, 0.4369, 0.4103, 0.9803, 0.3890, 0.4493, 0.4402,\n",
              "                      0.5364, 0.3334, 0.1710, 0.5528, 0.0564, 0.0720, 0.8025, 0.3652, 0.3617,\n",
              "                      0.0491, 0.0216, 0.0847, 0.3214, 0.0776, 0.2264, 0.9200, 0.5539, 0.4043,\n",
              "                      0.0786, 0.3229, 0.3672, 0.0522, 0.1909, 0.2826, 0.1898, 0.9537, 0.4476,\n",
              "                      0.5922, 0.7433, 0.8268, 0.2034, 0.4632, 0.1357, 0.8320, 0.4435, 0.9353,\n",
              "                      0.5531, 0.8968, 0.3585, 0.2029, 0.8356, 0.1239, 0.7412, 0.3708, 0.4138,\n",
              "                      0.4434, 0.0902, 0.5095, 0.6355, 0.3414, 0.8002, 0.1776, 0.6376, 0.5854,\n",
              "                      0.8910, 0.9630, 0.7763, 0.5171, 0.9323, 0.0144, 0.7507, 0.8244, 0.1364,\n",
              "                      0.7114, 0.2791, 0.8374, 0.0131, 0.7494, 0.8282, 0.7032, 0.4494, 0.5821,\n",
              "                      0.2387], device='cuda:0')),\n",
              "             ('bnlinear.bias',\n",
              "              tensor([-0.0125, -0.0042, -0.0107, -0.0050, -0.0079,  0.0005, -0.0075, -0.0101,\n",
              "                      -0.0088, -0.0020, -0.0039, -0.0109, -0.0019, -0.0051, -0.0046, -0.0082,\n",
              "                      -0.0147, -0.0070, -0.0037,  0.0021, -0.0063, -0.0027, -0.0046, -0.0118,\n",
              "                      -0.0006, -0.0019, -0.0065,  0.0016, -0.0053, -0.0068,  0.0078, -0.0128,\n",
              "                      -0.0032,  0.0010, -0.0052,  0.0002, -0.0033, -0.0039, -0.0007, -0.0119,\n",
              "                      -0.0144, -0.0070, -0.0044,  0.0006, -0.0050, -0.0022, -0.0103, -0.0136,\n",
              "                      -0.0031, -0.0066, -0.0065, -0.0045, -0.0047, -0.0060, -0.0024,  0.0006,\n",
              "                      -0.0068, -0.0027, -0.0060,  0.0083, -0.0034, -0.0032, -0.0060, -0.0003,\n",
              "                      -0.0051,  0.0001, -0.0023,  0.0027, -0.0080,  0.0041, -0.0082, -0.0047,\n",
              "                      -0.0087,  0.0048,  0.0062,  0.0000, -0.0066, -0.0118, -0.0076,  0.0035,\n",
              "                      -0.0126, -0.0030, -0.0067, -0.0139, -0.0060,  0.0022,  0.0022, -0.0090,\n",
              "                      -0.0070, -0.0062, -0.0100, -0.0199,  0.0037, -0.0065,  0.0011, -0.0101,\n",
              "                      -0.0056, -0.0055, -0.0155, -0.0074, -0.0079, -0.0030, -0.0085, -0.0149,\n",
              "                      -0.0046,  0.0002,  0.0006, -0.0023, -0.0027, -0.0062, -0.0095, -0.0078,\n",
              "                      -0.0066,  0.0064, -0.0078, -0.0022, -0.0097, -0.0052, -0.0046, -0.0011,\n",
              "                      -0.0213, -0.0051, -0.0072,  0.0050,  0.0014, -0.0044,  0.0020, -0.0057,\n",
              "                      -0.0067, -0.0075, -0.0022, -0.0014,  0.0028, -0.0036,  0.0027, -0.0022,\n",
              "                      -0.0028, -0.0138, -0.0079, -0.0057,  0.0002,  0.0033,  0.0002, -0.0069,\n",
              "                      -0.0083, -0.0186,  0.0139, -0.0076, -0.0059, -0.0065, -0.0041,  0.0009,\n",
              "                      -0.0102, -0.0056, -0.0046, -0.0140, -0.0070, -0.0078, -0.0091, -0.0001,\n",
              "                      -0.0058, -0.0102, -0.0114, -0.0052, -0.0038, -0.0031, -0.0104, -0.0031,\n",
              "                      -0.0119,  0.0006, -0.0091, -0.0072, -0.0157, -0.0065, -0.0024, -0.0110,\n",
              "                      -0.0206,  0.0011, -0.0037, -0.0116,  0.0094, -0.0006, -0.0060, -0.0157,\n",
              "                      -0.0112, -0.0013,  0.0007, -0.0052, -0.0021, -0.0043, -0.0014, -0.0102,\n",
              "                      -0.0109, -0.0039, -0.0019, -0.0039, -0.0011, -0.0183, -0.0116,  0.0020,\n",
              "                       0.0048, -0.0042, -0.0036, -0.0071, -0.0032, -0.0020, -0.0002, -0.0072,\n",
              "                      -0.0083, -0.0007, -0.0046,  0.0015, -0.0079, -0.0054,  0.0061, -0.0065,\n",
              "                      -0.0076,  0.0085, -0.0016,  0.0042, -0.0020, -0.0064, -0.0120, -0.0068,\n",
              "                       0.0028, -0.0090, -0.0097, -0.0047, -0.0021, -0.0044, -0.0076, -0.0070,\n",
              "                      -0.0021,  0.0001, -0.0120, -0.0034,  0.0054, -0.0003, -0.0058, -0.0054,\n",
              "                      -0.0139, -0.0090, -0.0045, -0.0121, -0.0043, -0.0005, -0.0042,  0.0022,\n",
              "                      -0.0052, -0.0049, -0.0080, -0.0068, -0.0021, -0.0046, -0.0062, -0.0152,\n",
              "                      -0.0014, -0.0085, -0.0024,  0.0037, -0.0153, -0.0039, -0.0055,  0.0014,\n",
              "                      -0.0110, -0.0037, -0.0005, -0.0051, -0.0092, -0.0140, -0.0084,  0.0044,\n",
              "                      -0.0064, -0.0050, -0.0066, -0.0129, -0.0042, -0.0070, -0.0045, -0.0063,\n",
              "                      -0.0082, -0.0068, -0.0018,  0.0015, -0.0037, -0.0087, -0.0073, -0.0116,\n",
              "                      -0.0067,  0.0010, -0.0050, -0.0074, -0.0090,  0.0038, -0.0073, -0.0030,\n",
              "                      -0.0042,  0.0020, -0.0095, -0.0089, -0.0039, -0.0089,  0.0023, -0.0083,\n",
              "                      -0.0021, -0.0016,  0.0004, -0.0011, -0.0082, -0.0187, -0.0108, -0.0082,\n",
              "                      -0.0014, -0.0019, -0.0047, -0.0013,  0.0004, -0.0173, -0.0061, -0.0042,\n",
              "                      -0.0030, -0.0052, -0.0076, -0.0055,  0.0010, -0.0083, -0.0065, -0.0015,\n",
              "                      -0.0013, -0.0053, -0.0067, -0.0039, -0.0007, -0.0024, -0.0023,  0.0011,\n",
              "                      -0.0168, -0.0085, -0.0121, -0.0023, -0.0023, -0.0036, -0.0042, -0.0058,\n",
              "                      -0.0049,  0.0017, -0.0096, -0.0005, -0.0065, -0.0015, -0.0082, -0.0159,\n",
              "                      -0.0101,  0.0009, -0.0051, -0.0012, -0.0035,  0.0037, -0.0048, -0.0066,\n",
              "                      -0.0061, -0.0129, -0.0007,  0.0041, -0.0071,  0.0091, -0.0016, -0.0000,\n",
              "                       0.0006, -0.0051,  0.0003,  0.0007, -0.0003, -0.0114, -0.0014, -0.0035,\n",
              "                      -0.0041, -0.0033, -0.0045, -0.0104, -0.0005,  0.0122, -0.0091, -0.0201,\n",
              "                      -0.0062, -0.0121, -0.0049, -0.0081, -0.0029, -0.0023,  0.0011, -0.0017,\n",
              "                      -0.0060,  0.0026, -0.0016,  0.0040, -0.0125, -0.0006,  0.0007,  0.0001,\n",
              "                       0.0115, -0.0045, -0.0064, -0.0011, -0.0052,  0.0006, -0.0020, -0.0026,\n",
              "                      -0.0029, -0.0038, -0.0057, -0.0069, -0.0040, -0.0050, -0.0100, -0.0121,\n",
              "                      -0.0038, -0.0061, -0.0031, -0.0033, -0.0036, -0.0049, -0.0029, -0.0067,\n",
              "                      -0.0151, -0.0067, -0.0087,  0.0052,  0.0006,  0.0012, -0.0055,  0.0002,\n",
              "                      -0.0065,  0.0001, -0.0084, -0.0027, -0.0116, -0.0031, -0.0060, -0.0111,\n",
              "                      -0.0130, -0.0013, -0.0033, -0.0034, -0.0215, -0.0048, -0.0108, -0.0067,\n",
              "                      -0.0070, -0.0045, -0.0029,  0.0022, -0.0030, -0.0033, -0.0026, -0.0051,\n",
              "                      -0.0069, -0.0073, -0.0010, -0.0079, -0.0042, -0.0119, -0.0081, -0.0051,\n",
              "                      -0.0002, -0.0024, -0.0128, -0.0052, -0.0069, -0.0006, -0.0061, -0.0064,\n",
              "                      -0.0030, -0.0026, -0.0101, -0.0040, -0.0003, -0.0076, -0.0045, -0.0064,\n",
              "                      -0.0046, -0.0194,  0.0001, -0.0015, -0.0030, -0.0069, -0.0119, -0.0032,\n",
              "                      -0.0042, -0.0033, -0.0069, -0.0091, -0.0033, -0.0036, -0.0084, -0.0099,\n",
              "                      -0.0073, -0.0102, -0.0023, -0.0149, -0.0165,  0.0048,  0.0011,  0.0093,\n",
              "                      -0.0023, -0.0105,  0.0009, -0.0061, -0.0043,  0.0010, -0.0065, -0.0057,\n",
              "                      -0.0053, -0.0016,  0.0011, -0.0018, -0.0034, -0.0014, -0.0033,  0.0080,\n",
              "                       0.0017, -0.0045, -0.0092, -0.0036, -0.0025, -0.0083, -0.0031, -0.0071,\n",
              "                      -0.0158, -0.0123, -0.0160, -0.0037, -0.0167, -0.0034, -0.0085, -0.0036,\n",
              "                      -0.0101, -0.0087, -0.0016, -0.0033,  0.0017, -0.0158, -0.0001, -0.0062,\n",
              "                      -0.0022, -0.0091, -0.0015, -0.0086,  0.0108, -0.0046, -0.0105, -0.0045,\n",
              "                      -0.0023, -0.0075, -0.0081, -0.0072,  0.0006, -0.0117, -0.0058, -0.0084,\n",
              "                       0.0003, -0.0069, -0.0011, -0.0029, -0.0039, -0.0098, -0.0037, -0.0000,\n",
              "                      -0.0113, -0.0064,  0.0014, -0.0011, -0.0064,  0.0033, -0.0027, -0.0039,\n",
              "                      -0.0080,  0.0016, -0.0109, -0.0104, -0.0080, -0.0061, -0.0022,  0.0028,\n",
              "                      -0.0197,  0.0018, -0.0204, -0.0076, -0.0140, -0.0068, -0.0088, -0.0125,\n",
              "                      -0.0005, -0.0177, -0.0031,  0.0011, -0.0037,  0.0006, -0.0076, -0.0095,\n",
              "                       0.0002, -0.0066, -0.0094, -0.0257,  0.0004, -0.0073,  0.0009, -0.0111,\n",
              "                      -0.0015, -0.0072,  0.0049, -0.0003, -0.0032, -0.0048, -0.0105,  0.0030,\n",
              "                      -0.0135,  0.0008, -0.0158, -0.0047,  0.0021, -0.0027, -0.0091, -0.0014,\n",
              "                      -0.0129, -0.0062, -0.0061, -0.0007, -0.0062, -0.0068, -0.0090, -0.0042,\n",
              "                       0.0048, -0.0079, -0.0049, -0.0014, -0.0068, -0.0139,  0.0014, -0.0024,\n",
              "                      -0.0015, -0.0063, -0.0145,  0.0018, -0.0082, -0.0024, -0.0100, -0.0027,\n",
              "                       0.0076,  0.0025, -0.0084, -0.0070,  0.0019, -0.0044, -0.0052, -0.0200,\n",
              "                      -0.0110, -0.0087,  0.0038, -0.0027, -0.0114, -0.0108, -0.0054, -0.0070,\n",
              "                      -0.0004,  0.0031,  0.0001, -0.0048, -0.0102,  0.0045, -0.0079, -0.0035,\n",
              "                      -0.0009,  0.0082, -0.0039, -0.0029,  0.0025, -0.0081, -0.0147, -0.0037,\n",
              "                      -0.0079, -0.0025,  0.0042, -0.0087, -0.0054, -0.0040,  0.0026, -0.0047,\n",
              "                      -0.0014, -0.0129, -0.0079, -0.0071,  0.0014, -0.0003, -0.0085, -0.0033,\n",
              "                       0.0014,  0.0018, -0.0072,  0.0007, -0.0073, -0.0049, -0.0149, -0.0040,\n",
              "                      -0.0084, -0.0032, -0.0080, -0.0034, -0.0059, -0.0086, -0.0015, -0.0049,\n",
              "                      -0.0052, -0.0021, -0.0040, -0.0050, -0.0103, -0.0078, -0.0058, -0.0008,\n",
              "                      -0.0095, -0.0090, -0.0072, -0.0054, -0.0099, -0.0093, -0.0055, -0.0134,\n",
              "                       0.0005, -0.0094, -0.0004, -0.0038,  0.0124, -0.0059, -0.0174, -0.0040,\n",
              "                      -0.0088, -0.0018, -0.0053, -0.0043, -0.0073, -0.0049,  0.0139, -0.0116,\n",
              "                      -0.0070, -0.0031, -0.0034, -0.0060, -0.0051,  0.0006, -0.0106, -0.0043,\n",
              "                       0.0089, -0.0029, -0.0089,  0.0031, -0.0060, -0.0014,  0.0037, -0.0118,\n",
              "                       0.0038, -0.0014, -0.0115,  0.0045, -0.0095, -0.0056,  0.0001, -0.0065,\n",
              "                      -0.0079, -0.0044,  0.0063, -0.0053, -0.0013, -0.0076, -0.0203,  0.0017,\n",
              "                      -0.0055, -0.0076, -0.0210, -0.0010,  0.0024, -0.0030, -0.0053, -0.0044,\n",
              "                      -0.0081, -0.0089, -0.0062, -0.0115, -0.0027, -0.0071, -0.0004,  0.0053,\n",
              "                      -0.0049, -0.0014, -0.0047, -0.0036, -0.0136,  0.0013, -0.0081, -0.0135,\n",
              "                      -0.0062, -0.0030, -0.0067, -0.0059, -0.0101, -0.0017, -0.0023,  0.0032,\n",
              "                      -0.0156, -0.0027, -0.0053, -0.0034, -0.0058, -0.0005,  0.0021, -0.0094,\n",
              "                      -0.0062, -0.0078, -0.0021, -0.0028,  0.0046, -0.0001, -0.0062, -0.0050,\n",
              "                      -0.0090, -0.0063, -0.0133, -0.0042, -0.0021, -0.0149, -0.0082, -0.0063,\n",
              "                      -0.0009, -0.0112, -0.0070, -0.0012, -0.0051, -0.0034, -0.0083, -0.0030,\n",
              "                      -0.0086, -0.0032, -0.0104,  0.0052,  0.0024, -0.0022, -0.0012, -0.0041,\n",
              "                      -0.0076,  0.0085, -0.0005, -0.0008, -0.0014, -0.0091, -0.0064,  0.0002,\n",
              "                       0.0018, -0.0076, -0.0079, -0.0060, -0.0102,  0.0066, -0.0082, -0.0104,\n",
              "                      -0.0003, -0.0089,  0.0131, -0.0080, -0.0031, -0.0155, -0.0087, -0.0076,\n",
              "                      -0.0081,  0.0073, -0.0032, -0.0088, -0.0051, -0.0051, -0.0053,  0.0047,\n",
              "                      -0.0035,  0.0021, -0.0081, -0.0087, -0.0020, -0.0160, -0.0082, -0.0090,\n",
              "                      -0.0083, -0.0007, -0.0027, -0.0027, -0.0026, -0.0046, -0.0168,  0.0009,\n",
              "                       0.0013, -0.0040, -0.0118, -0.0021, -0.0028,  0.0011, -0.0075, -0.0097,\n",
              "                      -0.0015, -0.0218, -0.0038, -0.0071, -0.0053, -0.0186, -0.0060, -0.0018,\n",
              "                       0.0059, -0.0000, -0.0034, -0.0053, -0.0017, -0.0075, -0.0034, -0.0066,\n",
              "                      -0.0060, -0.0154,  0.0012, -0.0067, -0.0036, -0.0009, -0.0067, -0.0027,\n",
              "                       0.0002, -0.0035, -0.0015, -0.0039, -0.0040, -0.0052, -0.0022,  0.0036,\n",
              "                      -0.0108,  0.0003, -0.0056, -0.0084,  0.0020, -0.0028, -0.0051,  0.0005,\n",
              "                      -0.0015, -0.0064, -0.0068,  0.0033,  0.0076, -0.0003, -0.0013, -0.0085,\n",
              "                      -0.0021, -0.0065, -0.0084, -0.0088, -0.0009, -0.0073, -0.0033, -0.0111,\n",
              "                      -0.0099, -0.0050, -0.0013, -0.0033, -0.0116, -0.0079, -0.0035, -0.0135,\n",
              "                      -0.0028, -0.0027, -0.0034, -0.0055,  0.0010, -0.0025, -0.0110, -0.0045,\n",
              "                      -0.0025, -0.0063, -0.0062, -0.0048, -0.0075, -0.0043,  0.0020,  0.0012,\n",
              "                      -0.0157, -0.0116, -0.0009, -0.0034, -0.0023,  0.0068, -0.0050, -0.0094,\n",
              "                      -0.0162, -0.0012, -0.0031, -0.0088, -0.0129, -0.0203, -0.0063, -0.0131],\n",
              "                     device='cuda:0')),\n",
              "             ('bnlinear.running_mean',\n",
              "              tensor([ 1.6660e+00, -1.3729e+00, -8.3775e+00, -8.3999e-01, -2.8459e+00,\n",
              "                       4.7948e+00, -4.1757e+00,  5.7132e+00,  6.8099e+00, -5.1122e-01,\n",
              "                       1.0753e+00, -3.0108e+00, -2.7659e+00, -1.4921e+00, -4.2710e+00,\n",
              "                      -3.2090e+00, -2.4440e+00, -1.3480e+00, -1.5797e+00, -1.0507e+00,\n",
              "                       3.2237e-01,  2.0898e+00, -1.8305e+00,  5.9789e+00,  1.7359e+00,\n",
              "                       5.3479e+00,  1.8047e+00,  1.3056e+00,  7.4416e-01,  3.9186e+00,\n",
              "                       3.2994e+00, -2.9899e-01,  3.1707e-01, -6.5202e-01,  9.1108e-01,\n",
              "                      -1.1219e+00, -1.1413e+00, -5.7481e-01,  5.2886e+00,  3.5333e+00,\n",
              "                       8.5972e+00,  2.7671e+00,  2.2340e+00, -8.6355e-01, -3.8436e+00,\n",
              "                      -6.9436e+00,  1.5841e+00, -2.0337e+00,  3.8816e+00,  3.2752e+00,\n",
              "                      -2.0130e+00,  2.1390e+00,  1.7521e-01, -4.2034e+00, -4.0478e-01,\n",
              "                       3.3561e+00,  3.9007e+00, -6.4041e-01, -2.0156e+00,  5.0791e-01,\n",
              "                       4.8253e+00,  1.1839e+00, -1.4278e-01, -5.1677e+00, -8.1491e-01,\n",
              "                       2.3095e+00, -6.7075e+00, -2.0489e-01,  3.8692e+00,  6.6474e+00,\n",
              "                      -1.0170e+00,  1.5939e+00,  3.4565e+00,  5.3036e+00,  4.3519e+00,\n",
              "                      -1.2013e-01,  7.5690e+00,  1.1432e+01,  4.4448e+00,  1.6796e+00,\n",
              "                       3.9935e+00, -5.5293e+00,  5.6901e+00,  3.5976e+00,  6.7998e+00,\n",
              "                       5.2201e-01, -5.2672e+00,  3.0239e+00,  5.3869e+00, -1.2031e+00,\n",
              "                      -7.3670e-02,  3.4235e+00, -5.0198e+00, -1.4366e+00,  1.2411e+00,\n",
              "                      -5.9343e+00,  1.8958e+00,  1.3394e+00, -1.6074e+00, -6.1034e+00,\n",
              "                       1.7101e+00, -4.3500e+00, -5.2769e-01,  7.5657e+00, -2.0663e+00,\n",
              "                      -2.2696e+00, -2.1140e+00, -5.4225e-01,  2.2248e+00,  4.4328e-01,\n",
              "                      -3.4767e-01,  1.5996e+00,  3.9148e+00, -2.0647e+00, -4.5403e+00,\n",
              "                       3.5091e+00,  5.4835e+00,  1.9115e+00,  3.1505e+00,  6.5231e+00,\n",
              "                       7.2372e+00,  3.3179e+00, -5.0790e-01,  4.1417e+00,  1.3947e+00,\n",
              "                       4.3810e+00,  2.4380e+00, -3.6302e+00, -9.4970e-01,  2.2056e+00,\n",
              "                       2.0303e+00,  3.7452e-01,  2.2593e+00, -7.8715e-01,  1.9149e+00,\n",
              "                       1.2739e+00, -5.0991e-01,  1.7793e-01,  7.6358e-01, -3.3155e+00,\n",
              "                       3.1758e+00, -4.6892e+00,  1.8534e+00, -3.3086e+00,  1.5403e+00,\n",
              "                       1.7636e+00,  5.6800e+00, -2.3906e+00,  3.0806e+00, -3.7725e+00,\n",
              "                       5.0379e-01, -3.5522e-01,  6.6202e-02, -5.9309e+00,  5.2572e-01,\n",
              "                      -1.2543e+00,  7.9934e-01,  1.1934e+00, -6.5049e+00,  5.6766e-01,\n",
              "                       1.3250e+00, -8.7681e+00,  1.7719e+00,  2.5288e-01, -6.5766e+00,\n",
              "                       4.6191e+00,  7.7804e+00,  1.7525e-02,  3.9271e+00,  4.8261e-01,\n",
              "                       7.5365e+00,  2.2119e+00,  3.5609e-02,  9.0002e+00,  5.0225e-01,\n",
              "                      -1.3941e+00,  1.2892e+00,  8.1198e-02,  1.3446e+00, -2.6989e+00,\n",
              "                       3.8095e-01, -3.3269e+00, -4.3104e+00,  3.5412e+00,  9.7854e+00,\n",
              "                      -2.4988e+00,  3.3892e+00,  6.4015e-01,  1.1951e+00,  3.5805e+00,\n",
              "                      -1.8550e+00, -3.6099e+00, -7.5362e-01, -3.4976e+00, -3.8888e-01,\n",
              "                      -9.6467e-01,  1.5733e+00, -9.3428e+00, -5.9598e-02,  1.3630e-01,\n",
              "                       1.1757e-01,  2.1774e+00,  1.0390e+00,  8.7811e-01,  7.5505e-01,\n",
              "                      -4.7944e-01, -9.8223e-01, -4.0231e+00, -2.7364e+00, -4.3054e+00,\n",
              "                      -3.5883e+00, -1.2719e-01,  7.7469e-01, -9.7124e-01, -2.8574e+00,\n",
              "                       5.2897e-01,  4.9213e-01, -2.3687e+00,  1.7041e+00,  5.0770e+00,\n",
              "                      -8.1342e+00, -7.6774e-01,  1.8723e+00,  6.1870e+00, -6.6368e-01,\n",
              "                       7.1463e+00, -4.6568e-01,  1.4457e+00,  5.8622e+00,  7.3441e-01,\n",
              "                      -2.0535e-01, -6.4967e+00, -3.0214e+00, -1.9207e+00,  6.9654e+00,\n",
              "                      -2.3002e+00,  8.5478e-01,  2.3367e-01, -4.8994e+00, -4.2139e+00,\n",
              "                       5.6757e+00,  1.8660e+00, -5.1287e+00,  5.4057e+00, -6.2089e+00,\n",
              "                      -1.1907e+00, -2.3774e+00,  1.7920e+00, -7.6092e+00,  4.6679e+00,\n",
              "                      -3.0535e-02,  5.2699e-01,  2.9280e+00,  2.5374e+00,  2.9302e+00,\n",
              "                       2.2140e+00,  1.5213e+00, -4.4688e+00,  1.4762e+00,  2.8668e+00,\n",
              "                       1.9956e+00, -2.1258e+00,  2.9358e+00,  4.6106e+00, -2.5490e+00,\n",
              "                       8.7489e-01, -9.4411e-02, -7.9870e-01,  9.4752e-01, -4.0517e+00,\n",
              "                      -1.0385e-02,  5.1220e+00, -1.3439e+00,  1.2452e-01, -1.5045e+00,\n",
              "                       4.3642e+00, -7.5283e-01,  9.7011e-01,  8.1323e-01, -7.8270e+00,\n",
              "                      -4.4081e-01,  2.8023e+00, -3.4330e+00, -3.1634e+00,  1.4949e+00,\n",
              "                       3.2942e+00, -1.0099e+00,  4.0797e+00,  4.7344e+00,  3.4477e-01,\n",
              "                      -4.8593e+00,  7.9843e-01, -8.3416e+00,  5.9024e-02,  5.5349e-01,\n",
              "                       5.2623e-01, -1.0821e+00,  2.1462e-01,  8.4113e+00,  3.8392e+00,\n",
              "                      -4.4360e+00, -1.3332e+00, -9.0095e-01,  1.6413e+00, -4.2479e+00,\n",
              "                       3.7965e+00, -9.7444e-01,  2.5995e+00,  1.9686e+00,  1.6734e+00,\n",
              "                       2.0271e+00, -3.4487e+00, -2.1477e+00,  9.8144e-01, -8.3283e-01,\n",
              "                      -5.3611e-02, -3.8685e+00,  2.4463e+00,  2.3835e+00, -9.6079e-01,\n",
              "                      -4.8783e+00,  6.4621e+00, -5.2103e+00, -1.8397e+00, -7.1351e-02,\n",
              "                      -1.0924e+00,  6.1063e+00, -6.2074e+00,  1.0740e+00,  6.0348e+00,\n",
              "                       6.2305e-01, -4.5446e+00,  7.3616e-01, -2.5962e-01, -2.0200e+00,\n",
              "                      -3.7468e-01,  3.4235e+00, -2.5458e+00, -5.1877e+00, -1.0669e+00,\n",
              "                      -3.3383e+00, -6.9725e-01,  3.2291e-01, -4.6528e+00, -2.3273e+00,\n",
              "                       1.0556e+00,  3.0755e+00,  5.1596e-01, -4.5991e-01, -1.2978e+00,\n",
              "                      -3.7294e+00, -3.2845e+00, -6.8099e+00,  1.4141e+00,  8.1892e+00,\n",
              "                       1.7946e+00, -3.1681e+00, -6.8993e-02,  9.2377e+00,  2.0203e+00,\n",
              "                      -5.2630e-02, -4.2035e+00, -5.5115e+00,  2.3697e+00, -1.4765e+00,\n",
              "                      -3.3678e-01, -4.1157e-01,  6.0214e-02,  1.0589e+00,  2.4699e-01,\n",
              "                      -2.5293e+00,  1.9862e+00,  4.8716e+00, -2.1288e-02, -2.9145e+00,\n",
              "                      -1.0569e+00,  2.5713e-01,  7.9689e-01, -1.8234e-02,  1.7479e+00,\n",
              "                       7.4822e-01,  1.9418e+00,  7.3993e-01,  2.0026e+00,  1.3248e+00,\n",
              "                      -1.8415e-01, -1.6332e+00,  2.9911e+00, -9.1219e-02,  9.7220e-01,\n",
              "                       2.4456e+00, -2.9164e+00, -6.3858e-02,  2.0036e-02,  1.7074e+00,\n",
              "                       3.7713e-02, -1.0486e+00, -2.3877e+00, -1.2281e+00,  1.2883e+00,\n",
              "                       4.3339e+00,  2.4327e+00,  9.3012e+00, -1.1340e+00,  3.2776e+00,\n",
              "                       6.1857e+00, -1.7611e+00, -5.4395e+00, -3.0009e+00,  8.4384e-01,\n",
              "                      -3.1536e+00,  5.3640e+00,  4.5299e+00, -3.2995e+00, -4.8204e-01,\n",
              "                      -4.2943e+00, -3.9666e+00,  1.5285e+00, -1.0801e+00, -1.9296e+00,\n",
              "                       1.6252e+00,  9.0384e+00,  5.3805e-01, -5.4280e+00, -1.5879e+00,\n",
              "                       3.3084e+00,  1.3797e+00,  3.3631e+00, -8.0494e-01,  9.0998e-01,\n",
              "                       5.2610e+00,  2.1140e+00, -1.0030e+00, -4.1860e-01, -5.0858e-01,\n",
              "                       1.7749e+00,  3.3973e+00,  1.9571e-01,  4.7611e+00, -5.3987e+00,\n",
              "                       5.3809e+00, -3.0526e+00, -3.2663e-04,  1.3932e+00,  3.5374e+00,\n",
              "                       2.5191e+00,  2.7867e+00,  4.5601e-01, -5.2793e+00,  1.7262e+00,\n",
              "                       6.3566e-01,  2.1600e+00,  1.8514e+00,  4.1222e-01, -4.3924e+00,\n",
              "                      -1.5515e+00,  7.2028e-01, -2.4695e+00,  4.4283e-01, -2.5916e+00,\n",
              "                       2.2874e+00, -1.0904e+01,  2.0978e+00,  1.9918e+00,  3.0530e+00,\n",
              "                       5.6249e-01,  5.8049e+00,  3.5405e+00, -4.9271e-01,  1.8321e+00,\n",
              "                      -5.0387e+00, -3.3341e+00, -2.2177e+00, -3.1894e+00, -1.8606e+00,\n",
              "                      -4.1353e+00,  9.1262e-01, -1.7126e+00, -1.4796e+00, -1.0542e+00,\n",
              "                      -1.5822e+00,  3.0598e+00,  3.6223e-01,  4.4258e+00, -5.5275e+00,\n",
              "                       2.8227e+00,  1.2129e+00, -6.1805e+00,  5.4629e-01, -1.8707e+00,\n",
              "                      -1.8725e+00, -4.8234e+00, -3.8775e+00, -1.3475e+00,  5.1813e+00,\n",
              "                       2.3869e+00, -1.6278e+00,  4.9002e-01, -3.8297e+00,  1.8251e+00,\n",
              "                       8.6271e+00,  5.0164e-01, -3.3573e+00,  4.2115e+00, -3.2683e+00,\n",
              "                       1.9978e+00, -2.9269e+00, -5.0336e+00,  7.1927e-01,  8.9144e-01,\n",
              "                       4.4482e+00, -2.7332e-01, -2.3912e-01,  8.7056e-01,  9.9870e-01,\n",
              "                      -2.5463e+00, -1.5217e+00, -2.6261e+00, -2.2373e+00,  2.0169e+00,\n",
              "                       5.4984e+00,  3.3601e-01,  2.8369e+00,  2.3160e-01, -1.4209e-02,\n",
              "                       2.9741e+00, -6.5653e+00,  1.4239e+00,  9.9454e+00,  2.7767e+00,\n",
              "                       3.7575e+00,  4.5438e-01, -2.3631e+00,  2.3429e+00, -3.7590e+00,\n",
              "                      -2.1074e-01, -4.0667e+00, -6.8495e-01, -2.0425e+00, -2.5550e+00,\n",
              "                       3.6633e+00,  4.8626e+00,  1.2597e+00, -7.8762e-02, -1.5291e+00,\n",
              "                       2.5353e+00, -7.0861e-02,  3.8541e+00,  1.8470e+00,  2.3225e+00,\n",
              "                       5.9011e+00, -5.0662e+00, -1.0227e+00,  1.5658e+00,  6.4421e+00,\n",
              "                      -2.6883e+00,  1.5362e+00,  2.9161e+00, -2.8586e+00, -5.0411e-01,\n",
              "                       1.6963e+00,  3.9158e+00, -2.7756e+00, -8.7705e-01,  7.9879e-01,\n",
              "                       1.9884e+00, -2.3652e+00,  1.6339e+00,  1.5523e+00,  5.0889e+00,\n",
              "                      -1.9761e+00, -2.4365e+00,  5.7543e+00,  2.3390e+00, -1.7211e-01,\n",
              "                       1.3271e+00, -2.9375e+00,  4.6454e-02,  2.0945e+00, -1.5906e-01,\n",
              "                      -2.7977e+00,  2.7676e+00, -2.7021e-01,  3.1433e+00, -3.4019e+00,\n",
              "                       4.8637e-01,  1.4045e+00, -5.3536e+00, -1.1338e+00,  3.0831e+00,\n",
              "                       8.9721e-02,  9.5916e+00,  4.4060e+00, -1.1828e-01,  1.0119e+00,\n",
              "                       1.9776e+00, -5.2609e+00,  2.9888e+00, -3.3425e+00, -5.0225e+00,\n",
              "                       2.9537e+00,  2.6482e-01,  1.1419e+01,  5.3048e+00,  7.7028e-01,\n",
              "                       1.0873e+01, -3.6906e-01,  1.8890e+00,  3.4421e-04,  1.5400e+00,\n",
              "                      -3.6810e+00, -3.7157e+00, -4.3842e-01,  2.0561e+00,  2.8160e+00,\n",
              "                       1.8213e-02, -6.5410e+00, -1.3971e+00, -5.5139e-01, -3.0667e+00,\n",
              "                      -3.7539e+00, -1.1346e-01,  2.1303e+00, -3.5990e-01,  3.4782e+00,\n",
              "                      -1.8045e+00,  3.2748e+00,  1.8344e+00, -2.9584e+00,  3.7660e+00,\n",
              "                      -4.3325e+00,  3.7424e-01,  1.1721e+00, -3.8150e+00,  6.4336e+00,\n",
              "                       3.3253e-01,  4.3168e+00,  1.3628e+00,  1.9472e+00, -4.7711e-01,\n",
              "                      -3.5969e+00,  1.8179e+00,  1.2010e+00,  9.6594e-01,  6.6529e+00,\n",
              "                      -7.8847e-01,  6.6879e-01,  2.0256e+00, -2.8480e+00,  3.9951e+00,\n",
              "                      -4.9667e+00, -1.3867e+00, -2.7429e+00,  3.5578e+00,  5.4009e+00,\n",
              "                      -2.3280e+00,  4.6729e-01, -1.8965e+00,  3.5939e+00,  2.4474e+00,\n",
              "                       2.4433e+00, -3.9250e+00,  3.2078e+00, -7.3574e+00,  3.5100e+00,\n",
              "                       6.3637e+00, -2.0829e+00,  4.8079e+00,  4.9789e+00, -2.5102e+00,\n",
              "                       3.4872e+00, -1.4491e+00,  3.5613e+00,  2.0603e+00, -7.8277e+00,\n",
              "                      -2.3512e+00,  9.9976e+00,  3.9206e+00, -1.9596e+00, -1.5497e+00,\n",
              "                       6.4610e+00, -1.3572e+00, -4.6290e-01,  3.1607e+00,  1.7786e+00,\n",
              "                       5.1155e+00,  3.7786e+00,  7.9658e-02, -4.4350e+00,  3.6466e+00,\n",
              "                      -2.4891e-01, -1.1151e+00, -2.2269e-01,  1.2286e+00, -3.5654e-01,\n",
              "                       2.5760e+00,  1.9281e+00,  3.4493e+00, -7.9282e-01,  4.1936e+00,\n",
              "                      -3.7497e+00, -2.2177e+00,  6.8894e+00, -8.7230e-01,  1.9234e+00,\n",
              "                       6.9461e+00,  1.8123e+00,  3.0068e+00,  5.5528e+00, -2.9195e+00,\n",
              "                      -2.2707e+00,  4.5070e+00,  1.6132e-01, -2.5400e+00, -2.5335e+00,\n",
              "                       2.8816e+00, -3.9598e+00,  2.9741e+00,  3.5516e+00,  2.6798e+00,\n",
              "                      -4.9422e-01,  1.8328e+00, -6.6243e+00, -7.5824e-01,  2.4273e+00,\n",
              "                      -5.0235e+00, -1.3621e+00,  4.0811e+00, -5.8567e-01,  1.7639e+00,\n",
              "                       1.1366e+00,  3.9319e+00,  6.6154e+00, -1.9711e+00,  7.7990e+00,\n",
              "                       8.6223e-01, -9.2229e+00, -2.7821e+00,  2.1354e+00,  3.5207e+00,\n",
              "                      -4.4154e+00,  7.1597e+00,  9.4927e-01,  1.1249e+00,  2.8779e+00,\n",
              "                       9.6547e-01,  9.3325e-01,  7.2988e-01, -1.0286e+00,  1.8653e+00,\n",
              "                       6.8304e+00,  2.0971e+00,  4.7225e+00, -6.7588e+00, -4.2024e+00,\n",
              "                       4.6657e+00, -3.8964e+00,  1.8188e+00, -6.9824e-01,  7.9533e-01,\n",
              "                       3.7877e-01,  1.4025e+00,  1.7332e+00, -6.5560e-01,  3.5793e-02,\n",
              "                       3.9766e+00,  8.1648e-01,  2.6610e+00, -3.2108e+00,  1.4935e+00,\n",
              "                       4.4759e+00,  3.9075e-01, -8.9373e-01,  3.2891e-01,  1.9636e+00,\n",
              "                       7.0695e+00,  9.5634e-01,  7.2789e-01,  4.6234e+00, -5.0776e-01,\n",
              "                       4.8812e-01, -9.7690e-01, -1.4053e-01, -1.3087e-01,  2.2412e+00,\n",
              "                       1.3097e+00, -2.2672e+00, -3.8835e+00,  1.5320e+00, -1.9212e-01,\n",
              "                       2.2284e+00,  8.6147e-01, -1.7023e+00, -4.0339e+00, -1.2961e+00,\n",
              "                       1.7883e+00,  3.5618e+00,  2.6959e+00, -2.3854e-01,  5.0803e-01,\n",
              "                      -4.9386e+00, -6.7389e-01, -2.2142e+00,  3.4681e+00,  7.1178e-01,\n",
              "                      -6.8726e-01, -5.5143e+00, -2.1837e+00,  1.5521e+00,  2.4034e+00,\n",
              "                      -2.0531e+00,  3.1413e-01, -3.1227e+00,  4.7958e+00,  3.9921e+00,\n",
              "                      -2.2329e+00,  1.5161e-01, -3.0328e+00, -7.4005e-01, -5.7014e-01,\n",
              "                       4.5656e+00,  7.5182e-01,  1.5121e+00, -3.0569e+00,  8.9798e-01,\n",
              "                      -9.5731e-01,  5.8704e+00, -1.5177e+00, -7.9427e+00,  7.9677e+00,\n",
              "                      -6.8272e+00, -2.1846e+00,  7.4342e-01,  3.1168e+00,  2.2576e+00,\n",
              "                      -1.6686e-01,  2.5773e+00, -8.3915e+00, -1.1373e+00, -4.5879e+00,\n",
              "                       1.1563e+00, -1.0225e+00, -7.2374e-01, -1.7681e+00,  1.8896e+00,\n",
              "                       4.4154e+00, -1.5320e+00, -1.0184e+00, -5.8701e-01,  1.4272e+00,\n",
              "                       6.1495e-01,  3.4132e+00,  6.1064e-01,  8.9631e-01,  2.2071e+00,\n",
              "                      -3.1810e+00, -2.5445e+00,  9.0332e-01, -1.3246e-01, -7.2433e+00,\n",
              "                      -5.4486e-01,  3.1404e+00, -5.1754e+00, -6.2365e+00,  2.0718e+00,\n",
              "                       7.3879e+00,  2.6069e+00,  1.8615e-01, -1.4359e+00, -4.1194e+00,\n",
              "                       5.1113e+00,  5.9003e-01, -1.6529e+00,  2.6404e+00,  3.0302e+00,\n",
              "                       1.6396e+00, -8.7929e-01, -2.4321e+00,  9.1074e-01,  3.6638e+00,\n",
              "                       2.2072e-01,  1.6754e+00,  2.7786e-03,  2.5479e+00, -5.7680e-01,\n",
              "                      -1.9206e-01,  4.5330e+00, -1.5450e+00,  3.3074e+00, -1.2373e+00,\n",
              "                      -2.4251e+00,  4.0274e+00,  3.1508e-01, -1.0139e+00, -1.2059e+00,\n",
              "                      -8.3383e-01, -2.0305e+00, -4.7156e+00,  5.0550e+00,  8.2746e+00,\n",
              "                       1.0023e+00,  8.2338e+00, -1.0281e+01, -5.4799e-01, -3.0407e-01,\n",
              "                      -4.7936e+00, -5.6537e-01, -8.0621e-01,  2.7589e+00,  6.8757e-01,\n",
              "                       5.4137e+00, -1.6918e-01,  1.1237e+00,  3.8147e-01,  6.9708e+00,\n",
              "                      -3.9298e+00,  3.7945e+00,  5.6726e-01, -6.3345e-01, -3.3369e+00,\n",
              "                       3.4690e+00,  1.5087e+00, -1.2720e-01, -4.0108e+00,  5.9401e+00,\n",
              "                       4.4494e+00, -2.9407e+00, -4.8355e+00, -4.1698e+00,  2.2386e+00,\n",
              "                      -5.9916e+00,  2.9446e-01, -1.4153e+00,  7.6407e+00, -1.4632e+00,\n",
              "                       4.4349e+00,  5.5214e-01, -1.0670e+00, -2.3082e-01, -5.9006e+00,\n",
              "                      -8.2016e-03,  2.2273e+00, -3.5642e+00, -2.7913e+00, -8.7724e-02,\n",
              "                       1.3978e+00, -4.4021e+00, -5.6834e+00,  3.8915e-01,  2.6907e+00,\n",
              "                       3.6682e+00, -2.4185e+00,  6.2244e+00,  2.5615e-02, -3.9427e+00,\n",
              "                       7.8607e+00, -2.2333e+00,  4.1346e-01, -5.8695e-01,  2.4432e+00,\n",
              "                       7.3769e+00, -1.6666e+00,  2.2979e+00, -2.7335e+00, -5.9400e-03,\n",
              "                      -2.3543e+00, -1.1173e+00,  3.5898e+00,  1.5558e+00,  4.0146e+00,\n",
              "                       3.4830e+00, -3.8193e+00, -6.9032e+00,  2.2507e+00, -1.1311e+00,\n",
              "                       2.9275e+00, -1.6393e+00, -3.8390e+00, -4.4428e+00, -6.8306e+00,\n",
              "                       4.6715e+00,  3.1757e+00,  3.3227e+00,  4.3037e+00, -3.9889e+00,\n",
              "                      -8.6972e+00,  4.7320e-02,  2.5685e-02,  3.6589e+00, -2.8913e+00,\n",
              "                      -3.8052e+00,  2.3140e+00,  8.1733e+00,  1.4478e+00,  2.7368e+00,\n",
              "                       3.7381e+00,  1.5988e+00, -3.3047e+00, -2.1525e+00,  6.7495e-01],\n",
              "                     device='cuda:0')),\n",
              "             ('bnlinear.running_var',\n",
              "              tensor([ 3.9037,  1.3981,  6.5400,  1.2258,  3.6971,  4.2362,  3.2420,  4.1655,\n",
              "                       4.6450,  2.7164,  3.1139,  3.3507,  1.0853,  3.4286,  5.3656,  3.7476,\n",
              "                       2.1289,  2.4150,  1.2265,  0.5637,  4.9470,  4.5546,  0.6980,  7.8381,\n",
              "                       0.8498,  7.7611,  3.7930,  0.9447,  2.1829,  5.6597,  4.0497,  7.1188,\n",
              "                       1.3111,  7.0909,  1.9528,  0.7388,  3.7161,  0.5147,  4.1309,  3.0872,\n",
              "                       5.9117,  4.4416,  3.9693,  0.4227,  2.2604,  4.3611,  4.8101,  3.4780,\n",
              "                       2.1486,  2.1454,  1.2238,  1.6381,  3.0672,  4.7341,  0.7955,  1.3222,\n",
              "                       2.0578,  1.8120,  6.8404,  0.5211,  4.7922,  2.8811,  0.5091,  8.4810,\n",
              "                       4.1148,  2.2623,  4.0150,  0.5518,  3.8349,  9.3529,  4.5274,  0.8447,\n",
              "                       4.3672,  6.1358,  8.2437,  1.0361,  4.8197,  6.3502,  8.1250,  1.7988,\n",
              "                       4.3405,  4.2423, 10.7713,  6.7543,  4.6293,  1.4254,  5.1053,  2.0544,\n",
              "                       4.7728,  5.3475,  7.3350,  3.1394,  3.6875,  0.6742,  1.0139,  3.5342,\n",
              "                       4.4279,  1.3041,  3.3396,  5.9867,  0.7588,  2.9116,  5.8208,  8.2123,\n",
              "                      10.7788,  2.3165,  1.1658,  0.8521,  1.7828,  2.7974,  2.1616,  1.1446,\n",
              "                       3.1825,  1.3807,  2.8926,  3.3007,  4.9318,  5.9697,  2.5813,  2.8003,\n",
              "                       4.1532,  1.6005,  2.3170,  7.6607,  1.4488,  4.4304,  1.4169,  3.1096,\n",
              "                       2.0861,  5.9495,  2.5843,  1.0704,  2.4307,  2.5523,  2.2021,  0.9813,\n",
              "                       1.0536,  4.8372,  4.2988,  3.5894,  8.4448,  7.5622,  0.7122,  8.1898,\n",
              "                       2.7223,  3.6528,  6.1059,  1.7582,  2.5976,  3.5417,  4.0002,  0.7532,\n",
              "                       4.6235,  5.2452,  1.9580,  4.7255,  1.0861,  2.0054,  2.6072,  1.4356,\n",
              "                       3.1402,  8.2097,  5.3743,  1.3913,  2.1533,  5.2677,  9.5443,  1.4479,\n",
              "                       5.6510,  0.7871,  7.9656,  5.8418,  6.8330, 10.9982, 11.2630,  8.9516,\n",
              "                       3.8650,  1.6158,  0.7470,  3.4535,  0.7027,  1.0913,  4.9672,  6.1233,\n",
              "                       9.1259,  1.0176,  2.3645,  1.9928,  1.2842,  3.7760,  1.6071,  2.9711,\n",
              "                       5.0242,  5.0862,  1.2285,  0.9546,  5.7261, 10.7916,  1.6991,  1.0693,\n",
              "                       2.4536,  9.7191,  8.7337,  2.5825,  0.5914,  3.2359,  1.6057,  2.2145,\n",
              "                       2.8602,  4.0845,  3.0618,  1.3941,  4.7997,  2.3096,  2.8810,  1.7578,\n",
              "                       1.8312,  1.8753,  2.0331,  1.8463,  4.8217,  6.3475,  0.8552,  3.7888,\n",
              "                       4.5817,  5.1246,  1.6703,  1.7601,  4.6218,  1.0843,  1.7283,  3.2792,\n",
              "                       2.1714,  3.4380,  3.9876,  3.1121,  0.4455,  0.9504,  8.3923,  2.5950,\n",
              "                       3.2594,  2.6161,  2.4482,  2.7640,  7.2734,  2.1204,  1.8397,  0.7923,\n",
              "                      12.7687,  2.8082,  2.5635,  0.5524,  1.2039,  3.2317,  5.2264,  2.8886,\n",
              "                       1.9482,  7.3899,  0.6413,  1.0652,  7.9885,  3.8350,  3.3116,  4.6144,\n",
              "                       9.3811,  1.1214,  1.0168,  3.5086,  2.4474, 13.3296,  4.8562,  3.1633,\n",
              "                       5.2038,  2.7946,  2.4750,  3.6439,  0.6269,  1.9120,  0.5274,  6.9551,\n",
              "                       0.9758,  1.6285,  2.3578,  5.9563,  1.5179,  2.6597,  5.9448,  4.4338,\n",
              "                       4.4554,  3.4736,  1.5098,  0.4341,  8.8395,  1.6974,  1.9607,  3.6661,\n",
              "                       0.6803,  0.5057, 11.1511,  2.2819,  2.7391,  4.0566,  0.3882,  4.5856,\n",
              "                       2.0441,  3.2678,  1.2809,  2.1628,  4.6670,  8.5551,  6.3114,  4.2206,\n",
              "                       3.6217,  0.7647,  4.4468,  0.4976,  6.9330,  1.9837,  3.3197,  1.5737,\n",
              "                       5.3854,  4.5795,  3.6956,  0.6103,  0.7593,  3.5707,  9.6130,  2.2237,\n",
              "                       0.5896,  4.2504,  2.6692,  5.8158,  0.4900,  1.7858,  0.6543,  0.3894,\n",
              "                       2.5029,  1.3878,  9.5273,  1.7841,  3.5038,  1.1282,  0.5402,  1.6901,\n",
              "                       1.9560,  1.6871,  3.5386,  0.6011,  1.6092,  0.6232, 10.0564,  3.7099,\n",
              "                       8.4132,  1.6646,  4.7874,  3.7193, 10.2753,  4.0509,  5.4421,  2.9777,\n",
              "                       1.1613,  7.7110,  3.3365,  3.0772,  3.7259, 10.0410,  5.9433,  0.5034,\n",
              "                       1.3857,  6.5244,  0.9997,  8.8515,  4.0041,  2.5402,  1.4387,  7.0511,\n",
              "                       1.7024,  0.8868,  1.2058,  4.5624,  1.7179,  1.4775,  7.0048,  9.0793,\n",
              "                       2.5723,  8.2738,  0.7489,  1.2023,  0.4615,  0.8113,  3.0044,  0.9712,\n",
              "                       0.3913,  1.6129,  2.7008,  4.5088,  1.9328,  3.8395,  1.0237,  1.2953,\n",
              "                       2.5509,  1.9415,  3.9097,  1.5669,  7.9731,  4.9828,  1.0821,  3.7991,\n",
              "                       1.2161,  3.5384,  1.5928,  4.3806,  3.7893,  3.2719,  5.0474, 12.2646,\n",
              "                       4.7920,  2.0850,  2.5402,  0.6085,  3.7467,  7.5085,  0.9287,  5.2542,\n",
              "                       6.2475,  2.9519,  1.0250,  1.5753,  0.4390,  0.5435,  6.8440,  5.5899,\n",
              "                       2.8305,  0.4856,  0.8217,  1.9672,  3.2491,  6.4383,  7.0241, 14.1467,\n",
              "                       2.6237,  4.7583,  1.3777,  2.6873,  7.1443,  1.2941,  9.2080,  1.9781,\n",
              "                       2.4629,  0.7675,  1.1521,  3.6470,  1.5697,  4.3289,  9.6538,  5.1138,\n",
              "                       2.3250,  3.2863,  2.4550,  2.2675,  1.2098,  7.7018,  4.0143,  4.0714,\n",
              "                       7.2710,  0.9170,  2.9955,  4.1876,  1.4034,  7.9408,  2.6163,  0.7578,\n",
              "                       1.1451,  5.0226,  3.0724,  8.6502,  0.9698,  2.0328,  4.3087,  2.2220,\n",
              "                       2.0775,  2.9119,  2.8853,  4.5539, 15.1306,  1.6119,  5.4007,  9.0299,\n",
              "                       0.8304,  4.1652,  2.9743,  9.0367,  8.6492,  0.8184,  3.4957,  4.5967,\n",
              "                       3.1350,  2.4070,  5.4755,  4.6105,  6.9894,  0.7233,  2.1242,  3.5901,\n",
              "                       4.0306,  5.3095,  2.1416, 10.1602, 10.2624,  1.5835,  3.0867,  1.0650,\n",
              "                       0.9444,  0.6225,  1.9751,  3.0361,  2.4526,  5.0035,  3.7586,  5.5698,\n",
              "                       2.4453,  1.3965,  2.8627,  2.9482,  1.6411,  2.8188,  8.3252,  2.2415,\n",
              "                       7.4650,  4.0857,  2.0898,  0.5994,  6.1628,  2.9837,  3.1306,  2.7009,\n",
              "                       4.5958,  1.6108,  3.5458,  1.8415,  4.4678,  3.1011,  0.5484,  1.3154,\n",
              "                       2.0119,  1.8010,  0.4459,  9.7417,  0.8860,  4.6089,  5.3033, 10.0918,\n",
              "                       1.7049,  4.6036,  5.1543,  2.4478,  1.0850,  7.0557,  5.2475,  1.3344,\n",
              "                       2.5389,  3.2176,  1.1080,  1.4759,  2.8298,  4.6242,  0.6071,  3.7288,\n",
              "                       4.4242,  4.3403,  0.7739,  2.6467,  5.4325,  2.6277,  1.4525,  2.4646,\n",
              "                       7.5825,  2.3456,  3.1023,  7.2664,  3.4278,  4.3349,  1.2322,  1.2546,\n",
              "                      14.1724,  0.8216,  9.2067,  8.3140,  2.1775,  2.6983,  7.9843,  8.1862,\n",
              "                       1.4913,  1.7768,  3.0081,  0.5962, 10.0688,  5.5984,  4.5608,  5.9423,\n",
              "                       2.9332,  4.4768,  7.4748, 12.0065,  1.0578,  9.9988,  0.5507,  4.0136,\n",
              "                       0.7456,  0.7604,  4.8204,  2.9485,  3.2769,  2.9098,  8.4456,  1.2291,\n",
              "                       5.4593,  9.3276,  2.2367,  3.5516,  1.9984,  0.4236,  3.7034,  4.5946,\n",
              "                       4.8806,  6.0310,  7.0150,  3.7735,  5.4718,  2.4583,  7.5913,  1.8825,\n",
              "                       0.7790,  5.1213,  9.0981,  0.6363,  3.3220,  5.9894,  0.9892,  1.6126,\n",
              "                       4.6460,  1.3089,  8.2235,  3.0080,  2.8917,  0.6220,  3.0918,  3.0987,\n",
              "                       2.2274,  6.7643,  4.2987,  0.7705,  5.6911,  3.7177,  4.6864,  8.2330,\n",
              "                       7.6855,  3.0043,  3.7875,  2.9117,  0.7274,  5.9356,  3.3096, 10.8584,\n",
              "                      10.6622,  4.1669,  0.5505,  3.0500,  6.2638,  5.1907,  7.0153,  0.4574,\n",
              "                       1.0659,  3.8953,  7.7620,  1.5462, 12.1959,  6.9634,  3.9221,  2.7654,\n",
              "                       7.7085,  1.5710,  0.8832,  4.5709,  3.1722,  5.8409,  3.4616,  2.1663,\n",
              "                       1.3898,  9.5883,  2.7509,  2.8153,  9.5853,  0.5293,  3.1897,  3.6952,\n",
              "                       2.5070,  2.0585,  3.5406,  3.6137,  2.7047,  5.9751,  7.8965,  2.9330,\n",
              "                       3.5381,  2.5944,  2.8016,  2.0626,  6.1480,  9.0880,  2.5255, 18.4164,\n",
              "                       2.0174,  1.0959,  8.1406,  2.0052,  9.2707,  0.9926,  7.6677,  3.0921,\n",
              "                       5.1556,  7.9967,  3.2346,  6.4750,  5.5072,  4.7302,  1.4642,  6.7898,\n",
              "                       1.3940,  0.9819,  0.6156,  3.6001,  6.1682,  4.0710,  4.8109,  1.9674,\n",
              "                       3.8613,  2.5362,  2.1881,  1.0406,  4.0041,  8.0092,  0.5858,  3.6273,\n",
              "                       7.4116,  1.6651,  6.5911,  2.2042,  2.5884,  1.8433,  3.5344,  4.8307,\n",
              "                       3.4282,  4.6399,  3.1845,  3.9677,  1.3782,  2.1784,  0.5584,  1.4792,\n",
              "                       1.2247,  1.2335,  7.6875,  0.3541,  2.7034,  1.6282,  0.7681,  8.4735,\n",
              "                       5.5085,  2.6465,  5.0206,  0.6023,  2.4216,  7.4748,  4.0522,  4.4318,\n",
              "                       2.0742,  0.5567, 11.6329,  0.7765,  0.8304,  3.6028,  2.8631,  3.5889,\n",
              "                       1.3462,  1.0587,  1.2683,  2.7350,  6.4185,  1.7525,  0.6940,  3.5620,\n",
              "                       0.7667,  4.2272,  5.6679,  1.3165,  4.7253,  3.1403,  1.3162,  2.1469,\n",
              "                       4.4531,  0.7914,  1.6058,  9.5437,  5.3938,  5.0821,  2.0304,  1.0816,\n",
              "                       7.0437,  1.8412,  3.3271,  1.0184,  3.5366,  9.6134,  1.5496,  3.8971,\n",
              "                       1.4979,  3.3686,  1.7028,  0.8008,  7.1474,  0.9491,  4.3674,  2.3688,\n",
              "                       0.7644,  9.2986,  5.0356,  2.7525,  4.7973,  8.0192,  6.6183,  5.2036,\n",
              "                       0.7887,  1.7800,  4.2952,  6.0816,  1.7103,  5.0602,  1.4137,  2.8930,\n",
              "                       3.3939,  2.8904,  5.1295,  9.6386,  1.7483,  3.0590,  1.8400,  0.7335,\n",
              "                       3.3627,  1.3363,  0.5900,  1.8494,  1.1877,  4.9691,  2.8668,  2.6259,\n",
              "                       7.4104,  0.9670,  3.2062,  4.9842,  3.9733,  1.2827,  2.5463,  4.0708,\n",
              "                       0.9982,  4.4389,  1.8293,  1.6845,  6.1660,  7.8941,  5.7358,  3.2990,\n",
              "                       9.0454,  5.2774,  3.4460,  2.1717,  5.7006,  2.5376,  3.1392,  4.5874,\n",
              "                       6.2889,  2.7878,  1.1574,  4.8497,  0.6035,  6.9795,  6.8117,  4.4478,\n",
              "                       3.5304,  1.0182,  1.4169,  2.4412,  0.5665,  4.6289,  5.0998,  0.5842,\n",
              "                       4.4867,  3.8580,  5.2378,  6.6833,  1.5898,  8.9511, 10.5245,  1.7119,\n",
              "                       1.3012, 19.5306,  0.6109,  1.4909,  2.9000,  6.0598,  3.9853,  1.4069,\n",
              "                       1.6737,  0.3628,  7.0849,  4.4102,  3.0772,  1.6827,  5.0167,  6.1472,\n",
              "                       1.1680,  5.5245,  1.6934,  4.6728,  4.7125,  5.5350,  5.7624,  3.3757,\n",
              "                       1.2071,  1.2947,  5.2213,  0.9052,  0.8035,  3.3853,  0.7494,  3.4702,\n",
              "                       0.7157,  0.5461,  0.9978,  4.8772,  0.6610,  1.4069, 11.6493,  2.7172,\n",
              "                       2.2502,  0.5323,  4.2825,  1.8484,  0.7076,  1.4473,  1.7077,  1.4793,\n",
              "                       9.7472,  3.2695,  3.5644,  4.3383,  4.3195,  1.4789,  2.5813,  0.9891,\n",
              "                      11.3239,  3.8453,  6.5058,  8.0621, 12.2864,  2.6582,  1.1368,  7.4755,\n",
              "                       0.8595,  2.7237,  4.9210,  4.8135,  5.0001,  1.1749,  3.7653,  4.6883,\n",
              "                       2.2581,  4.2198,  1.4383,  6.6495,  5.4564,  3.4742,  9.4133,  5.6430,\n",
              "                       8.9761,  9.8896,  0.5468,  5.7598,  3.8113,  1.2678,  1.7127,  4.7513,\n",
              "                       7.8948,  0.5682,  1.6306,  3.2910, 15.4003,  4.9026,  1.2810,  2.4062],\n",
              "                     device='cuda:0')),\n",
              "             ('bnlinear.num_batches_tracked', tensor(420, device='cuda:0'))])"
            ]
          },
          "metadata": {
            "tags": []
          },
          "execution_count": 21
        }
      ]
    },
    {
      "metadata": {
        "id": "A57QCxB-FN20",
        "colab_type": "code",
        "colab": {
          "base_uri": "https://localhost:8080/",
          "height": 571
        },
        "outputId": "038043bf-c4ea-4563-d568-a6ff77119ab9"
      },
      "cell_type": "code",
      "source": [
        "import matplotlib.pyplot as plt\n",
        "%matplotlib inline\n",
        "#Loss\n",
        "x = range(15)\n",
        "plt.figure()\n",
        "plt.plot(x, stats[0], \"b\", label=\"train\")\n",
        "plt.plot(x, stats[2], \"r\", label=\"valid\")\n",
        "plt.title(\"Loss values\")\n",
        "plt.xlabel(\"Epoch\")\n",
        "plt.ylabel(\"Epoch loss\")\n",
        "plt.legend()\n",
        "#plt.savefig(\"Loss.png\")\n",
        "plt.show()\n",
        "#Accu\n",
        "x = range(15)\n",
        "plt.figure()\n",
        "plt.plot(x, stats[1], \"b\", label=\"train\")\n",
        "plt.plot(x, stats[3], \"r\", label=\"valid\")\n",
        "plt.title(\"Accuracy values\")\n",
        "plt.xlabel(\"Epoch\")\n",
        "plt.ylabel(\"Epoch accuracy\")\n",
        "plt.legend()\n",
        "#plt.savefig(\"Accu.png\")\n",
        "plt.show()"
      ],
      "execution_count": 19,
      "outputs": [
        {
          "output_type": "display_data",
          "data": {
            "image/png": "[encoded data removed]",
            "text/plain": [
              "<Figure size 432x288 with 1 Axes>"
            ]
          },
          "metadata": {
            "tags": []
          }
        },
        {
          "output_type": "display_data",
          "data": {
            "image/png": "[encoded data removed]",
            "text/plain": [
              "<Figure size 432x288 with 1 Axes>"
            ]
          },
          "metadata": {
            "tags": []
          }
        }
      ]
    },
    {
      "metadata": {
        "id": "9kqRI3DCofUH",
        "colab_type": "code",
        "colab": {
          "base_uri": "https://localhost:8080/",
          "height": 102
        },
        "outputId": "ec1afbc0-d6f5-4668-8a93-6806239f3eee"
      },
      "cell_type": "code",
      "source": [
        "# test prediction score\n",
        "\n",
        "best_model.eval()\n",
        "best_model.cuda()\n",
        "running_test = 0\n",
        "for x_batch, y_batch in tqdm(dataloaders['test']):\n",
        "    \n",
        "    x_batch = x_batch.cuda()\n",
        "    y_batch = y_batch.cuda()\n",
        "    \n",
        "    out = best_model(x_batch)\n",
        "    _, preds = torch.max(out, 1)\n",
        "    running_test += int(torch.sum(preds == y_batch))\n",
        "test_score = running_test / dataset_sizes['test']\n",
        "print(\"test accuracy is {:.4f}\".format(test_score))\n",
        "    "
      ],
      "execution_count": 22,
      "outputs": [
        {
          "output_type": "stream",
          "text": [
            "\n",
            "  0%|          | 0/5 [00:00<?, ?it/s]\u001b[A\n",
            " 20%|██        | 1/5 [00:02<00:11,  2.91s/it]\u001b[A\n",
            " 60%|██████    | 3/5 [00:03<00:04,  2.06s/it]\u001b[A\n",
            "100%|██████████| 5/5 [00:03<00:00,  1.58it/s]\u001b[A"
          ],
          "name": "stderr"
        },
        {
          "output_type": "stream",
          "text": [
            "test accuracy is 0.5556\n"
          ],
          "name": "stdout"
        }
      ]
    },
    {
      "metadata": {
        "id": "pCJ2jWe_eqel",
        "colab_type": "code",
        "colab": {}
      },
      "cell_type": "code",
      "source": [
        ""
      ],
      "execution_count": 0,
      "outputs": []
    }
  ]
}